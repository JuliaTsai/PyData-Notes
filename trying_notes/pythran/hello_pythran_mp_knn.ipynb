{
 "metadata": {
  "name": "",
  "signature": "sha256:1aa8158ff7d2e398ad45820e8fd778aca59fbc9f9bc3d279bd22de8577960ab8"
 },
 "nbformat": 3,
 "nbformat_minor": 0,
 "worksheets": [
  {
   "cells": [
    {
     "cell_type": "markdown",
     "metadata": {},
     "source": [
      "## Pythran\n",
      "\n",
      "- http://pythonhosted.org/pythran/MANUAL.html"
     ]
    },
    {
     "cell_type": "code",
     "collapsed": false,
     "input": [],
     "language": "python",
     "metadata": {},
     "outputs": []
    },
    {
     "cell_type": "code",
     "collapsed": false,
     "input": [],
     "language": "python",
     "metadata": {},
     "outputs": [],
     "prompt_number": 1
    },
    {
     "cell_type": "code",
     "collapsed": false,
     "input": [
      "import numpy as np\n",
      "m = 1000000\n",
      "n = 40\n",
      "X = np.random.rand(m,n)\n",
      "x = 0.1*np.ones(n)\n",
      "y = np.random.rand(m).astype(np.float_)"
     ],
     "language": "python",
     "metadata": {},
     "outputs": [],
     "prompt_number": 1
    },
    {
     "cell_type": "code",
     "collapsed": false,
     "input": [
      "X"
     ],
     "language": "python",
     "metadata": {},
     "outputs": [
      {
       "metadata": {},
       "output_type": "pyout",
       "prompt_number": 2,
       "text": [
        "array([[ 0.10214101,  0.90176455,  0.04096316, ...,  0.9013853 ,\n",
        "         0.81055696,  0.89457962],\n",
        "       [ 0.88438595,  0.59362824,  0.68283848, ...,  0.52078668,\n",
        "         0.60892762,  0.35517984],\n",
        "       [ 0.61544963,  0.56357469,  0.71070996, ...,  0.86864595,\n",
        "         0.64764898,  0.16484083],\n",
        "       ..., \n",
        "       [ 0.46074967,  0.35483837,  0.31277798, ...,  0.3340754 ,\n",
        "         0.19793481,  0.59220904],\n",
        "       [ 0.75465134,  0.3241069 ,  0.36132335, ...,  0.17563131,\n",
        "         0.11472388,  0.15558162],\n",
        "       [ 0.93770681,  0.10274808,  0.73020718, ...,  0.72961233,\n",
        "         0.57313427,  0.5813279 ]])"
       ]
      }
     ],
     "prompt_number": 2
    },
    {
     "cell_type": "code",
     "collapsed": false,
     "input": [],
     "language": "python",
     "metadata": {},
     "outputs": [],
     "prompt_number": 2
    },
    {
     "cell_type": "code",
     "collapsed": false,
     "input": [
      "x"
     ],
     "language": "python",
     "metadata": {},
     "outputs": [
      {
       "metadata": {},
       "output_type": "pyout",
       "prompt_number": 3,
       "text": [
        "array([ 0.1,  0.1,  0.1,  0.1,  0.1,  0.1,  0.1,  0.1,  0.1,  0.1,  0.1,\n",
        "        0.1,  0.1,  0.1,  0.1,  0.1,  0.1,  0.1,  0.1,  0.1,  0.1,  0.1,\n",
        "        0.1,  0.1,  0.1,  0.1,  0.1,  0.1,  0.1,  0.1,  0.1,  0.1,  0.1,\n",
        "        0.1,  0.1,  0.1,  0.1,  0.1,  0.1,  0.1])"
       ]
      }
     ],
     "prompt_number": 3
    },
    {
     "cell_type": "code",
     "collapsed": false,
     "input": [
      "y = np.random.rand(m).astype(np.float_)"
     ],
     "language": "python",
     "metadata": {},
     "outputs": [],
     "prompt_number": 4
    },
    {
     "cell_type": "code",
     "collapsed": false,
     "input": [
      "y"
     ],
     "language": "python",
     "metadata": {},
     "outputs": [
      {
       "metadata": {},
       "output_type": "pyout",
       "prompt_number": 5,
       "text": [
        "array([ 0.14355493,  0.98043551,  0.96078843, ...,  0.73168555,\n",
        "        0.30983973,  0.46800516])"
       ]
      }
     ],
     "prompt_number": 5
    },
    {
     "cell_type": "code",
     "collapsed": false,
     "input": [
      "m,n = X.shape"
     ],
     "language": "python",
     "metadata": {},
     "outputs": [],
     "prompt_number": 6
    },
    {
     "cell_type": "code",
     "collapsed": false,
     "input": [
      "m,n"
     ],
     "language": "python",
     "metadata": {},
     "outputs": [
      {
       "metadata": {},
       "output_type": "pyout",
       "prompt_number": 7,
       "text": [
        "(1000000, 40)"
       ]
      }
     ],
     "prompt_number": 7
    },
    {
     "cell_type": "code",
     "collapsed": false,
     "input": [
      "%%file mp_knn_tools.py\n",
      "#pythran export knn_err_sum(float[], float[][])\n",
      "import numpy as np\n",
      "\n",
      "def knn_err_sum(x, X):\n",
      "    return np.array([np.abs(X[:,i] - x[i]) for i in range(x.shape[0])]).T.sum(1)\n"
     ],
     "language": "python",
     "metadata": {},
     "outputs": [
      {
       "output_type": "stream",
       "stream": "stdout",
       "text": [
        "Writing mp_knn_tools.py\n"
       ]
      }
     ],
     "prompt_number": 12
    },
    {
     "cell_type": "code",
     "collapsed": false,
     "input": [
      "!pythran -fopenmp -march=corei7-avx mp_knn_tools.py"
     ],
     "language": "python",
     "metadata": {},
     "outputs": [
      {
       "output_type": "stream",
       "stream": "stdout",
       "text": [
        "WARNING: Disabling color, you really want to install colorlog.\r\n"
       ]
      }
     ],
     "prompt_number": 13
    },
    {
     "cell_type": "code",
     "collapsed": false,
     "input": [
      "!rm mp_knn_tools.py*"
     ],
     "language": "python",
     "metadata": {},
     "outputs": [],
     "prompt_number": 14
    },
    {
     "cell_type": "code",
     "collapsed": false,
     "input": [
      "!ls"
     ],
     "language": "python",
     "metadata": {},
     "outputs": [
      {
       "output_type": "stream",
       "stream": "stdout",
       "text": [
        "arc_distance.py  dprod.py  hello_pythran.ipynb\t       mp_knn_tools.so\trosen.so\r\n",
        "arc_distance.so  dprod.so  hello_pythran_mp_knn.ipynb  rosen.py\r\n"
       ]
      }
     ],
     "prompt_number": 15
    },
    {
     "cell_type": "code",
     "collapsed": false,
     "input": [
      "import mp_knn_tools"
     ],
     "language": "python",
     "metadata": {},
     "outputs": [],
     "prompt_number": 16
    },
    {
     "cell_type": "code",
     "collapsed": false,
     "input": [
      "%time mp_test = mp_knn_tools.knn_err_sum(x,X)"
     ],
     "language": "python",
     "metadata": {},
     "outputs": [
      {
       "output_type": "stream",
       "stream": "stdout",
       "text": [
        "CPU times: user 632 ms, sys: 59.9 ms, total: 692 ms\n",
        "Wall time: 692 ms\n"
       ]
      }
     ],
     "prompt_number": 17
    },
    {
     "cell_type": "code",
     "collapsed": false,
     "input": [
      "mp_test"
     ],
     "language": "python",
     "metadata": {},
     "outputs": [
      {
       "metadata": {},
       "output_type": "pyout",
       "prompt_number": 18,
       "text": [
        "array([ 14.91891931,  17.13230812,  18.01690237, ...,  15.07016536,\n",
        "        16.59625594,  19.81942841])"
       ]
      }
     ],
     "prompt_number": 18
    },
    {
     "cell_type": "code",
     "collapsed": false,
     "input": [
      "def py_knn_err_sum(x, X):\n",
      "    return np.array([np.abs(X[:,i] - x[i]) for i in range(x.shape[0])]).T.sum(1)\n"
     ],
     "language": "python",
     "metadata": {},
     "outputs": [],
     "prompt_number": 19
    },
    {
     "cell_type": "code",
     "collapsed": false,
     "input": [
      "%time py_test = py_knn_err_sum(x,X)"
     ],
     "language": "python",
     "metadata": {},
     "outputs": [
      {
       "output_type": "stream",
       "stream": "stdout",
       "text": [
        "CPU times: user 3.07 s, sys: 53 ms, total: 3.12 s\n",
        "Wall time: 3.12 s\n"
       ]
      }
     ],
     "prompt_number": 20
    },
    {
     "cell_type": "code",
     "collapsed": false,
     "input": [
      "np.abs(mp_test - py_test).sum()"
     ],
     "language": "python",
     "metadata": {},
     "outputs": [
      {
       "metadata": {},
       "output_type": "pyout",
       "prompt_number": 21,
       "text": [
        "0.0"
       ]
      }
     ],
     "prompt_number": 21
    },
    {
     "cell_type": "code",
     "collapsed": false,
     "input": [],
     "language": "python",
     "metadata": {},
     "outputs": []
    }
   ],
   "metadata": {}
  }
 ]
}