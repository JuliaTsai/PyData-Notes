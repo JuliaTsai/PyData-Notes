{
 "metadata": {
  "name": "",
  "signature": "sha256:7cc295ba4f7f52eed223ca16d046dec589ac5b3daba4d0234cdfa9d099b77ff3"
 },
 "nbformat": 3,
 "nbformat_minor": 0,
 "worksheets": [
  {
   "cells": [
    {
     "cell_type": "markdown",
     "metadata": {},
     "source": [
      "## Pythran\n",
      "\n",
      "- http://pythonhosted.org/pythran/MANUAL.html"
     ]
    },
    {
     "cell_type": "code",
     "collapsed": false,
     "input": [],
     "language": "python",
     "metadata": {},
     "outputs": []
    },
    {
     "cell_type": "code",
     "collapsed": false,
     "input": [],
     "language": "python",
     "metadata": {},
     "outputs": [],
     "prompt_number": 1
    },
    {
     "cell_type": "code",
     "collapsed": false,
     "input": [
      "import numpy as np\n",
      "m = 1000000\n",
      "n = 40\n",
      "X = np.random.rand(m,n)\n",
      "x = 0.1*np.ones(n)\n",
      "y = np.random.rand(m).astype(np.float_)"
     ],
     "language": "python",
     "metadata": {},
     "outputs": [],
     "prompt_number": 1
    },
    {
     "cell_type": "code",
     "collapsed": false,
     "input": [
      "X"
     ],
     "language": "python",
     "metadata": {},
     "outputs": [
      {
       "metadata": {},
       "output_type": "pyout",
       "prompt_number": 2,
       "text": [
        "array([[ 0.61208151,  0.96769869,  0.33439175, ...,  0.70721019,\n",
        "         0.75823063,  0.86086456],\n",
        "       [ 0.02958351,  0.25306025,  0.22451407, ...,  0.83304953,\n",
        "         0.29370807,  0.7912056 ],\n",
        "       [ 0.47052072,  0.99004448,  0.82678922, ...,  0.12322792,\n",
        "         0.7664959 ,  0.3515786 ],\n",
        "       ..., \n",
        "       [ 0.84268073,  0.09640345,  0.56899749, ...,  0.12278071,\n",
        "         0.9865539 ,  0.29875295],\n",
        "       [ 0.0107496 ,  0.18133459,  0.28202476, ...,  0.63075513,\n",
        "         0.97122677,  0.79846509],\n",
        "       [ 0.84294183,  0.54186283,  0.99211324, ...,  0.32132359,\n",
        "         0.52259527,  0.47953545]])"
       ]
      }
     ],
     "prompt_number": 2
    },
    {
     "cell_type": "code",
     "collapsed": false,
     "input": [],
     "language": "python",
     "metadata": {},
     "outputs": [],
     "prompt_number": 2
    },
    {
     "cell_type": "code",
     "collapsed": false,
     "input": [
      "x"
     ],
     "language": "python",
     "metadata": {},
     "outputs": [
      {
       "metadata": {},
       "output_type": "pyout",
       "prompt_number": 3,
       "text": [
        "array([ 0.1,  0.1,  0.1,  0.1,  0.1,  0.1,  0.1,  0.1,  0.1,  0.1,  0.1,\n",
        "        0.1,  0.1,  0.1,  0.1,  0.1,  0.1,  0.1,  0.1,  0.1,  0.1,  0.1,\n",
        "        0.1,  0.1,  0.1,  0.1,  0.1,  0.1,  0.1,  0.1,  0.1,  0.1,  0.1,\n",
        "        0.1,  0.1,  0.1,  0.1,  0.1,  0.1,  0.1])"
       ]
      }
     ],
     "prompt_number": 3
    },
    {
     "cell_type": "code",
     "collapsed": false,
     "input": [
      "y = np.random.rand(m).astype(np.float_)"
     ],
     "language": "python",
     "metadata": {},
     "outputs": [],
     "prompt_number": 4
    },
    {
     "cell_type": "code",
     "collapsed": false,
     "input": [
      "y"
     ],
     "language": "python",
     "metadata": {},
     "outputs": [
      {
       "metadata": {},
       "output_type": "pyout",
       "prompt_number": 5,
       "text": [
        "array([ 0.94597499,  0.68707941,  0.9220163 , ...,  0.09091675,\n",
        "        0.44098226,  0.35972405])"
       ]
      }
     ],
     "prompt_number": 5
    },
    {
     "cell_type": "code",
     "collapsed": false,
     "input": [
      "m,n = X.shape"
     ],
     "language": "python",
     "metadata": {},
     "outputs": [],
     "prompt_number": 6
    },
    {
     "cell_type": "code",
     "collapsed": false,
     "input": [
      "m,n"
     ],
     "language": "python",
     "metadata": {},
     "outputs": [
      {
       "metadata": {},
       "output_type": "pyout",
       "prompt_number": 7,
       "text": [
        "(1000000, 40)"
       ]
      }
     ],
     "prompt_number": 7
    },
    {
     "cell_type": "code",
     "collapsed": false,
     "input": [
      "%%file mp_knn_tools.py\n",
      "#pythran export knn_err_sum(float[], float[][])\n",
      "import numpy as np\n",
      "\n",
      "def knn_err_sum(x, X):\n",
      "    return np.array([np.abs(X[:,i] - x[i]) for i in range(x.shape[0])]).T.sum(1)\n"
     ],
     "language": "python",
     "metadata": {},
     "outputs": [
      {
       "output_type": "stream",
       "stream": "stdout",
       "text": [
        "Writing mp_knn_tools.py\n"
       ]
      }
     ],
     "prompt_number": 8
    },
    {
     "cell_type": "code",
     "collapsed": false,
     "input": [
      "!pythran -fopenmp -march=corei7-avx mp_knn_tools.py"
     ],
     "language": "python",
     "metadata": {},
     "outputs": [
      {
       "output_type": "stream",
       "stream": "stdout",
       "text": [
        "WARNING: Disabling color, you really want to install colorlog.\r\n"
       ]
      }
     ],
     "prompt_number": 9
    },
    {
     "cell_type": "code",
     "collapsed": false,
     "input": [
      "!rm mp_knn_tools.py*"
     ],
     "language": "python",
     "metadata": {},
     "outputs": [],
     "prompt_number": 10
    },
    {
     "cell_type": "code",
     "collapsed": false,
     "input": [
      "!ls"
     ],
     "language": "python",
     "metadata": {},
     "outputs": [
      {
       "output_type": "stream",
       "stream": "stdout",
       "text": [
        "arc_distance.py  dprod.py  hello_pythran.ipynb\t       mp_knn_tools.so\trosen.so\r\n",
        "arc_distance.so  dprod.so  hello_pythran_mp_knn.ipynb  rosen.py\r\n"
       ]
      }
     ],
     "prompt_number": 11
    },
    {
     "cell_type": "code",
     "collapsed": false,
     "input": [
      "import mp_knn_tools"
     ],
     "language": "python",
     "metadata": {},
     "outputs": [],
     "prompt_number": 12
    },
    {
     "cell_type": "code",
     "collapsed": false,
     "input": [
      "%time mp_test = mp_knn_tools.knn_err_sum(x,X)"
     ],
     "language": "python",
     "metadata": {},
     "outputs": [
      {
       "output_type": "stream",
       "stream": "stdout",
       "text": [
        "CPU times: user 662 ms, sys: 61.9 ms, total: 724 ms\n",
        "Wall time: 724 ms\n"
       ]
      }
     ],
     "prompt_number": 13
    },
    {
     "cell_type": "code",
     "collapsed": false,
     "input": [
      "mp_test"
     ],
     "language": "python",
     "metadata": {},
     "outputs": [
      {
       "metadata": {},
       "output_type": "pyout",
       "prompt_number": 14,
       "text": [
        "array([ 15.8711803 ,  18.1752371 ,  18.03610444, ...,  16.26362239,\n",
        "        20.72465991,  17.69334762])"
       ]
      }
     ],
     "prompt_number": 14
    },
    {
     "cell_type": "code",
     "collapsed": false,
     "input": [
      "def py_knn_err_sum(x, X):\n",
      "    x_err = np.array([np.abs(X[:,i] - x[i]) for i in range(x.shape[0])]).T\n",
      "    x_err_sum = x_err.sum(1)\n",
      "    return x_err_sum\n"
     ],
     "language": "python",
     "metadata": {},
     "outputs": [],
     "prompt_number": 16
    },
    {
     "cell_type": "code",
     "collapsed": false,
     "input": [
      "%time py_test = py_knn_err_sum(x,X)"
     ],
     "language": "python",
     "metadata": {},
     "outputs": []
    },
    {
     "cell_type": "code",
     "collapsed": false,
     "input": [
      "np.abs(mp_test - py_test).sum()"
     ],
     "language": "python",
     "metadata": {},
     "outputs": [
      {
       "metadata": {},
       "output_type": "pyout",
       "prompt_number": 23,
       "text": [
        "0.0"
       ]
      }
     ],
     "prompt_number": 23
    },
    {
     "cell_type": "code",
     "collapsed": false,
     "input": [],
     "language": "python",
     "metadata": {},
     "outputs": []
    }
   ],
   "metadata": {}
  }
 ]
}