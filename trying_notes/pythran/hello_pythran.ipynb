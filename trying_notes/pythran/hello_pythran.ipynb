{
 "metadata": {
  "name": "",
  "signature": "sha256:52101e054456d548b0a0cb3e36c03b420dcce8c86989902c882f042e6147a7cd"
 },
 "nbformat": 3,
 "nbformat_minor": 0,
 "worksheets": [
  {
   "cells": [
    {
     "cell_type": "markdown",
     "metadata": {},
     "source": [
      "## Pythran\n",
      "\n",
      "- http://pythonhosted.org/pythran/MANUAL.html"
     ]
    },
    {
     "cell_type": "code",
     "collapsed": false,
     "input": [],
     "language": "python",
     "metadata": {},
     "outputs": [],
     "prompt_number": 1
    },
    {
     "cell_type": "code",
     "collapsed": false,
     "input": [],
     "language": "python",
     "metadata": {},
     "outputs": [],
     "prompt_number": 1
    },
    {
     "cell_type": "code",
     "collapsed": false,
     "input": [
      "%%file dprod.py\n",
      "#pythran export dprod(int list, int list)\n",
      "def dprod(l0,l1):\n",
      "        return sum([x*y for x,y in zip(l0,l1)])"
     ],
     "language": "python",
     "metadata": {},
     "outputs": [
      {
       "output_type": "stream",
       "stream": "stdout",
       "text": [
        "Overwriting dprod.py\n"
       ]
      }
     ],
     "prompt_number": 2
    },
    {
     "cell_type": "code",
     "collapsed": false,
     "input": [
      "!head dprod.py"
     ],
     "language": "python",
     "metadata": {},
     "outputs": [
      {
       "output_type": "stream",
       "stream": "stdout",
       "text": [
        "#pythran export dprod(int list, int list)\r\n",
        "def dprod(l0,l1):\r\n",
        "        return sum([x*y for x,y in zip(l0,l1)])"
       ]
      }
     ],
     "prompt_number": 3
    },
    {
     "cell_type": "code",
     "collapsed": false,
     "input": [
      "!pythran dprod.py"
     ],
     "language": "python",
     "metadata": {},
     "outputs": [
      {
       "output_type": "stream",
       "stream": "stdout",
       "text": [
        "WARNING: Disabling color, you really want to install colorlog.\r\n"
       ]
      }
     ],
     "prompt_number": 4
    },
    {
     "cell_type": "code",
     "collapsed": false,
     "input": [],
     "language": "python",
     "metadata": {},
     "outputs": [],
     "prompt_number": 1
    },
    {
     "cell_type": "code",
     "collapsed": false,
     "input": [
      "%%file arc_distance.py\n",
      "#pythran export arc_distance(float[], float[], float[], float[])\n",
      "import numpy as np\n",
      "def arc_distance(theta_1, phi_1, theta_2, phi_2):\n",
      "    \"\"\"\n",
      "    Calculates the pairwise arc distance\n",
      "    between all points in vector a and b.\n",
      "    \"\"\"\n",
      "    temp = (np.sin((theta_2-theta_1)/2)**2\n",
      "           + np.cos(theta_1)*np.cos(theta_2) * np.sin((phi_2-phi_1)/2)**2)\n",
      "    distance_matrix = 2 * np.arctan2(np.sqrt(temp), np.sqrt(1-temp))\n",
      "    return distance_matrix\n",
      "\n"
     ],
     "language": "python",
     "metadata": {},
     "outputs": [
      {
       "output_type": "stream",
       "stream": "stdout",
       "text": [
        "Writing arc_distance.py\n"
       ]
      }
     ],
     "prompt_number": 6
    },
    {
     "cell_type": "code",
     "collapsed": false,
     "input": [
      "!head -n 20 arc_distance.py"
     ],
     "language": "python",
     "metadata": {},
     "outputs": [
      {
       "output_type": "stream",
       "stream": "stdout",
       "text": [
        "#pythran export arc_distance(float[], float[], float[], float[])\r\n",
        "import numpy as np\r\n",
        "def arc_distance(theta_1, phi_1, theta_2, phi_2):\r\n",
        "    \"\"\"\r\n",
        "    Calculates the pairwise arc distance\r\n",
        "    between all points in vector a and b.\r\n",
        "    \"\"\"\r\n",
        "    temp = (np.sin((theta_2-theta_1)/2)**2\r\n",
        "           + np.cos(theta_1)*np.cos(theta_2) * np.sin((phi_2-phi_1)/2)**2)\r\n",
        "    distance_matrix = 2 * np.arctan2(np.sqrt(temp), np.sqrt(1-temp))\r\n",
        "    return distance_matrix\r\n"
       ]
      }
     ],
     "prompt_number": 7
    },
    {
     "cell_type": "code",
     "collapsed": false,
     "input": [
      "!pythran -fopenmp -march=corei7-avx arc_distance.py"
     ],
     "language": "python",
     "metadata": {},
     "outputs": [
      {
       "output_type": "stream",
       "stream": "stdout",
       "text": [
        "WARNING: Disabling color, you really want to install colorlog.\r\n"
       ]
      }
     ],
     "prompt_number": 15
    },
    {
     "cell_type": "code",
     "collapsed": false,
     "input": [
      "!pythran -fopenmp -march=native arc_distance.py"
     ],
     "language": "python",
     "metadata": {},
     "outputs": [
      {
       "output_type": "stream",
       "stream": "stdout",
       "text": [
        "WARNING: Disabling color, you really want to install colorlog.\r\n"
       ]
      }
     ],
     "prompt_number": 13
    },
    {
     "cell_type": "markdown",
     "metadata": {},
     "source": [
      "## \u4e00\u7a2e\u7b46\u96fb\u684c\u96fb\u4e0d\u540c\u6b65\u7684\u6982\u5ff5\n",
      "\n",
      "## http://stackoverflow.com/questions/943755/gcc-optimization-flags-for-xeon\n"
     ]
    },
    {
     "cell_type": "code",
     "collapsed": false,
     "input": [],
     "language": "python",
     "metadata": {},
     "outputs": []
    },
    {
     "cell_type": "code",
     "collapsed": false,
     "input": [
      "import arc_distance"
     ],
     "language": "python",
     "metadata": {},
     "outputs": [],
     "prompt_number": 10
    },
    {
     "cell_type": "code",
     "collapsed": false,
     "input": [
      "arc_distance"
     ],
     "language": "python",
     "metadata": {},
     "outputs": []
    }
   ],
   "metadata": {}
  }
 ]
}