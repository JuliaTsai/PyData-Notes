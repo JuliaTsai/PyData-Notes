{
 "metadata": {
  "name": "",
  "signature": "sha256:9c31b31d20d9ac1981b22b3500339410e15314a92ea60cd8ab1ca0ed5f1a856a"
 },
 "nbformat": 3,
 "nbformat_minor": 0,
 "worksheets": [
  {
   "cells": [
    {
     "cell_type": "markdown",
     "metadata": {},
     "source": [
      "## Pythran\n",
      "\n",
      "- http://pythonhosted.org/pythran/MANUAL.html"
     ]
    },
    {
     "cell_type": "code",
     "collapsed": false,
     "input": [],
     "language": "python",
     "metadata": {},
     "outputs": []
    },
    {
     "cell_type": "code",
     "collapsed": false,
     "input": [],
     "language": "python",
     "metadata": {},
     "outputs": [],
     "prompt_number": 1
    },
    {
     "cell_type": "code",
     "collapsed": false,
     "input": [
      "import numpy as np\n",
      "def rosen(x):\n",
      "    return sum(100.*(x[1:]-x[:-1]**2.))**2. + (1-x[:-1]**2.)"
     ],
     "language": "python",
     "metadata": {},
     "outputs": [],
     "prompt_number": 7
    },
    {
     "cell_type": "code",
     "collapsed": false,
     "input": [
      "r = np.random.rand(100000)"
     ],
     "language": "python",
     "metadata": {},
     "outputs": [],
     "prompt_number": 8
    },
    {
     "cell_type": "code",
     "collapsed": false,
     "input": [
      "%timeit rosen(r)"
     ],
     "language": "python",
     "metadata": {},
     "outputs": [
      {
       "output_type": "stream",
       "stream": "stdout",
       "text": [
        "10 loops, best of 3: 29.9 ms per loop\n"
       ]
      }
     ],
     "prompt_number": 9
    },
    {
     "cell_type": "code",
     "collapsed": false,
     "input": [],
     "language": "python",
     "metadata": {},
     "outputs": []
    },
    {
     "cell_type": "code",
     "collapsed": false,
     "input": [
      "%%file rosen.py\n",
      "#pythran export rosen(float[])\n",
      "import numpy as np\n",
      "def rosen(x):\n",
      "    return sum(100.*(x[1:]-x[:-1]**2.))**2. + (1-x[:-1]**2.)"
     ],
     "language": "python",
     "metadata": {},
     "outputs": [
      {
       "output_type": "stream",
       "stream": "stdout",
       "text": [
        "Writing rosen.py\n"
       ]
      }
     ],
     "prompt_number": 10
    },
    {
     "cell_type": "code",
     "collapsed": false,
     "input": [
      "!pythran rosen.py"
     ],
     "language": "python",
     "metadata": {},
     "outputs": [
      {
       "output_type": "stream",
       "stream": "stdout",
       "text": [
        "WARNING: Disabling color, you really want to install colorlog.\r\n"
       ]
      }
     ],
     "prompt_number": 11
    },
    {
     "cell_type": "code",
     "collapsed": false,
     "input": [
      "import rosen as mp_rosen"
     ],
     "language": "python",
     "metadata": {},
     "outputs": [],
     "prompt_number": 12
    },
    {
     "cell_type": "code",
     "collapsed": false,
     "input": [
      "%timeit mp_rosen.rosen(r)"
     ],
     "language": "python",
     "metadata": {},
     "outputs": [
      {
       "output_type": "stream",
       "stream": "stdout",
       "text": [
        "1000 loops, best of 3: 369 \u00b5s per loop\n"
       ]
      }
     ],
     "prompt_number": 13
    },
    {
     "cell_type": "code",
     "collapsed": false,
     "input": [],
     "language": "python",
     "metadata": {},
     "outputs": []
    },
    {
     "cell_type": "code",
     "collapsed": false,
     "input": [],
     "language": "python",
     "metadata": {},
     "outputs": []
    },
    {
     "cell_type": "code",
     "collapsed": false,
     "input": [
      "%%file dprod.py\n",
      "#pythran export dprod(int list, int list)\n",
      "def dprod(l0,l1):\n",
      "    return sum([x*y for x,y in zip(l0,l1)])"
     ],
     "language": "python",
     "metadata": {},
     "outputs": [
      {
       "output_type": "stream",
       "stream": "stdout",
       "text": [
        "Overwriting dprod.py\n"
       ]
      }
     ],
     "prompt_number": 2
    },
    {
     "cell_type": "code",
     "collapsed": false,
     "input": [
      "!head dprod.py"
     ],
     "language": "python",
     "metadata": {},
     "outputs": [
      {
       "output_type": "stream",
       "stream": "stdout",
       "text": [
        "#pythran export dprod(int list, int list)\r\n",
        "def dprod(l0,l1):\r\n",
        "    return sum([x*y for x,y in zip(l0,l1)])"
       ]
      }
     ],
     "prompt_number": 3
    },
    {
     "cell_type": "code",
     "collapsed": false,
     "input": [
      "!pythran dprod.py"
     ],
     "language": "python",
     "metadata": {},
     "outputs": [
      {
       "output_type": "stream",
       "stream": "stdout",
       "text": [
        "WARNING: Disabling color, you really want to install colorlog.\r\n"
       ]
      }
     ],
     "prompt_number": 4
    },
    {
     "cell_type": "code",
     "collapsed": false,
     "input": [],
     "language": "python",
     "metadata": {},
     "outputs": [],
     "prompt_number": 1
    },
    {
     "cell_type": "code",
     "collapsed": false,
     "input": [
      "%%file arc_distance.py\n",
      "#pythran export arc_distance(float[], float[], float[], float[])\n",
      "import numpy as np\n",
      "def arc_distance(theta_1, phi_1, theta_2, phi_2):\n",
      "    \"\"\"\n",
      "    Calculates the pairwise arc distance\n",
      "    between all points in vector a and b.\n",
      "    \"\"\"\n",
      "    temp = (np.sin((theta_2-theta_1)/2)**2\n",
      "           + np.cos(theta_1)*np.cos(theta_2) * np.sin((phi_2-phi_1)/2)**2)\n",
      "    distance_matrix = 2 * np.arctan2(np.sqrt(temp), np.sqrt(1-temp))\n",
      "    return distance_matrix\n",
      "\n"
     ],
     "language": "python",
     "metadata": {},
     "outputs": [
      {
       "output_type": "stream",
       "stream": "stdout",
       "text": [
        "Writing arc_distance.py\n"
       ]
      }
     ],
     "prompt_number": 6
    },
    {
     "cell_type": "code",
     "collapsed": false,
     "input": [
      "!head -n 20 arc_distance.py"
     ],
     "language": "python",
     "metadata": {},
     "outputs": [
      {
       "output_type": "stream",
       "stream": "stdout",
       "text": [
        "#pythran export arc_distance(float[], float[], float[], float[])\r\n",
        "import numpy as np\r\n",
        "def arc_distance(theta_1, phi_1, theta_2, phi_2):\r\n",
        "    \"\"\"\r\n",
        "    Calculates the pairwise arc distance\r\n",
        "    between all points in vector a and b.\r\n",
        "    \"\"\"\r\n",
        "    temp = (np.sin((theta_2-theta_1)/2)**2\r\n",
        "           + np.cos(theta_1)*np.cos(theta_2) * np.sin((phi_2-phi_1)/2)**2)\r\n",
        "    distance_matrix = 2 * np.arctan2(np.sqrt(temp), np.sqrt(1-temp))\r\n",
        "    return distance_matrix\r\n"
       ]
      }
     ],
     "prompt_number": 7
    },
    {
     "cell_type": "code",
     "collapsed": false,
     "input": [
      "!pythran -fopenmp -march=corei7-avx arc_distance.py"
     ],
     "language": "python",
     "metadata": {},
     "outputs": [
      {
       "output_type": "stream",
       "stream": "stdout",
       "text": [
        "WARNING: Disabling color, you really want to install colorlog.\r\n"
       ]
      }
     ],
     "prompt_number": 15
    },
    {
     "cell_type": "code",
     "collapsed": false,
     "input": [
      "!pythran -fopenmp -march=native arc_distance.py"
     ],
     "language": "python",
     "metadata": {},
     "outputs": [
      {
       "output_type": "stream",
       "stream": "stdout",
       "text": [
        "WARNING: Disabling color, you really want to install colorlog.\r\n"
       ]
      }
     ],
     "prompt_number": 13
    },
    {
     "cell_type": "markdown",
     "metadata": {},
     "source": [
      "## \u4e00\u7a2e\u7b46\u96fb\u684c\u96fb\u4e0d\u540c\u6b65\u7684\u6982\u5ff5\n",
      "\n",
      "## http://stackoverflow.com/questions/943755/gcc-optimization-flags-for-xeon\n"
     ]
    },
    {
     "cell_type": "code",
     "collapsed": false,
     "input": [],
     "language": "python",
     "metadata": {},
     "outputs": [],
     "prompt_number": 42
    },
    {
     "cell_type": "code",
     "collapsed": false,
     "input": [
      "import arc_distance"
     ],
     "language": "python",
     "metadata": {},
     "outputs": [],
     "prompt_number": 17
    },
    {
     "cell_type": "code",
     "collapsed": false,
     "input": [
      "import numpy as np"
     ],
     "language": "python",
     "metadata": {},
     "outputs": [],
     "prompt_number": 18
    },
    {
     "cell_type": "code",
     "collapsed": false,
     "input": [
      "testx = [np.linspace(0,1,101) + i*0.01 for i in range(4)]"
     ],
     "language": "python",
     "metadata": {},
     "outputs": [],
     "prompt_number": 19
    },
    {
     "cell_type": "code",
     "collapsed": false,
     "input": [
      "%timeit arc_distance.arc_distance(*testx)"
     ],
     "language": "python",
     "metadata": {},
     "outputs": [
      {
       "output_type": "stream",
       "stream": "stdout",
       "text": [
        "10000 loops, best of 3: 24.8 \u00b5s per loop\n"
       ]
      }
     ],
     "prompt_number": 27
    },
    {
     "cell_type": "code",
     "collapsed": false,
     "input": [
      "%time test = arc_distance.arc_distance(*testx)"
     ],
     "language": "python",
     "metadata": {},
     "outputs": [
      {
       "output_type": "stream",
       "stream": "stdout",
       "text": [
        "CPU times: user 54 \u00b5s, sys: 15 \u00b5s, total: 69 \u00b5s\n",
        "Wall time: 74.9 \u00b5s\n"
       ]
      }
     ],
     "prompt_number": 28
    },
    {
     "cell_type": "code",
     "collapsed": false,
     "input": [
      "def py_arc_distance(theta_1, phi_1, theta_2, phi_2):\n",
      "    \"\"\"\n",
      "    Calculates the pairwise arc distance\n",
      "    between all points in vector a and b.\n",
      "    \"\"\"\n",
      "    temp = (np.sin((theta_2-theta_1)/2)**2\n",
      "           + np.cos(theta_1)*np.cos(theta_2) * np.sin((phi_2-phi_1)/2)**2)\n",
      "    distance_matrix = 2 * np.arctan2(np.sqrt(temp), np.sqrt(1-temp))\n",
      "    return distance_matrix"
     ],
     "language": "python",
     "metadata": {},
     "outputs": [],
     "prompt_number": 22
    },
    {
     "cell_type": "code",
     "collapsed": false,
     "input": [],
     "language": "python",
     "metadata": {},
     "outputs": [],
     "prompt_number": 22
    },
    {
     "cell_type": "code",
     "collapsed": false,
     "input": [
      "%timeit py_arc_distance(*testx)"
     ],
     "language": "python",
     "metadata": {},
     "outputs": [
      {
       "output_type": "stream",
       "stream": "stdout",
       "text": [
        "10000 loops, best of 3: 57.2 \u00b5s per loop\n"
       ]
      }
     ],
     "prompt_number": 31
    },
    {
     "cell_type": "code",
     "collapsed": false,
     "input": [],
     "language": "python",
     "metadata": {},
     "outputs": []
    },
    {
     "cell_type": "code",
     "collapsed": false,
     "input": [
      "test"
     ],
     "language": "python",
     "metadata": {},
     "outputs": [
      {
       "metadata": {},
       "output_type": "pyout",
       "prompt_number": 30,
       "text": [
        "array([ 0.02828333,  0.02828121,  0.02827767,  0.02827272,  0.02826637,\n",
        "        0.0282586 ,  0.02824942,  0.02823884,  0.02822685,  0.02821346,\n",
        "        0.02819868,  0.02818251,  0.02816494,  0.02814599,  0.02812567,\n",
        "        0.02810396,  0.02808089,  0.02805646,  0.02803067,  0.02800352,\n",
        "        0.02797504,  0.02794522,  0.02791407,  0.0278816 ,  0.02784781,\n",
        "        0.02781273,  0.02777635,  0.02773869,  0.02769975,  0.02765954,\n",
        "        0.02761809,  0.02757539,  0.02753146,  0.0274863 ,  0.02743995,\n",
        "        0.02739239,  0.02734365,  0.02729375,  0.02724268,  0.02719048,\n",
        "        0.02713715,  0.02708271,  0.02702716,  0.02697054,  0.02691285,\n",
        "        0.02685411,  0.02679434,  0.02673355,  0.02667176,  0.026609  ,\n",
        "        0.02654526,  0.02648059,  0.02641499,  0.02634849,  0.0262811 ,\n",
        "        0.02621284,  0.02614374,  0.02607381,  0.02600309,  0.02593158,\n",
        "        0.02585931,  0.02578631,  0.0257126 ,  0.0256382 ,  0.02556313,\n",
        "        0.02548742,  0.0254111 ,  0.02533418,  0.0252567 ,  0.02517868,\n",
        "        0.02510014,  0.02502112,  0.02494164,  0.02486173,  0.02478141,\n",
        "        0.02470072,  0.02461968,  0.02453832,  0.02445668,  0.02437478,\n",
        "        0.02429264,  0.02421032,  0.02412782,  0.02404519,  0.02396246,\n",
        "        0.02387966,  0.02379681,  0.02371397,  0.02363115,  0.02354839,\n",
        "        0.02346573,  0.0233832 ,  0.02330083,  0.02321866,  0.02313673,\n",
        "        0.02305506,  0.0229737 ,  0.02289269,  0.02281205,  0.02273182,\n",
        "        0.02265205])"
       ]
      }
     ],
     "prompt_number": 30
    },
    {
     "cell_type": "code",
     "collapsed": false,
     "input": [
      "testx"
     ],
     "language": "python",
     "metadata": {},
     "outputs": [
      {
       "metadata": {},
       "output_type": "pyout",
       "prompt_number": 25,
       "text": [
        "[array([ 0.  ,  0.01,  0.02,  0.03,  0.04,  0.05,  0.06,  0.07,  0.08,\n",
        "         0.09,  0.1 ,  0.11,  0.12,  0.13,  0.14,  0.15,  0.16,  0.17,\n",
        "         0.18,  0.19,  0.2 ,  0.21,  0.22,  0.23,  0.24,  0.25,  0.26,\n",
        "         0.27,  0.28,  0.29,  0.3 ,  0.31,  0.32,  0.33,  0.34,  0.35,\n",
        "         0.36,  0.37,  0.38,  0.39,  0.4 ,  0.41,  0.42,  0.43,  0.44,\n",
        "         0.45,  0.46,  0.47,  0.48,  0.49,  0.5 ,  0.51,  0.52,  0.53,\n",
        "         0.54,  0.55,  0.56,  0.57,  0.58,  0.59,  0.6 ,  0.61,  0.62,\n",
        "         0.63,  0.64,  0.65,  0.66,  0.67,  0.68,  0.69,  0.7 ,  0.71,\n",
        "         0.72,  0.73,  0.74,  0.75,  0.76,  0.77,  0.78,  0.79,  0.8 ,\n",
        "         0.81,  0.82,  0.83,  0.84,  0.85,  0.86,  0.87,  0.88,  0.89,\n",
        "         0.9 ,  0.91,  0.92,  0.93,  0.94,  0.95,  0.96,  0.97,  0.98,\n",
        "         0.99,  1.  ]),\n",
        " array([ 0.01,  0.02,  0.03,  0.04,  0.05,  0.06,  0.07,  0.08,  0.09,\n",
        "         0.1 ,  0.11,  0.12,  0.13,  0.14,  0.15,  0.16,  0.17,  0.18,\n",
        "         0.19,  0.2 ,  0.21,  0.22,  0.23,  0.24,  0.25,  0.26,  0.27,\n",
        "         0.28,  0.29,  0.3 ,  0.31,  0.32,  0.33,  0.34,  0.35,  0.36,\n",
        "         0.37,  0.38,  0.39,  0.4 ,  0.41,  0.42,  0.43,  0.44,  0.45,\n",
        "         0.46,  0.47,  0.48,  0.49,  0.5 ,  0.51,  0.52,  0.53,  0.54,\n",
        "         0.55,  0.56,  0.57,  0.58,  0.59,  0.6 ,  0.61,  0.62,  0.63,\n",
        "         0.64,  0.65,  0.66,  0.67,  0.68,  0.69,  0.7 ,  0.71,  0.72,\n",
        "         0.73,  0.74,  0.75,  0.76,  0.77,  0.78,  0.79,  0.8 ,  0.81,\n",
        "         0.82,  0.83,  0.84,  0.85,  0.86,  0.87,  0.88,  0.89,  0.9 ,\n",
        "         0.91,  0.92,  0.93,  0.94,  0.95,  0.96,  0.97,  0.98,  0.99,\n",
        "         1.  ,  1.01]),\n",
        " array([ 0.02,  0.03,  0.04,  0.05,  0.06,  0.07,  0.08,  0.09,  0.1 ,\n",
        "         0.11,  0.12,  0.13,  0.14,  0.15,  0.16,  0.17,  0.18,  0.19,\n",
        "         0.2 ,  0.21,  0.22,  0.23,  0.24,  0.25,  0.26,  0.27,  0.28,\n",
        "         0.29,  0.3 ,  0.31,  0.32,  0.33,  0.34,  0.35,  0.36,  0.37,\n",
        "         0.38,  0.39,  0.4 ,  0.41,  0.42,  0.43,  0.44,  0.45,  0.46,\n",
        "         0.47,  0.48,  0.49,  0.5 ,  0.51,  0.52,  0.53,  0.54,  0.55,\n",
        "         0.56,  0.57,  0.58,  0.59,  0.6 ,  0.61,  0.62,  0.63,  0.64,\n",
        "         0.65,  0.66,  0.67,  0.68,  0.69,  0.7 ,  0.71,  0.72,  0.73,\n",
        "         0.74,  0.75,  0.76,  0.77,  0.78,  0.79,  0.8 ,  0.81,  0.82,\n",
        "         0.83,  0.84,  0.85,  0.86,  0.87,  0.88,  0.89,  0.9 ,  0.91,\n",
        "         0.92,  0.93,  0.94,  0.95,  0.96,  0.97,  0.98,  0.99,  1.  ,\n",
        "         1.01,  1.02]),\n",
        " array([ 0.03,  0.04,  0.05,  0.06,  0.07,  0.08,  0.09,  0.1 ,  0.11,\n",
        "         0.12,  0.13,  0.14,  0.15,  0.16,  0.17,  0.18,  0.19,  0.2 ,\n",
        "         0.21,  0.22,  0.23,  0.24,  0.25,  0.26,  0.27,  0.28,  0.29,\n",
        "         0.3 ,  0.31,  0.32,  0.33,  0.34,  0.35,  0.36,  0.37,  0.38,\n",
        "         0.39,  0.4 ,  0.41,  0.42,  0.43,  0.44,  0.45,  0.46,  0.47,\n",
        "         0.48,  0.49,  0.5 ,  0.51,  0.52,  0.53,  0.54,  0.55,  0.56,\n",
        "         0.57,  0.58,  0.59,  0.6 ,  0.61,  0.62,  0.63,  0.64,  0.65,\n",
        "         0.66,  0.67,  0.68,  0.69,  0.7 ,  0.71,  0.72,  0.73,  0.74,\n",
        "         0.75,  0.76,  0.77,  0.78,  0.79,  0.8 ,  0.81,  0.82,  0.83,\n",
        "         0.84,  0.85,  0.86,  0.87,  0.88,  0.89,  0.9 ,  0.91,  0.92,\n",
        "         0.93,  0.94,  0.95,  0.96,  0.97,  0.98,  0.99,  1.  ,  1.01,\n",
        "         1.02,  1.03])]"
       ]
      }
     ],
     "prompt_number": 25
    },
    {
     "cell_type": "code",
     "collapsed": false,
     "input": [],
     "language": "python",
     "metadata": {},
     "outputs": []
    },
    {
     "cell_type": "code",
     "collapsed": false,
     "input": [],
     "language": "python",
     "metadata": {},
     "outputs": []
    },
    {
     "cell_type": "code",
     "collapsed": false,
     "input": [],
     "language": "python",
     "metadata": {},
     "outputs": []
    },
    {
     "cell_type": "code",
     "collapsed": false,
     "input": [],
     "language": "python",
     "metadata": {},
     "outputs": []
    },
    {
     "cell_type": "code",
     "collapsed": false,
     "input": [],
     "language": "python",
     "metadata": {},
     "outputs": [],
     "prompt_number": 9
    },
    {
     "cell_type": "code",
     "collapsed": false,
     "input": [
      "import numpy as np\n",
      "m = 1000000\n",
      "n = 40\n",
      "X = np.random.rand(m,n)\n",
      "x = 0.1*np.ones(n)\n",
      "y = np.random.rand(m).astype(np.float_)"
     ],
     "language": "python",
     "metadata": {},
     "outputs": [],
     "prompt_number": 1
    },
    {
     "cell_type": "code",
     "collapsed": false,
     "input": [
      "X"
     ],
     "language": "python",
     "metadata": {},
     "outputs": [
      {
       "metadata": {},
       "output_type": "pyout",
       "prompt_number": 2,
       "text": [
        "array([[ 0.42325611,  0.33569945,  0.6978296 , ...,  0.30676667,\n",
        "         0.95374667,  0.0888431 ],\n",
        "       [ 0.60448471,  0.65918337,  0.97494739, ...,  0.28392162,\n",
        "         0.41866358,  0.44985453],\n",
        "       [ 0.46073368,  0.32647265,  0.57606301, ...,  0.45508328,\n",
        "         0.82325196,  0.90103185],\n",
        "       ..., \n",
        "       [ 0.35447888,  0.9425015 ,  0.17359545, ...,  0.97372073,\n",
        "         0.74611515,  0.11862672],\n",
        "       [ 0.44286386,  0.1945052 ,  0.49635675, ...,  0.76564948,\n",
        "         0.91537283,  0.80055244],\n",
        "       [ 0.40255756,  0.22347939,  0.31704671, ...,  0.45978189,\n",
        "         0.96859731,  0.92222562]])"
       ]
      }
     ],
     "prompt_number": 2
    },
    {
     "cell_type": "code",
     "collapsed": false,
     "input": [],
     "language": "python",
     "metadata": {},
     "outputs": [],
     "prompt_number": 3
    },
    {
     "cell_type": "code",
     "collapsed": false,
     "input": [
      "x"
     ],
     "language": "python",
     "metadata": {},
     "outputs": [
      {
       "metadata": {},
       "output_type": "pyout",
       "prompt_number": 4,
       "text": [
        "array([ 0.1,  0.1,  0.1,  0.1,  0.1,  0.1,  0.1,  0.1,  0.1,  0.1,  0.1,\n",
        "        0.1,  0.1,  0.1,  0.1,  0.1,  0.1,  0.1,  0.1,  0.1,  0.1,  0.1,\n",
        "        0.1,  0.1,  0.1,  0.1,  0.1,  0.1,  0.1,  0.1,  0.1,  0.1,  0.1,\n",
        "        0.1,  0.1,  0.1,  0.1,  0.1,  0.1,  0.1])"
       ]
      }
     ],
     "prompt_number": 4
    },
    {
     "cell_type": "code",
     "collapsed": false,
     "input": [
      "y = np.random.rand(m).astype(np.float_)"
     ],
     "language": "python",
     "metadata": {},
     "outputs": [],
     "prompt_number": 5
    },
    {
     "cell_type": "code",
     "collapsed": false,
     "input": [
      "y"
     ],
     "language": "python",
     "metadata": {},
     "outputs": [
      {
       "metadata": {},
       "output_type": "pyout",
       "prompt_number": 6,
       "text": [
        "array([ 0.11063493,  0.14396289,  0.07734341, ...,  0.79810952,\n",
        "        0.2546003 ,  0.01783542])"
       ]
      }
     ],
     "prompt_number": 6
    },
    {
     "cell_type": "code",
     "collapsed": false,
     "input": [
      "m,n = X.shape"
     ],
     "language": "python",
     "metadata": {},
     "outputs": [],
     "prompt_number": 7
    },
    {
     "cell_type": "code",
     "collapsed": false,
     "input": [
      "m,n"
     ],
     "language": "python",
     "metadata": {},
     "outputs": [
      {
       "metadata": {},
       "output_type": "pyout",
       "prompt_number": 8,
       "text": [
        "(1000000, 40)"
       ]
      }
     ],
     "prompt_number": 8
    },
    {
     "cell_type": "code",
     "collapsed": false,
     "input": [
      "# %%file mp_knn_tools_slow.py\n",
      "# #pythran export knn_err_sum(float[], float[][])\n",
      "# import numpy as np\n",
      "\n",
      "# def knn_err_sum(x, X):\n",
      "#     x_err = np.array([np.abs(X[:,i] - x[i]) for i in range(x.shape[0])]).T \n",
      "#     x_err_sum = x_err.sum(1)\n",
      "#     return x_err_sum"
     ],
     "language": "python",
     "metadata": {},
     "outputs": [],
     "prompt_number": 9
    },
    {
     "cell_type": "code",
     "collapsed": false,
     "input": [
      "# !pythran -fopenmp -march=corei7-avx mp_knn_tools_slow.py"
     ],
     "language": "python",
     "metadata": {},
     "outputs": [],
     "prompt_number": 10
    },
    {
     "cell_type": "code",
     "collapsed": false,
     "input": [
      "%%file mp_knn_tools.py\n",
      "#pythran export knn_err_sum(float[], float[][])\n",
      "import numpy as np\n",
      "\n",
      "def knn_err_sum(x, X):\n",
      "    return np.array([np.abs(X[:,i] - x[i]) for i in range(x.shape[0])]).T.sum(1)\n"
     ],
     "language": "python",
     "metadata": {},
     "outputs": [
      {
       "output_type": "stream",
       "stream": "stdout",
       "text": [
        "Overwriting mp_knn_tools.py\n"
       ]
      }
     ],
     "prompt_number": 26
    },
    {
     "cell_type": "code",
     "collapsed": false,
     "input": [
      "!pythran -fopenmp -march=corei7-avx mp_knn_tools.py"
     ],
     "language": "python",
     "metadata": {},
     "outputs": [
      {
       "output_type": "stream",
       "stream": "stdout",
       "text": [
        "WARNING: Disabling color, you really want to install colorlog.\r\n"
       ]
      }
     ],
     "prompt_number": 27
    },
    {
     "cell_type": "code",
     "collapsed": false,
     "input": [],
     "language": "python",
     "metadata": {},
     "outputs": [],
     "prompt_number": 13
    },
    {
     "cell_type": "code",
     "collapsed": false,
     "input": [
      "import mp_knn_tools"
     ],
     "language": "python",
     "metadata": {},
     "outputs": [],
     "prompt_number": 14
    },
    {
     "cell_type": "code",
     "collapsed": false,
     "input": [
      "%time mp_test = mp_knn_tools.knn_err_sum(x,X)"
     ],
     "language": "python",
     "metadata": {},
     "outputs": [
      {
       "output_type": "stream",
       "stream": "stdout",
       "text": [
        "CPU times: user 993 ms, sys: 2.84 ms, total: 996 ms\n",
        "Wall time: 996 ms\n"
       ]
      }
     ],
     "prompt_number": 25
    },
    {
     "cell_type": "code",
     "collapsed": false,
     "input": [
      "%timeit mp_knn_tools.knn_err_sum(x,X)"
     ],
     "language": "python",
     "metadata": {},
     "outputs": [
      {
       "output_type": "stream",
       "stream": "stdout",
       "text": [
        "1 loops, best of 3: 963 ms per loop\n"
       ]
      }
     ],
     "prompt_number": 26
    },
    {
     "cell_type": "code",
     "collapsed": false,
     "input": [
      "%timeit mp_knn_tools_slow.knn_err_sum(x,X)"
     ],
     "language": "python",
     "metadata": {},
     "outputs": [
      {
       "output_type": "stream",
       "stream": "stdout",
       "text": [
        "1 loops, best of 3: 1 s per loop\n"
       ]
      }
     ],
     "prompt_number": 27
    },
    {
     "cell_type": "code",
     "collapsed": false,
     "input": [],
     "language": "python",
     "metadata": {},
     "outputs": []
    },
    {
     "cell_type": "code",
     "collapsed": false,
     "input": [
      "test"
     ],
     "language": "python",
     "metadata": {},
     "outputs": [
      {
       "metadata": {},
       "output_type": "pyout",
       "prompt_number": 18,
       "text": [
        "array([ 17.92803899,  14.18813771,  19.51310406, ...,  16.11403369,\n",
        "        15.49644298,  13.20863266])"
       ]
      }
     ],
     "prompt_number": 18
    },
    {
     "cell_type": "code",
     "collapsed": false,
     "input": [
      "def py_knn_err_sum(x, X):\n",
      "    x_err = np.array([np.abs(X[:,i] - x[i]) for i in range(x.shape[0])]).T\n",
      "    x_err_sum = x_err.sum(1)\n",
      "    return x_err_sum\n"
     ],
     "language": "python",
     "metadata": {},
     "outputs": [],
     "prompt_number": 28
    },
    {
     "cell_type": "code",
     "collapsed": false,
     "input": [
      "%time py_knn_err_sum(x,X)"
     ],
     "language": "python",
     "metadata": {},
     "outputs": [
      {
       "output_type": "stream",
       "stream": "stdout",
       "text": [
        "CPU times: user 5.94 s, sys: 102 ms, total: 6.04 s\n",
        "Wall time: 6.06 s\n"
       ]
      },
      {
       "metadata": {},
       "output_type": "pyout",
       "prompt_number": 29,
       "text": [
        "array([ 13.85817124,  17.03449714,  15.14813278, ...,  15.24218659,\n",
        "        19.6159861 ,  18.03015158])"
       ]
      }
     ],
     "prompt_number": 29
    },
    {
     "cell_type": "code",
     "collapsed": false,
     "input": [
      "test"
     ],
     "language": "python",
     "metadata": {},
     "outputs": [
      {
       "metadata": {},
       "output_type": "pyout",
       "prompt_number": 21,
       "text": [
        "array([ 17.92803899,  14.18813771,  19.51310406, ...,  16.11403369,\n",
        "        15.49644298,  13.20863266])"
       ]
      }
     ],
     "prompt_number": 21
    },
    {
     "cell_type": "code",
     "collapsed": false,
     "input": [],
     "language": "python",
     "metadata": {},
     "outputs": []
    }
   ],
   "metadata": {}
  }
 ]
}