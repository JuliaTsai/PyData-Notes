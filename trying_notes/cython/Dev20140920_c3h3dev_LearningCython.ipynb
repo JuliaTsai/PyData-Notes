{
 "metadata": {
  "name": "",
  "signature": "sha256:e42dfb4ff662fad056bd7ced55473eb66a85b2e1c7aaada433d117c0c66538d2"
 },
 "nbformat": 3,
 "nbformat_minor": 0,
 "worksheets": [
  {
   "cells": [
    {
     "cell_type": "markdown",
     "metadata": {},
     "source": [
      "## Cython\n",
      "\n",
      "- http://nbviewer.ipython.org/github/jrjohansson/scientific-python-lectures/blob/master/Lecture-6A-Fortran-and-C.ipynb\n",
      "- http://nbviewer.ipython.org/github/jrjohansson/scientific-python-lectures/blob/master/Lecture-6B-HPC.ipynb\n",
      "- http://ipython.org/ipython-doc/dev/config/extensions/cythonmagic.html\n",
      "- https://github.com/jrjohansson/scientific-python-lectures\n",
      "- https://gist.github.com/zed/2051661\n",
      "\n",
      "\n",
      "## Taipei.py\n",
      "- http://www.meetup.com/Taipei-py/events/169077442/\n",
      "- https://speakerdeck.com/mosky/cython-making-python-as-fast-as-c\n",
      "- https://hackpad.com/Cython-Note-jZzrsFLIMxe"
     ]
    },
    {
     "cell_type": "markdown",
     "metadata": {},
     "source": []
    },
    {
     "cell_type": "markdown",
     "metadata": {},
     "source": []
    },
    {
     "cell_type": "markdown",
     "metadata": {},
     "source": []
    },
    {
     "cell_type": "markdown",
     "metadata": {},
     "source": []
    },
    {
     "cell_type": "code",
     "collapsed": false,
     "input": [
      "%load_ext cythonmagic"
     ],
     "language": "python",
     "metadata": {},
     "outputs": [],
     "prompt_number": 1
    },
    {
     "cell_type": "code",
     "collapsed": false,
     "input": [
      "%%cython -f -c-fopenmp --link-args=-fopenmp -c-g\n",
      "\n",
      "cimport cython\n",
      "cimport numpy\n",
      "from cython.parallel import prange, parallel\n",
      "cimport openmp\n",
      "\n",
      "def cy_openmp_test():\n",
      "\n",
      "    cdef int n, N\n",
      "\n",
      "    # release GIL so that we can use OpenMP\n",
      "    with nogil, parallel():\n",
      "        N = openmp.omp_get_num_threads()\n",
      "        n = openmp.omp_get_thread_num()\n",
      "        with gil:\n",
      "            print(\"Number of threads %d: thread number %d\" % (N, n))"
     ],
     "language": "python",
     "metadata": {},
     "outputs": [],
     "prompt_number": 2
    },
    {
     "cell_type": "code",
     "collapsed": false,
     "input": [
      "%time cy_openmp_test()"
     ],
     "language": "python",
     "metadata": {},
     "outputs": [
      {
       "output_type": "stream",
       "stream": "stdout",
       "text": [
        "Number of threads 8: thread number 0\n",
        "Number of threads 8: thread number 7\n",
        "Number of threads 8: thread number 1\n",
        "Number of threads 8: thread number 5\n",
        "Number of threads 8: thread number 3\n",
        "Number of threads 8: thread number 2\n",
        "Number of threads 8: thread number 6\n",
        "Number of threads 8: thread number 4\n",
        "CPU times: user 24 ms, sys: 633 \u00b5s, total: 24.7 ms\n",
        "Wall time: 12 ms\n"
       ]
      }
     ],
     "prompt_number": 3
    },
    {
     "cell_type": "code",
     "collapsed": false,
     "input": [],
     "language": "python",
     "metadata": {},
     "outputs": []
    },
    {
     "cell_type": "code",
     "collapsed": false,
     "input": [
      "%%cython -f -c-fopenmp --link-args=-fopenmp -c-g\n",
      "\n",
      "cimport cython\n",
      "cimport numpy\n",
      "from cython.parallel import parallel\n",
      "cimport openmp\n",
      "\n",
      "@cython.boundscheck(False)\n",
      "@cython.wraparound(False)\n",
      "def cy_matvec_omp(numpy.ndarray[numpy.float64_t, ndim=2] M, \n",
      "                  numpy.ndarray[numpy.float64_t, ndim=1] x, \n",
      "                  numpy.ndarray[numpy.float64_t, ndim=1] y):\n",
      "\n",
      "    cdef int i, j, n = len(x), N, r, m\n",
      "\n",
      "    # release GIL, so that we can use OpenMP\n",
      "    with nogil, parallel():\n",
      "        N = openmp.omp_get_num_threads()\n",
      "        r = openmp.omp_get_thread_num()\n",
      "        m = n / N\n",
      "        \n",
      "        for i from 0 <= i < m:\n",
      "            for j from 0 <= j < n:\n",
      "                y[r * m + i] += M[r * m + i, j] * x[j]\n",
      "                \n",
      "        with gil:\n",
      "            print(\"openmp.omp_get_num_threads() = %d\",N)\n",
      "            print(\"openmp.omp_get_thread_num() = %d\" % r)\n",
      "        \n",
      "        \n",
      "\n",
      "    return y"
     ],
     "language": "python",
     "metadata": {},
     "outputs": [],
     "prompt_number": 6
    },
    {
     "cell_type": "code",
     "collapsed": false,
     "input": [],
     "language": "python",
     "metadata": {},
     "outputs": []
    },
    {
     "cell_type": "code",
     "collapsed": false,
     "input": [
      "import numpy as np"
     ],
     "language": "python",
     "metadata": {},
     "outputs": [],
     "prompt_number": 7
    },
    {
     "cell_type": "code",
     "collapsed": false,
     "input": [
      "import "
     ],
     "language": "python",
     "metadata": {},
     "outputs": []
    },
    {
     "cell_type": "code",
     "collapsed": false,
     "input": [],
     "language": "python",
     "metadata": {},
     "outputs": []
    },
    {
     "cell_type": "code",
     "collapsed": false,
     "input": [
      "m = 10\n",
      "n = 15\n",
      "\n",
      "A = np.arange(m*n).reshape(m,n).astype(np.float_)\n",
      "A"
     ],
     "language": "python",
     "metadata": {},
     "outputs": [
      {
       "metadata": {},
       "output_type": "pyout",
       "prompt_number": 36,
       "text": [
        "array([[   0.,    1.,    2.,    3.,    4.,    5.,    6.,    7.,    8.,\n",
        "           9.,   10.,   11.,   12.,   13.,   14.],\n",
        "       [  15.,   16.,   17.,   18.,   19.,   20.,   21.,   22.,   23.,\n",
        "          24.,   25.,   26.,   27.,   28.,   29.],\n",
        "       [  30.,   31.,   32.,   33.,   34.,   35.,   36.,   37.,   38.,\n",
        "          39.,   40.,   41.,   42.,   43.,   44.],\n",
        "       [  45.,   46.,   47.,   48.,   49.,   50.,   51.,   52.,   53.,\n",
        "          54.,   55.,   56.,   57.,   58.,   59.],\n",
        "       [  60.,   61.,   62.,   63.,   64.,   65.,   66.,   67.,   68.,\n",
        "          69.,   70.,   71.,   72.,   73.,   74.],\n",
        "       [  75.,   76.,   77.,   78.,   79.,   80.,   81.,   82.,   83.,\n",
        "          84.,   85.,   86.,   87.,   88.,   89.],\n",
        "       [  90.,   91.,   92.,   93.,   94.,   95.,   96.,   97.,   98.,\n",
        "          99.,  100.,  101.,  102.,  103.,  104.],\n",
        "       [ 105.,  106.,  107.,  108.,  109.,  110.,  111.,  112.,  113.,\n",
        "         114.,  115.,  116.,  117.,  118.,  119.],\n",
        "       [ 120.,  121.,  122.,  123.,  124.,  125.,  126.,  127.,  128.,\n",
        "         129.,  130.,  131.,  132.,  133.,  134.],\n",
        "       [ 135.,  136.,  137.,  138.,  139.,  140.,  141.,  142.,  143.,\n",
        "         144.,  145.,  146.,  147.,  148.,  149.]])"
       ]
      }
     ],
     "prompt_number": 36
    },
    {
     "cell_type": "code",
     "collapsed": false,
     "input": [
      "np.dot(x,A)"
     ],
     "language": "python",
     "metadata": {},
     "outputs": [
      {
       "metadata": {},
       "output_type": "pyout",
       "prompt_number": 54,
       "text": [
        "array([ 4275.,  4320.,  4365.,  4410.,  4455.,  4500.,  4545.,  4590.,\n",
        "        4635.,  4680.,  4725.,  4770.,  4815.,  4860.,  4905.])"
       ]
      }
     ],
     "prompt_number": 54
    },
    {
     "cell_type": "code",
     "collapsed": false,
     "input": [
      "\n",
      "x = np.arange(n).astype(np.float_)\n",
      "x"
     ],
     "language": "python",
     "metadata": {},
     "outputs": [
      {
       "metadata": {},
       "output_type": "pyout",
       "prompt_number": 60,
       "text": [
        "array([  0.,   1.,   2.,   3.,   4.,   5.,   6.,   7.,   8.,   9.,  10.,\n",
        "        11.,  12.,  13.,  14.])"
       ]
      }
     ],
     "prompt_number": 60
    },
    {
     "cell_type": "code",
     "collapsed": false,
     "input": [
      "\n",
      "y = np.zeros(m)\n",
      "y"
     ],
     "language": "python",
     "metadata": {},
     "outputs": [
      {
       "metadata": {},
       "output_type": "pyout",
       "prompt_number": 61,
       "text": [
        "array([ 0.,  0.,  0.,  0.,  0.,  0.,  0.,  0.,  0.,  0.])"
       ]
      }
     ],
     "prompt_number": 61
    },
    {
     "cell_type": "code",
     "collapsed": false,
     "input": [
      "%time y= cy_matvec_omp(A,x,y)"
     ],
     "language": "python",
     "metadata": {},
     "outputs": [
      {
       "output_type": "stream",
       "stream": "stdout",
       "text": [
        "('openmp.omp_get_num_threads() = %d', 8)\n",
        "openmp.omp_get_thread_num() = 1\n",
        "('openmp.omp_get_num_threads() = %d', 8)\n",
        "openmp.omp_get_thread_num() = 0\n",
        "('openmp.omp_get_num_threads() = %d', 8)\n",
        "openmp.omp_get_thread_num() = 3\n",
        "('openmp.omp_get_num_threads() = %d', 8)\n",
        "openmp.omp_get_thread_num() = 4\n",
        "('openmp.omp_get_num_threads() = %d', 8)\n",
        "openmp.omp_get_thread_num() = 6\n",
        "('openmp.omp_get_num_threads() = %d', 8)\n",
        "openmp.omp_get_thread_num() = 2\n",
        "('openmp.omp_get_num_threads() = %d', 8)\n",
        "openmp.omp_get_thread_num() = 7\n",
        "('openmp.omp_get_num_threads() = %d', 8)\n",
        "openmp.omp_get_thread_num() = 5\n",
        "CPU times: user 8.84 ms, sys: 439 \u00b5s, total: 9.28 ms\n",
        "Wall time: 1.66 ms\n"
       ]
      }
     ],
     "prompt_number": 62
    },
    {
     "cell_type": "code",
     "collapsed": false,
     "input": [
      "y"
     ],
     "language": "python",
     "metadata": {},
     "outputs": [
      {
       "metadata": {},
       "output_type": "pyout",
       "prompt_number": 63,
       "text": [
        "array([  1015.,   2590.,   4165.,   5740.,   7315.,   8890.,  10465.,\n",
        "        12040.,      0.,      0.])"
       ]
      }
     ],
     "prompt_number": 63
    },
    {
     "cell_type": "code",
     "collapsed": false,
     "input": [],
     "language": "python",
     "metadata": {},
     "outputs": [],
     "prompt_number": 63
    },
    {
     "cell_type": "code",
     "collapsed": false,
     "input": [],
     "language": "python",
     "metadata": {},
     "outputs": []
    }
   ],
   "metadata": {}
  }
 ]
}