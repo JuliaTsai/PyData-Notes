{
 "metadata": {
  "name": "",
  "signature": "sha256:50d29cf87fa08470a09146004be433e300a64c174c422e6496dfb6ce5e8a2761"
 },
 "nbformat": 3,
 "nbformat_minor": 0,
 "worksheets": [
  {
   "cells": [
    {
     "cell_type": "markdown",
     "metadata": {},
     "source": [
      "## Cython\n",
      "\n",
      "- http://nbviewer.ipython.org/github/jrjohansson/scientific-python-lectures/blob/master/Lecture-6A-Fortran-and-C.ipynb\n",
      "- http://nbviewer.ipython.org/github/jrjohansson/scientific-python-lectures/blob/master/Lecture-6B-HPC.ipynb\n",
      "- http://ipython.org/ipython-doc/dev/config/extensions/cythonmagic.html\n",
      "- https://github.com/jrjohansson/scientific-python-lectures\n",
      "- https://gist.github.com/zed/2051661\n",
      "\n",
      "\n",
      "## Taipei.py\n",
      "- http://www.meetup.com/Taipei-py/events/169077442/\n",
      "- https://speakerdeck.com/mosky/cython-making-python-as-fast-as-c\n",
      "- https://hackpad.com/Cython-Note-jZzrsFLIMxe"
     ]
    },
    {
     "cell_type": "code",
     "collapsed": false,
     "input": [],
     "language": "python",
     "metadata": {},
     "outputs": [],
     "prompt_number": 5
    },
    {
     "cell_type": "code",
     "collapsed": false,
     "input": [
      "import numpy as np \n",
      "\n",
      "m = 10\n",
      "n = 15\n",
      "\n",
      "A = np.arange(m*n).reshape(m,n).astype(np.float_)\n",
      "x = np.arange(n).astype(np.float_)\n",
      "y = np.zeros(m)\n"
     ],
     "language": "python",
     "metadata": {},
     "outputs": [],
     "prompt_number": 11
    },
    {
     "cell_type": "code",
     "collapsed": false,
     "input": [],
     "language": "python",
     "metadata": {},
     "outputs": [],
     "prompt_number": 11
    },
    {
     "cell_type": "code",
     "collapsed": false,
     "input": [
      "%load_ext cythonmagic"
     ],
     "language": "python",
     "metadata": {},
     "outputs": [
      {
       "output_type": "stream",
       "stream": "stdout",
       "text": [
        "The cythonmagic extension is already loaded. To reload it, use:\n",
        "  %reload_ext cythonmagic\n"
       ]
      }
     ],
     "prompt_number": 12
    },
    {
     "cell_type": "code",
     "collapsed": false,
     "input": [
      "%%cython -f -c-fopenmp --link-args=-fopenmp -c-g\n",
      "\n",
      "cimport cython\n",
      "cimport numpy\n",
      "from cython.parallel import parallel\n",
      "cimport openmp\n",
      "\n",
      "@cython.boundscheck(False)\n",
      "@cython.wraparound(False)\n",
      "def cy_matvec_omp(numpy.ndarray[numpy.float64_t, ndim=2] M, \n",
      "                  numpy.ndarray[numpy.float64_t, ndim=1] x, \n",
      "                  numpy.ndarray[numpy.float64_t, ndim=1] y):\n",
      "\n",
      "    cdef int i, j, n = len(x), N, r, m\n",
      "\n",
      "    # release GIL, so that we can use OpenMP\n",
      "    with nogil, parallel():\n",
      "        N = openmp.omp_get_num_threads()\n",
      "        r = openmp.omp_get_thread_num()\n",
      "        m = n / N\n",
      "        \n",
      "        for i from 0 <= i < m:\n",
      "            for j from 0 <= j < n:\n",
      "                y[r * m + i] += M[r * m + i, j] * x[j]\n",
      "                \n",
      "        with gil:\n",
      "            print(\"openmp.omp_get_num_threads() = %d\",N)\n",
      "            print(\"openmp.omp_get_thread_num() = %d\" % r)\n",
      "        \n",
      "        \n",
      "\n",
      "    return y"
     ],
     "language": "python",
     "metadata": {},
     "outputs": [],
     "prompt_number": 13
    },
    {
     "cell_type": "code",
     "collapsed": false,
     "input": [
      "%time y= cy_matvec_omp(A,x,y)"
     ],
     "language": "python",
     "metadata": {},
     "outputs": [
      {
       "output_type": "stream",
       "stream": "stdout",
       "text": [
        "('openmp.omp_get_num_threads() = %d', 8)\n",
        "openmp.omp_get_thread_num() = 5\n",
        "('openmp.omp_get_num_threads() = %d', 8)\n",
        "openmp.omp_get_thread_num() = 6\n",
        "('openmp.omp_get_num_threads() = %d', 8)\n",
        "openmp.omp_get_thread_num() = 3\n",
        "('openmp.omp_get_num_threads() = %d', 8)\n",
        "openmp.omp_get_thread_num() = 7\n",
        "('openmp.omp_get_num_threads() = %d', 8)\n",
        "openmp.omp_get_thread_num() = 1\n",
        "('openmp.omp_get_num_threads() = %d', 8)\n",
        "openmp.omp_get_thread_num() = 0\n",
        "('openmp.omp_get_num_threads() = %d', 8)\n",
        "openmp.omp_get_thread_num() = 4\n",
        "('openmp.omp_get_num_threads() = %d', 8)\n",
        "openmp.omp_get_thread_num() = 2\n",
        "CPU times: user 22.8 ms, sys: 1.32 ms, total: 24.1 ms\n",
        "Wall time: 4.77 ms\n"
       ]
      }
     ],
     "prompt_number": 14
    },
    {
     "cell_type": "code",
     "collapsed": false,
     "input": [],
     "language": "python",
     "metadata": {},
     "outputs": [],
     "prompt_number": 14
    },
    {
     "cell_type": "code",
     "collapsed": false,
     "input": [
      "np.abs(y - np.dot(A,x)).sum()"
     ],
     "language": "python",
     "metadata": {},
     "outputs": [
      {
       "metadata": {},
       "output_type": "pyout",
       "prompt_number": 15,
       "text": [
        "28805.0"
       ]
      }
     ],
     "prompt_number": 15
    },
    {
     "cell_type": "code",
     "collapsed": false,
     "input": [],
     "language": "python",
     "metadata": {},
     "outputs": [],
     "prompt_number": 4
    },
    {
     "cell_type": "code",
     "collapsed": false,
     "input": [
      "%%cython -f -c-fopenmp --link-args=-fopenmp -c-g\n",
      "\n",
      "\n",
      "cimport cython\n",
      "cimport numpy\n",
      "from cython.parallel import parallel\n",
      "cimport openmp\n",
      "    \n",
      "@cython.boundscheck(False)\n",
      "@cython.wraparound(False)\n",
      "def cy_knn_err_sum(numpy.ndarray[numpy.float64_t, ndim=2] M, \n",
      "                   numpy.ndarray[numpy.float64_t, ndim=1] x, \n",
      "                   numpy.ndarray[numpy.float64_t, ndim=1] y):\n",
      "    \n",
      "    cdef int Mn = M.shape[0]\n",
      "    cdef int Mm = M.shape[1]\n",
      "    cdef int nthreads = openmp.omp_get_num_threads()\n",
      "    \n",
      "    cdef int total_threads, ith_threads\n",
      "\n",
      "    \n",
      "    with nogil, parallel():\n",
      "        total_threads = openmp.omp_get_num_threads()\n",
      "        ith_threads = openmp.omp_get_thread_num()\n",
      "                \n",
      "        with gil:\n",
      "            print(\"openmp.omp_get_num_threads() = %s\" % total_threads)\n",
      "            print(\"openmp.omp_get_thread_num() = %s\" % ith_threads)\n",
      "            \n",
      "    \n",
      "    return Mn,Mm"
     ],
     "language": "python",
     "metadata": {},
     "outputs": [],
     "prompt_number": 43
    },
    {
     "cell_type": "code",
     "collapsed": false,
     "input": [
      "cy_knn_err_sum(A,x,y)"
     ],
     "language": "python",
     "metadata": {},
     "outputs": [
      {
       "output_type": "stream",
       "stream": "stdout",
       "text": [
        "openmp.omp_get_num_threads() = 8\n",
        "openmp.omp_get_thread_num() = 4\n",
        "openmp.omp_get_num_threads() = 8\n",
        "openmp.omp_get_thread_num() = 1\n",
        "openmp.omp_get_num_threads() = 8\n",
        "openmp.omp_get_thread_num() = 5\n",
        "openmp.omp_get_num_threads() = 8\n",
        "openmp.omp_get_thread_num() = 3\n",
        "openmp.omp_get_num_threads() = 8\n",
        "openmp.omp_get_thread_num() = 2\n",
        "openmp.omp_get_num_threads() = 8\n",
        "openmp.omp_get_thread_num() = 7\n",
        "openmp.omp_get_num_threads() = 8\n",
        "openmp.omp_get_thread_num() = 6\n",
        "openmp.omp_get_num_threads() = 8\n",
        "openmp.omp_get_thread_num() = 0\n"
       ]
      },
      {
       "metadata": {},
       "output_type": "pyout",
       "prompt_number": 44,
       "text": [
        "(10, 15)"
       ]
      }
     ],
     "prompt_number": 44
    },
    {
     "cell_type": "code",
     "collapsed": false,
     "input": [],
     "language": "python",
     "metadata": {},
     "outputs": []
    },
    {
     "cell_type": "code",
     "collapsed": false,
     "input": [],
     "language": "python",
     "metadata": {},
     "outputs": []
    }
   ],
   "metadata": {}
  }
 ]
}