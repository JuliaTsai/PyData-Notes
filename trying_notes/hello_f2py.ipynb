{
 "metadata": {
  "name": "",
  "signature": "sha256:25accbedc3d132690e490722a214e473dd0e8db856d4f35699da9378e970ae4e"
 },
 "nbformat": 3,
 "nbformat_minor": 0,
 "worksheets": [
  {
   "cells": [
    {
     "cell_type": "code",
     "collapsed": false,
     "input": [
      "%%file hellofortran.f\n",
      "C File  hellofortran.f\n",
      "        subroutine hellofortran (n)\n",
      "        integer n\n",
      "       \n",
      "        do 100 i=0, n\n",
      "            print *, \"Fortran says hello\"\n",
      "100     continue\n",
      "        end"
     ],
     "language": "python",
     "metadata": {},
     "outputs": [
      {
       "output_type": "stream",
       "stream": "stdout",
       "text": [
        "Writing hellofortran.f\n"
       ]
      }
     ],
     "prompt_number": 1
    },
    {
     "cell_type": "code",
     "collapsed": false,
     "input": [
      "!f2py -c -m hellofortran hellofortran.f"
     ],
     "language": "python",
     "metadata": {},
     "outputs": [
      {
       "output_type": "stream",
       "stream": "stdout",
       "text": [
        "running build\r\n",
        "running config_cc\r\n",
        "unifing config_cc, config, build_clib, build_ext, build commands --compiler options\r\n",
        "running config_fc\r\n",
        "unifing config_fc, config, build_clib, build_ext, build commands --fcompiler options\r\n",
        "running build_src\r\n",
        "build_src\r\n",
        "building extension \"hellofortran\" sources\r\n",
        "f2py options: []\r\n",
        "f2py:> /tmp/tmpJ2GDnn/src.linux-x86_64-2.7/hellofortranmodule.c\r\n",
        "creating /tmp/tmpJ2GDnn/src.linux-x86_64-2.7\r\n",
        "Reading fortran codes...\r\n",
        "\tReading file 'hellofortran.f' (format:fix,strict)\r\n",
        "Post-processing...\r\n",
        "\tBlock: hellofortran\r\n",
        "\t\t\tBlock: hellofortran\r\n",
        "Post-processing (stage 2)...\r\n",
        "Building modules...\r\n",
        "\tBuilding module \"hellofortran\"...\r\n",
        "\t\tConstructing wrapper function \"hellofortran\"...\r\n",
        "\t\t  hellofortran(n)\r\n",
        "\tWrote C/API module \"hellofortran\" to file \"/tmp/tmpJ2GDnn/src.linux-x86_64-2.7/hellofortranmodule.c\"\r\n",
        "  adding '/tmp/tmpJ2GDnn/src.linux-x86_64-2.7/fortranobject.c' to sources.\r\n",
        "  adding '/tmp/tmpJ2GDnn/src.linux-x86_64-2.7' to include_dirs.\r\n",
        "copying /home/c3h3/.pyenv/versions/py27/lib/python2.7/site-packages/numpy/f2py/src/fortranobject.c -> /tmp/tmpJ2GDnn/src.linux-x86_64-2.7\r\n"
       ]
      },
      {
       "output_type": "stream",
       "stream": "stdout",
       "text": [
        "copying /home/c3h3/.pyenv/versions/py27/lib/python2.7/site-packages/numpy/f2py/src/fortranobject.h -> /tmp/tmpJ2GDnn/src.linux-x86_64-2.7\r\n",
        "build_src: building npy-pkg config files\r\n",
        "running build_ext\r\n",
        "customize UnixCCompiler\r\n",
        "customize UnixCCompiler using build_ext\r\n",
        "customize Gnu95FCompiler\r\n",
        "Found executable /usr/bin/gfortran\r\n",
        "customize Gnu95FCompiler\r\n"
       ]
      },
      {
       "output_type": "stream",
       "stream": "stdout",
       "text": [
        "customize Gnu95FCompiler using build_ext\r\n",
        "building 'hellofortran' extension\r\n",
        "compiling C sources\r\n",
        "C compiler: gcc -pthread -fno-strict-aliasing -g -O2 -DNDEBUG -g -fwrapv -O3 -Wall -Wstrict-prototypes -fPIC\r\n",
        "\r\n",
        "creating /tmp/tmpJ2GDnn/tmp\r\n",
        "creating /tmp/tmpJ2GDnn/tmp/tmpJ2GDnn\r\n",
        "creating /tmp/tmpJ2GDnn/tmp/tmpJ2GDnn/src.linux-x86_64-2.7\r\n",
        "compile options: '-I/tmp/tmpJ2GDnn/src.linux-x86_64-2.7 -I/home/c3h3/.pyenv/versions/py27/lib/python2.7/site-packages/numpy/core/include -I/home/c3h3/.pyenv/versions/2.7.7/include/python2.7 -c'\r\n",
        "gcc: /tmp/tmpJ2GDnn/src.linux-x86_64-2.7/hellofortranmodule.c\r\n"
       ]
      },
      {
       "output_type": "stream",
       "stream": "stdout",
       "text": [
        "In file included from /home/c3h3/.pyenv/versions/py27/lib/python2.7/site-packages/numpy/core/include/numpy/ndarraytypes.h:1761:0,\r\n",
        "                 from /home/c3h3/.pyenv/versions/py27/lib/python2.7/site-packages/numpy/core/include/numpy/ndarrayobject.h:17,\r\n",
        "                 from /home/c3h3/.pyenv/versions/py27/lib/python2.7/site-packages/numpy/core/include/numpy/arrayobject.h:4,\r\n",
        "                 from /tmp/tmpJ2GDnn/src.linux-x86_64-2.7/fortranobject.h:13,\r\n",
        "                 from /tmp/tmpJ2GDnn/src.linux-x86_64-2.7/hellofortranmodule.c:17:\r\n",
        "/home/c3h3/.pyenv/versions/py27/lib/python2.7/site-packages/numpy/core/include/numpy/npy_1_7_deprecated_api.h:15:2: warning: #warning \"Using deprecated NumPy API, disable it by \" \"#defining NPY_NO_DEPRECATED_API NPY_1_7_API_VERSION\" [-Wcpp]\r\n",
        " #warning \"Using deprecated NumPy API, disable it by \" \\\r\n",
        "  ^\r\n"
       ]
      },
      {
       "output_type": "stream",
       "stream": "stdout",
       "text": [
        "gcc: /tmp/tmpJ2GDnn/src.linux-x86_64-2.7/fortranobject.c\r\n"
       ]
      },
      {
       "output_type": "stream",
       "stream": "stdout",
       "text": [
        "In file included from /home/c3h3/.pyenv/versions/py27/lib/python2.7/site-packages/numpy/core/include/numpy/ndarraytypes.h:1761:0,\r\n",
        "                 from /home/c3h3/.pyenv/versions/py27/lib/python2.7/site-packages/numpy/core/include/numpy/ndarrayobject.h:17,\r\n",
        "                 from /home/c3h3/.pyenv/versions/py27/lib/python2.7/site-packages/numpy/core/include/numpy/arrayobject.h:4,\r\n",
        "                 from /tmp/tmpJ2GDnn/src.linux-x86_64-2.7/fortranobject.h:13,\r\n",
        "                 from /tmp/tmpJ2GDnn/src.linux-x86_64-2.7/fortranobject.c:2:\r\n",
        "/home/c3h3/.pyenv/versions/py27/lib/python2.7/site-packages/numpy/core/include/numpy/npy_1_7_deprecated_api.h:15:2: warning: #warning \"Using deprecated NumPy API, disable it by \" \"#defining NPY_NO_DEPRECATED_API NPY_1_7_API_VERSION\" [-Wcpp]\r\n",
        " #warning \"Using deprecated NumPy API, disable it by \" \\\r\n",
        "  ^\r\n"
       ]
      },
      {
       "output_type": "stream",
       "stream": "stdout",
       "text": [
        "compiling Fortran sources\r\n",
        "Fortran f77 compiler: /usr/bin/gfortran -Wall -ffixed-form -fno-second-underscore -fPIC -O3 -funroll-loops\r\n",
        "Fortran f90 compiler: /usr/bin/gfortran -Wall -fno-second-underscore -fPIC -O3 -funroll-loops\r\n",
        "Fortran fix compiler: /usr/bin/gfortran -Wall -ffixed-form -fno-second-underscore -Wall -fno-second-underscore -fPIC -O3 -funroll-loops\r\n",
        "compile options: '-I/tmp/tmpJ2GDnn/src.linux-x86_64-2.7 -I/home/c3h3/.pyenv/versions/py27/lib/python2.7/site-packages/numpy/core/include -I/home/c3h3/.pyenv/versions/2.7.7/include/python2.7 -c'\r\n",
        "gfortran:f77: hellofortran.f\r\n"
       ]
      },
      {
       "output_type": "stream",
       "stream": "stdout",
       "text": [
        "/usr/bin/gfortran -Wall -Wall -shared /tmp/tmpJ2GDnn/tmp/tmpJ2GDnn/src.linux-x86_64-2.7/hellofortranmodule.o /tmp/tmpJ2GDnn/tmp/tmpJ2GDnn/src.linux-x86_64-2.7/fortranobject.o /tmp/tmpJ2GDnn/hellofortran.o -lgfortran -o ./hellofortran.so\r\n"
       ]
      },
      {
       "output_type": "stream",
       "stream": "stdout",
       "text": [
        "Removing build directory /tmp/tmpJ2GDnn\r\n"
       ]
      }
     ],
     "prompt_number": 2
    },
    {
     "cell_type": "code",
     "collapsed": false,
     "input": [
      "%%file hello_fpy.py\n",
      "import hellofortran\n",
      "\n",
      "hellofortran.hellofortran(5)"
     ],
     "language": "python",
     "metadata": {},
     "outputs": [
      {
       "output_type": "stream",
       "stream": "stdout",
       "text": [
        "Writing hello_fpy.py\n"
       ]
      }
     ],
     "prompt_number": 5
    },
    {
     "cell_type": "code",
     "collapsed": false,
     "input": [
      "!python hello_fpy.py"
     ],
     "language": "python",
     "metadata": {},
     "outputs": [
      {
       "output_type": "stream",
       "stream": "stdout",
       "text": [
        " Fortran says hello\r\n",
        " Fortran says hello\r\n",
        " Fortran says hello\r\n",
        " Fortran says hello\r\n",
        " Fortran says hello\r\n",
        " Fortran says hello\r\n"
       ]
      }
     ],
     "prompt_number": 6
    },
    {
     "cell_type": "code",
     "collapsed": false,
     "input": [
      "import hellofortran\n",
      "\n",
      "hellofortran.hellofortran(5)"
     ],
     "language": "python",
     "metadata": {},
     "outputs": [],
     "prompt_number": 7
    },
    {
     "cell_type": "code",
     "collapsed": false,
     "input": [],
     "language": "python",
     "metadata": {},
     "outputs": []
    }
   ],
   "metadata": {}
  }
 ]
}