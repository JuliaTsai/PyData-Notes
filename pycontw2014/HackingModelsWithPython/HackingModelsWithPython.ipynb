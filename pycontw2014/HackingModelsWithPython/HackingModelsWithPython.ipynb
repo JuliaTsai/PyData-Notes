{
 "metadata": {
  "celltoolbar": "Slideshow",
  "name": "",
  "signature": "sha256:fad9462899d24a30b65550b940b9cf436029c8779d2b5b747dc76cc01315561c"
 },
 "nbformat": 3,
 "nbformat_minor": 0,
 "worksheets": [
  {
   "cells": [
    {
     "cell_type": "code",
     "collapsed": false,
     "input": [
      "%matplotlib inline"
     ],
     "language": "python",
     "metadata": {
      "slideshow": {
       "slide_type": "skip"
      }
     },
     "outputs": [],
     "prompt_number": 2
    },
    {
     "cell_type": "code",
     "collapsed": false,
     "input": [
      "import matplotlib.pylab as pylab\n",
      "pylab.rcParams['figure.figsize'] = 16, 12\n",
      "\n",
      "from matplotlib.font_manager import FontProperties\n",
      "cfont = FontProperties(fname=\"/usr/share/fonts/truetype/wqy/wqy-zenhei.ttc\", size = 14)"
     ],
     "language": "python",
     "metadata": {
      "slideshow": {
       "slide_type": "skip"
      }
     },
     "outputs": [],
     "prompt_number": 3
    },
    {
     "cell_type": "markdown",
     "metadata": {
      "slideshow": {
       "slide_type": "slide"
      }
     },
     "source": [
      "Hacking Models With Python\n",
      "=========================="
     ]
    },
    {
     "cell_type": "markdown",
     "metadata": {},
     "source": [
      "Chia-Chi Chang\n",
      "----------------"
     ]
    },
    {
     "cell_type": "markdown",
     "metadata": {
      "slideshow": {
       "slide_type": "subslide"
      }
     },
     "source": [
      "# Three Parts:\n",
      "\n",
      "- ## What is Mathematical Modeling ? \n",
      "- ## The Limitations (Blind Spots) of Modeling ? \n",
      "- ## How to Break Through The Limitations ? "
     ]
    },
    {
     "cell_type": "markdown",
     "metadata": {
      "slideshow": {
       "slide_type": "slide"
      }
     },
     "source": [
      "# What is Modeling ?"
     ]
    },
    {
     "cell_type": "markdown",
     "metadata": {
      "slideshow": {
       "slide_type": "subslide"
      }
     },
     "source": [
      "# Modeling ... is ..."
     ]
    },
    {
     "cell_type": "markdown",
     "metadata": {
      "slideshow": {
       "slide_type": "subslide"
      }
     },
     "source": [
      "# Just like \"Sketching !!!\""
     ]
    },
    {
     "cell_type": "markdown",
     "metadata": {
      "slideshow": {
       "slide_type": "subslide"
      }
     },
     "source": [
      "![](COSCUP_R_Pic1.jpg)"
     ]
    },
    {
     "cell_type": "markdown",
     "metadata": {
      "slideshow": {
       "slide_type": "subslide"
      }
     },
     "source": [
      "# When you are Sketching something ... "
     ]
    },
    {
     "cell_type": "markdown",
     "metadata": {
      "slideshow": {
       "slide_type": "fragment"
      }
     },
     "source": [
      "# The first step is ... "
     ]
    },
    {
     "cell_type": "markdown",
     "metadata": {
      "slideshow": {
       "slide_type": "fragment"
      }
     },
     "source": [
      "# NOT TAKE A PEN ..."
     ]
    },
    {
     "cell_type": "markdown",
     "metadata": {
      "slideshow": {
       "slide_type": "subslide"
      }
     },
     "source": [
      "# The first step is ... "
     ]
    },
    {
     "cell_type": "markdown",
     "metadata": {
      "slideshow": {
       "slide_type": "fragment"
      }
     },
     "source": [
      "# Choose an angle"
     ]
    },
    {
     "cell_type": "markdown",
     "metadata": {
      "slideshow": {
       "slide_type": "fragment"
      }
     },
     "source": [
      "## as your view of point"
     ]
    },
    {
     "cell_type": "markdown",
     "metadata": {
      "slideshow": {
       "slide_type": "fragment"
      }
     },
     "source": [
      "# AND ......"
     ]
    },
    {
     "cell_type": "markdown",
     "metadata": {
      "slideshow": {
       "slide_type": "subslide"
      }
     },
     "source": [
      "# DO SOME OBSERVATIONS !\n",
      "\n",
      "![](COSCUP_R_Pic1.jpg)"
     ]
    },
    {
     "cell_type": "markdown",
     "metadata": {
      "slideshow": {
       "slide_type": "subslide"
      }
     },
     "source": [
      "# Shape ? Luminance ? Shadow ? ... and ... ?"
     ]
    },
    {
     "cell_type": "markdown",
     "metadata": {
      "slideshow": {
       "slide_type": "fragment"
      }
     },
     "source": [
      "<img src=\"sketch-a-day-83.jpg\" style=\"width:600px\" />\n"
     ]
    },
    {
     "cell_type": "markdown",
     "metadata": {
      "slideshow": {
       "slide_type": "subslide"
      }
     },
     "source": [
      "# Remember that ... "
     ]
    },
    {
     "cell_type": "markdown",
     "metadata": {
      "slideshow": {
       "slide_type": "fragment"
      }
     },
     "source": [
      "# Whatever you observe ... "
     ]
    },
    {
     "cell_type": "markdown",
     "metadata": {
      "slideshow": {
       "slide_type": "fragment"
      }
     },
     "source": [
      "# Whatever you draw ... "
     ]
    },
    {
     "cell_type": "markdown",
     "metadata": {
      "slideshow": {
       "slide_type": "slide"
      }
     },
     "source": [
      "# From the Macroscopic to the Microscopic ... "
     ]
    },
    {
     "cell_type": "markdown",
     "metadata": {
      "slideshow": {
       "slide_type": "fragment"
      }
     },
     "source": [
      "<img src=\"sketch-a-day-301.jpg\" style=\"width:400px\" />"
     ]
    },
    {
     "cell_type": "markdown",
     "metadata": {
      "slideshow": {
       "slide_type": "slide"
      }
     },
     "source": [
      "# OK ... Here comes the Problems ..."
     ]
    },
    {
     "cell_type": "markdown",
     "metadata": {
      "slideshow": {
       "slide_type": "subslide"
      }
     },
     "source": [
      "# How to Sketching it ?"
     ]
    },
    {
     "cell_type": "markdown",
     "metadata": {},
     "source": [
      "<img src=\"hacking_models_pic1.png\" style=\"width:480px\" />"
     ]
    },
    {
     "cell_type": "markdown",
     "metadata": {
      "slideshow": {
       "slide_type": "subslide"
      }
     },
     "source": [
      "# For Hackers ... we would say ... "
     ]
    },
    {
     "cell_type": "markdown",
     "metadata": {
      "slideshow": {
       "slide_type": "fragment"
      }
     },
     "source": [
      "# Just Do it ! "
     ]
    },
    {
     "cell_type": "markdown",
     "metadata": {
      "slideshow": {
       "slide_type": "subslide"
      }
     },
     "source": [
      "# Just Draw it ! "
     ]
    },
    {
     "cell_type": "markdown",
     "metadata": {
      "slideshow": {
       "slide_type": "fragment"
      }
     },
     "source": [
      "<img src=\"hacking_models_pic2.png\" style=\"width:960px\" />\n"
     ]
    },
    {
     "cell_type": "markdown",
     "metadata": {
      "slideshow": {
       "slide_type": "slide"
      }
     },
     "source": [
      "# Which line is much similar \uff1f"
     ]
    },
    {
     "cell_type": "markdown",
     "metadata": {
      "slideshow": {
       "slide_type": "fragment"
      }
     },
     "source": [
      "# Which model is much accurate \uff1f"
     ]
    },
    {
     "cell_type": "markdown",
     "metadata": {
      "slideshow": {
       "slide_type": "subslide"
      }
     },
     "source": [
      "# \u300cSimilar\u300d V.S \u300cDissimilar\u300d ... \n",
      "# It is very subjective !!!"
     ]
    },
    {
     "cell_type": "markdown",
     "metadata": {
      "slideshow": {
       "slide_type": "subslide"
      }
     },
     "source": [
      "# Because it is dependent on ... "
     ]
    },
    {
     "cell_type": "markdown",
     "metadata": {
      "slideshow": {
       "slide_type": "subslide"
      }
     },
     "source": [
      "# Your view of point ... "
     ]
    },
    {
     "cell_type": "markdown",
     "metadata": {
      "slideshow": {
       "slide_type": "fragment"
      }
     },
     "source": [
      "![\u4e0d\u540c\u89d2\u5ea6\u770b\u4e8b\u7269](COSCUP_R_Pic4.jpg)"
     ]
    },
    {
     "cell_type": "markdown",
     "metadata": {
      "slideshow": {
       "slide_type": "subslide"
      }
     },
     "source": [
      "# Attention ..."
     ]
    },
    {
     "cell_type": "markdown",
     "metadata": {
      "slideshow": {
       "slide_type": "fragment"
      }
     },
     "source": [
      "# Your view of point is also an Evaluator !!! "
     ]
    },
    {
     "cell_type": "markdown",
     "metadata": {
      "slideshow": {
       "slide_type": "slide"
      }
     },
     "source": [
      "# In Linear Regression ... "
     ]
    },
    {
     "cell_type": "markdown",
     "metadata": {
      "slideshow": {
       "slide_type": "subslide"
      }
     },
     "source": [
      "# The Standard Evaulator is  ... \n",
      "\n",
      "# Least Square Error\uff1a \n",
      "\n",
      "# $$ RSS(a_0,a_1) = \\sum_{j=1}^N || y_j - (a_0 + a_1 x_j) ||^2 $$"
     ]
    },
    {
     "cell_type": "markdown",
     "metadata": {
      "slideshow": {
       "slide_type": "subslide"
      }
     },
     "source": [
      "# The Picture of $ RSS(a_0,a_1) $\n"
     ]
    },
    {
     "cell_type": "markdown",
     "metadata": {},
     "source": [
      "<img src=\"hacking_models_pic3.png\" style=\"width:480px\" />\n"
     ]
    },
    {
     "cell_type": "markdown",
     "metadata": {
      "slideshow": {
       "slide_type": "subslide"
      }
     },
     "source": [
      "# \u300cSimilar\u300d V.S \u300cDissimilar\u300d ... "
     ]
    },
    {
     "cell_type": "markdown",
     "metadata": {},
     "source": [
      "## From $ RSS(a_0,a_1) $'s View ..."
     ]
    },
    {
     "cell_type": "markdown",
     "metadata": {},
     "source": [
      "<img src=\"hacking_models_pic4.png\" style=\"width:960px\" />\n"
     ]
    },
    {
     "cell_type": "markdown",
     "metadata": {
      "slideshow": {
       "slide_type": "subslide"
      }
     },
     "source": [
      "# Using scipy.optimize.minimize \n"
     ]
    },
    {
     "cell_type": "markdown",
     "metadata": {
      "slideshow": {
       "slide_type": "fragment"
      }
     },
     "source": [
      "# It is easy to find the best solution ... "
     ]
    },
    {
     "cell_type": "markdown",
     "metadata": {
      "slideshow": {
       "slide_type": "subslide"
      }
     },
     "source": [
      "<img src=\"hacking_models_pic6.png\" style=\"width:960px\" />\n"
     ]
    },
    {
     "cell_type": "markdown",
     "metadata": {
      "slideshow": {
       "slide_type": "subslide"
      }
     },
     "source": [
      "# As a Model Hacker ... "
     ]
    },
    {
     "cell_type": "markdown",
     "metadata": {
      "slideshow": {
       "slide_type": "fragment"
      }
     },
     "source": [
      "# You can also write your own Gradient Decent Method ... \n",
      "\n",
      "# $$ \\vec{a}_{n+1} = \\vec{a}_{n} - \\alpha_n \\nabla RSS $$"
     ]
    },
    {
     "cell_type": "markdown",
     "metadata": {
      "slideshow": {
       "slide_type": "fragment"
      }
     },
     "source": [
      "<img src=\"hacking_models_pic5.png\" style=\"width:960px\" />\n"
     ]
    },
    {
     "cell_type": "markdown",
     "metadata": {
      "slideshow": {
       "slide_type": "slide"
      }
     },
     "source": [
      "# As A Model Hacker ... "
     ]
    },
    {
     "cell_type": "markdown",
     "metadata": {
      "slideshow": {
       "slide_type": "subslide"
      }
     },
     "source": [
      "# We would ask ... "
     ]
    },
    {
     "cell_type": "markdown",
     "metadata": {
      "slideshow": {
       "slide_type": "fragment"
      }
     },
     "source": [
      "# How about changing view of point ... ?"
     ]
    },
    {
     "cell_type": "markdown",
     "metadata": {
      "slideshow": {
       "slide_type": "fragment"
      }
     },
     "source": [
      "<img src=\"COSCUP_R_Pic3.jpg\" style=\"width:480px\" />\n"
     ]
    },
    {
     "cell_type": "markdown",
     "metadata": {
      "slideshow": {
       "slide_type": "subslide"
      }
     },
     "source": [
      "# Change the evaulator from standard form ...\n",
      "\n",
      "## $$ RSS(a_0,a_1) = \\sum_{j=1}^N || y_j - (a_0 + a_1 x_j) ||^2 $$\n",
      "\n",
      "# to weighted form ....\n",
      "\n",
      "## $$ RSS(a_0,a_1,\\vec{W}) = \\sum_{j=1}^N W_j || y_j - (a_0 + a_1 x_j) ||^2 $$\n"
     ]
    },
    {
     "cell_type": "markdown",
     "metadata": {
      "slideshow": {
       "slide_type": "subslide"
      }
     },
     "source": [
      "# Trying to add two points' weight ... \n",
      "\n",
      "### 1000 times to other points ... \n",
      "\n",
      "<img src=\"hacking_models_pic7.png\" style=\"width:960px\" />"
     ]
    },
    {
     "cell_type": "markdown",
     "metadata": {
      "slideshow": {
       "slide_type": "subslide"
      }
     },
     "source": [
      "# Adding weights with 10, 100, 1000 times ... \n",
      "\n",
      "<img src=\"hacking_models_pic8.png\" style=\"width:960px\" />"
     ]
    },
    {
     "cell_type": "markdown",
     "metadata": {
      "slideshow": {
       "slide_type": "subslide"
      }
     },
     "source": [
      "![\u5f9e\u4e0d\u540c\u89d2\u5ea6\u756b\u4e8b\u7269](COSCUP_R_Pic4.jpg)"
     ]
    },
    {
     "cell_type": "markdown",
     "metadata": {
      "slideshow": {
       "slide_type": "slide"
      }
     },
     "source": [
      "# From the metaphor ... we would learn ..."
     ]
    },
    {
     "cell_type": "markdown",
     "metadata": {
      "slideshow": {
       "slide_type": "fragment"
      }
     },
     "source": [
      "# Data (the object) + \n",
      "# Evaluator (view of point) \n",
      "# => Model (picture)"
     ]
    },
    {
     "cell_type": "markdown",
     "metadata": {
      "slideshow": {
       "slide_type": "slide"
      }
     },
     "source": [
      "# I believe ... as a Model Hacker ... "
     ]
    },
    {
     "cell_type": "markdown",
     "metadata": {
      "slideshow": {
       "slide_type": "subslide"
      }
     },
     "source": [
      "# You definitely want to ask ... "
     ]
    },
    {
     "cell_type": "markdown",
     "metadata": {
      "slideshow": {
       "slide_type": "fragment"
      }
     },
     "source": [
      "# Data + Evaluator = Model"
     ]
    },
    {
     "cell_type": "markdown",
     "metadata": {
      "slideshow": {
       "slide_type": "fragment"
      }
     },
     "source": [
      "# Evaluator = Evaluator( Model, Data ) ?"
     ]
    },
    {
     "cell_type": "markdown",
     "metadata": {
      "slideshow": {
       "slide_type": "fragment"
      }
     },
     "source": [
      "# Could we solve the Inverse Problem ? "
     ]
    },
    {
     "cell_type": "markdown",
     "metadata": {
      "slideshow": {
       "slide_type": "subslide"
      }
     },
     "source": [
      "# It is just like ... "
     ]
    },
    {
     "cell_type": "markdown",
     "metadata": {
      "slideshow": {
       "slide_type": "fragment"
      }
     },
     "source": [
      "# When you saw a picture (Model) ... "
     ]
    },
    {
     "cell_type": "markdown",
     "metadata": {
      "slideshow": {
       "slide_type": "fragment"
      }
     },
     "source": [
      "# and you also know which object (Data) they draw ... "
     ]
    },
    {
     "cell_type": "markdown",
     "metadata": {
      "slideshow": {
       "slide_type": "subslide"
      }
     },
     "source": [
      "# Could you find the Position ... ?\n",
      "# And View of Points ... ?\n",
      "\n",
      "<img src=\"COSCUP_R_Pic7.jpg\" style=\"width:480px\" />\n"
     ]
    },
    {
     "cell_type": "markdown",
     "metadata": {
      "slideshow": {
       "slide_type": "subslide"
      }
     },
     "source": [
      "# Solving Inversed Problem ... is just like ... "
     ]
    },
    {
     "cell_type": "markdown",
     "metadata": {
      "slideshow": {
       "slide_type": "-"
      }
     },
     "source": [
      "<img src=\"COSCUP_R_Pic5.jpg\" style=\"width:480px\" />\n"
     ]
    },
    {
     "cell_type": "markdown",
     "metadata": {
      "slideshow": {
       "slide_type": "subslide"
      }
     },
     "source": [
      "# How to find the position of shooter ?"
     ]
    },
    {
     "cell_type": "markdown",
     "metadata": {
      "slideshow": {
       "slide_type": "fragment"
      }
     },
     "source": [
      "# Listen to the Data (Observations) ... "
     ]
    },
    {
     "cell_type": "markdown",
     "metadata": {
      "slideshow": {
       "slide_type": "fragment"
      }
     },
     "source": [
      "# Data will tell you lots of things ... "
     ]
    },
    {
     "cell_type": "markdown",
     "metadata": {
      "slideshow": {
       "slide_type": "slide"
      }
     },
     "source": [
      "# Back to the inversed problem of Regression ... "
     ]
    },
    {
     "cell_type": "markdown",
     "metadata": {
      "slideshow": {
       "slide_type": "subslide"
      }
     },
     "source": [
      "# Notation\uff1a \n",
      "\n",
      "## Vector Notation: $$\n",
      "| \\left[ \\begin{array}{c}\n",
      "a \\\\\n",
      "b\n",
      "\\end{array} \\right] > = \\left[ \\begin{array}{c}\n",
      "a \\\\\n",
      "b\n",
      "\\end{array} \\right]\n",
      "$$\n",
      "\n",
      "## Dual Vector Notation: $$\n",
      "< \\left[ \\begin{array}{c}\n",
      "a \\\\\n",
      "b\n",
      "\\end{array} \\right] | = \\left[ \\begin{array}{c}\n",
      "a \\\\\n",
      "b\n",
      "\\end{array} \\right]^T = \\left[ \\begin{array}{cc}\n",
      "a & b\n",
      "\\end{array} \\right]\n",
      "$$\n",
      "\n",
      "## Inner Product Notation: $$\n",
      "< \\left[ \\begin{array}{c}\n",
      "a \\\\\n",
      "b\n",
      "\\end{array} \\right] | \\left[ \\begin{array}{c}\n",
      "c \\\\\n",
      "d\n",
      "\\end{array} \\right] > = ac + bd\n",
      "$$\n",
      "\n",
      "## Kronecker (Tensor) Product Notation: \n",
      "\n",
      "### $$\n",
      "| \\left[ \\begin{array}{c}\n",
      "a \\\\\n",
      "b\n",
      "\\end{array} \\right] >< \\left[ \\begin{array}{c}\n",
      "c \\\\\n",
      "d\n",
      "\\end{array} \\right] | = \\left[ \\begin{array}{c}\n",
      "a \\\\\n",
      "b\n",
      "\\end{array} \\right] \\left[ \\begin{array}{cc}\n",
      "c & d\n",
      "\\end{array} \\right] = \\left[ \\begin{array}{c}\n",
      "a \\\\\n",
      "b\n",
      "\\end{array} \\right] \\otimes  \\left[ \\begin{array}{cc}\n",
      "c & d\n",
      "\\end{array} \\right] = \\left[ \\begin{array}{cc}\n",
      "ac & ad \\\\\n",
      "bc & bd \n",
      "\\end{array} \\right]\n",
      "$$"
     ]
    },
    {
     "cell_type": "markdown",
     "metadata": {
      "slideshow": {
       "slide_type": "subslide"
      }
     },
     "source": [
      "# Optimal Condition of Weighted Linear Regression  :"
     ]
    },
    {
     "cell_type": "markdown",
     "metadata": {
      "slideshow": {
       "slide_type": "fragment"
      }
     },
     "source": [
      "### $$ RSS(a_0,a_1,\\vec{W}) = \\sum_{j=1}^N W_j || y_j - (a_0 + a_1 x_j) ||^2 $$"
     ]
    },
    {
     "cell_type": "markdown",
     "metadata": {
      "slideshow": {
       "slide_type": "fragment"
      }
     },
     "source": [
      "### $$\n",
      "\\sum_{j=1}^N w_j | \\left[ \\begin{array}{c}\n",
      "1 \\\\\n",
      "x_j\n",
      "\\end{array} \\right] > \\left( y_j -\n",
      "< \\left[ \\begin{array}{c}\n",
      "1 \\\\\n",
      "x_j\n",
      "\\end{array} \\right] | \n",
      "\\left[ \\begin{array}{c}\n",
      "a_0 \\\\\n",
      "a_1\n",
      "\\end{array} \\right] > \\right) = | \\left[ \\begin{array}{c}\n",
      "0 \\\\\n",
      "0\n",
      "\\end{array} \\right] >\n",
      "$$"
     ]
    },
    {
     "cell_type": "markdown",
     "metadata": {
      "slideshow": {
       "slide_type": "subslide"
      }
     },
     "source": [
      "# Inversed Problem:"
     ]
    },
    {
     "cell_type": "markdown",
     "metadata": {
      "slideshow": {
       "slide_type": "fragment"
      }
     },
     "source": [
      "### $$\n",
      "\\sum_{j=1}^N w_j | \\left[ \\begin{array}{c}\n",
      "1 \\\\\n",
      "x_j\n",
      "\\end{array} \\right] > \\left( y_j -\n",
      "< \\left[ \\begin{array}{c}\n",
      "1 \\\\\n",
      "x_j\n",
      "\\end{array} \\right] | \n",
      "\\left[ \\begin{array}{c}\n",
      "a_0 \\\\\n",
      "a_1\n",
      "\\end{array} \\right] > \\right) = \\left[ \\begin{array}{c}\n",
      "e_0 \\\\\n",
      "e_1\n",
      "\\end{array} \\right]\n",
      "$$"
     ]
    },
    {
     "cell_type": "markdown",
     "metadata": {
      "slideshow": {
       "slide_type": "fragment"
      }
     },
     "source": [
      "# Solving:\n",
      "\n",
      "## $$ \\min_{\\vec{w}}e_1^2+e_2^2 + C ||\\vec{w} - \\vec{w}_0||^2  $$"
     ]
    },
    {
     "cell_type": "markdown",
     "metadata": {},
     "source": [
      "# The Solution:\n",
      "\n",
      "<img src=\"hacking_models_pic8.png\" style=\"width:960px\" />"
     ]
    },
    {
     "cell_type": "markdown",
     "metadata": {
      "slideshow": {
       "slide_type": "subslide"
      }
     },
     "source": [
      "# Plotting Wieghts in Direct Problem\n",
      "\n",
      "![](equal_weights.png)"
     ]
    },
    {
     "cell_type": "markdown",
     "metadata": {
      "slideshow": {
       "slide_type": "subslide"
      }
     },
     "source": [
      "# Plotting Wieghts in Inversed Problem\n",
      "\n",
      "![](diff_weights.png)"
     ]
    },
    {
     "cell_type": "markdown",
     "metadata": {
      "slideshow": {
       "slide_type": "subslide"
      }
     },
     "source": [
      "# There are infinite solutions of it ... \n",
      "\n",
      "### $$\n",
      "\\sum_{j=1}^N w_j | \\left[ \\begin{array}{c}\n",
      "1 \\\\\n",
      "x_j\n",
      "\\end{array} \\right] > \\left( y_j -\n",
      "< \\left[ \\begin{array}{c}\n",
      "1 \\\\\n",
      "x_j\n",
      "\\end{array} \\right] | \n",
      "\\left[ \\begin{array}{c}\n",
      "a_0 \\\\\n",
      "a_1\n",
      "\\end{array} \\right] > \\right) = | \\left[ \\begin{array}{c}\n",
      "0 \\\\\n",
      "0\n",
      "\\end{array} \\right] >\n",
      "$$"
     ]
    },
    {
     "cell_type": "markdown",
     "metadata": {
      "slideshow": {
       "slide_type": "subslide"
      }
     },
     "source": [
      "# Just like ... there are infinite problems ...\n",
      "\n",
      "# $$\\min_{x,y} a x^2 + b y^2 $$\n",
      "\n",
      "# with optimal solution: (0,0)"
     ]
    },
    {
     "cell_type": "markdown",
     "metadata": {
      "slideshow": {
       "slide_type": "slide"
      }
     },
     "source": [
      "# A short summary ... "
     ]
    },
    {
     "cell_type": "markdown",
     "metadata": {
      "slideshow": {
       "slide_type": "fragment"
      }
     },
     "source": [
      "# Actually ... "
     ]
    },
    {
     "cell_type": "markdown",
     "metadata": {
      "slideshow": {
       "slide_type": "fragment"
      }
     },
     "source": [
      "# hacking models IS NOT hack the models"
     ]
    },
    {
     "cell_type": "markdown",
     "metadata": {
      "slideshow": {
       "slide_type": "fragment"
      }
     },
     "source": [
      "# we usually HACK OUR VIEW OF POINT"
     ]
    },
    {
     "cell_type": "markdown",
     "metadata": {
      "slideshow": {
       "slide_type": "fragment"
      }
     },
     "source": [
      "# HACK OUR EVALUATOR"
     ]
    },
    {
     "cell_type": "markdown",
     "metadata": {
      "slideshow": {
       "slide_type": "subslide"
      }
     },
     "source": [
      "# Because ... "
     ]
    },
    {
     "cell_type": "markdown",
     "metadata": {
      "slideshow": {
       "slide_type": "fragment"
      }
     },
     "source": [
      "# Whatever we observe ... "
     ]
    },
    {
     "cell_type": "markdown",
     "metadata": {
      "slideshow": {
       "slide_type": "fragment"
      }
     },
     "source": [
      "# Whatever we draw ... "
     ]
    },
    {
     "cell_type": "markdown",
     "metadata": {
      "slideshow": {
       "slide_type": "slide"
      }
     },
     "source": [
      "# Next ... We will discuss about ... "
     ]
    },
    {
     "cell_type": "markdown",
     "metadata": {
      "slideshow": {
       "slide_type": "fragment"
      }
     },
     "source": [
      "# The Limitations (Blind Spots) of Modeling ... "
     ]
    },
    {
     "cell_type": "markdown",
     "metadata": {
      "slideshow": {
       "slide_type": "fragment"
      }
     },
     "source": [
      "- ## The Limitation of Frameworks"
     ]
    },
    {
     "cell_type": "markdown",
     "metadata": {
      "slideshow": {
       "slide_type": "fragment"
      }
     },
     "source": [
      "- ## The Disappearance of the Units of measurement"
     ]
    },
    {
     "cell_type": "markdown",
     "metadata": {
      "slideshow": {
       "slide_type": "subslide"
      }
     },
     "source": [
      "# Two primary frameworks ... \n",
      "\n",
      "<img src=\"ml_map.png\" style=\"width:960px\" />\n"
     ]
    },
    {
     "cell_type": "markdown",
     "metadata": {
      "slideshow": {
       "slide_type": "subslide"
      }
     },
     "source": [
      "# In order to classify APPLE and ORANGE ... \n",
      "\n",
      "<img src=\"spec_class-1.jpg\" style=\"width:600px\" />\n"
     ]
    },
    {
     "cell_type": "markdown",
     "metadata": {
      "slideshow": {
       "slide_type": "subslide"
      }
     },
     "source": [
      "# Maybe we would use complex features ... \n",
      "\n",
      "<img src=\"image031.png\" style=\"width:600px\" />\n"
     ]
    },
    {
     "cell_type": "markdown",
     "metadata": {
      "slideshow": {
       "slide_type": "subslide"
      }
     },
     "source": [
      "# Finally ... we will get ...\n",
      "\n",
      "<img src=\"755499917.png\" style=\"width:960px\" />\n"
     ]
    },
    {
     "cell_type": "markdown",
     "metadata": {
      "slideshow": {
       "slide_type": "subslide"
      }
     },
     "source": [
      "# Supplement: \"Covervage - Accuracy Tradeoff\""
     ]
    },
    {
     "cell_type": "markdown",
     "metadata": {
      "slideshow": {
       "slide_type": "subslide"
      }
     },
     "source": [
      "# In Stock Trading ... \n",
      "\n",
      "<img src=\"stock.png\" style=\"width:600px\" />\n"
     ]
    },
    {
     "cell_type": "markdown",
     "metadata": {
      "slideshow": {
       "slide_type": "subslide"
      }
     },
     "source": [
      "# The Expectation: (Assume idea case $T=0$)\n",
      "\n",
      "## $$ E(p,W,L) = p W + (1-p) L - T \\geq 0 $$ \n",
      "\n",
      "# Whenever : \n",
      "\n",
      "## $$ p \\geq \\frac{1}{\\frac{W}{L} + 1} $$ \n"
     ]
    },
    {
     "cell_type": "markdown",
     "metadata": {
      "slideshow": {
       "slide_type": "subslide"
      }
     },
     "source": [
      "# For example ... \n",
      "\n",
      "- ## if you bet 100 in each play ... \n",
      "\n",
      "- ## you can always take back 200 (+100) or 50 (-50)\n",
      "\n",
      "- ## $\\frac{W}{L} = \\frac{200 - 100}{100 - 50} = \\frac{100}{50} = 2 $\n",
      "\n",
      "- ## $ p \\geq \\frac{1}{2+1} = \\frac{1}{3} = 0.3333 $"
     ]
    },
    {
     "cell_type": "markdown",
     "metadata": {
      "slideshow": {
       "slide_type": "subslide"
      }
     },
     "source": [
      "# How to make $p$ grows up ? "
     ]
    },
    {
     "cell_type": "markdown",
     "metadata": {
      "slideshow": {
       "slide_type": "subslide"
      }
     },
     "source": [
      "# Two Strategies:\n",
      "\n",
      "- ## Adding the Weights to the winning events ?\n",
      "\n",
      "- ## Adding the Weights to the losing events ?"
     ]
    },
    {
     "cell_type": "markdown",
     "metadata": {
      "slideshow": {
       "slide_type": "subslide"
      }
     },
     "source": [
      "\n",
      "# Covervage - Accuracy Tradeoff \n",
      "\n",
      "### Weighted Classification\n",
      "\n",
      "<img src=\"755499917.png\" style=\"width:960px\" />"
     ]
    },
    {
     "cell_type": "markdown",
     "metadata": {},
     "source": [
      "# The Limitation of Classification ... \n",
      "\n",
      "<table>\n",
      "<tbody>\n",
      "<tr>\n",
      "<td><img src=\"spec_class-1.jpg\" style=\"width:480px\" /></td>\n",
      "\n",
      "<td><img src=\"banana.jpg\" style=\"width:480px\" /></td>\n",
      "\n",
      "<\\tr>\n",
      "<\\tbody>\n",
      "<\\table>\n"
     ]
    },
    {
     "cell_type": "markdown",
     "metadata": {
      "slideshow": {
       "slide_type": "slide"
      }
     },
     "source": [
      "# For Clustering Methods ... \n",
      "\n",
      "<img src=\"plot_cluster_comparison_11.png\" style=\"width:600px\" />\n"
     ]
    },
    {
     "cell_type": "markdown",
     "metadata": {
      "slideshow": {
       "slide_type": "subslide"
      }
     },
     "source": [
      "# K-means (K-based)\n",
      "\n",
      "<img src=\"hacking_models_pic10.png\" style=\"width:600px\" />"
     ]
    },
    {
     "cell_type": "markdown",
     "metadata": {
      "slideshow": {
       "slide_type": "subslide"
      }
     },
     "source": [
      "# Spectral Clustering (K-based)\n",
      "\n",
      "<img src=\"hacking_models_pic11.png\" style=\"width:480px\" />"
     ]
    },
    {
     "cell_type": "markdown",
     "metadata": {
      "slideshow": {
       "slide_type": "subslide"
      }
     },
     "source": [
      "# DBSCAN ($\\epsilon$-based)\n",
      "\n",
      "<img src=\"hacking_models_pic12.png\" style=\"width:480px\" />"
     ]
    },
    {
     "cell_type": "markdown",
     "metadata": {
      "slideshow": {
       "slide_type": "subslide"
      }
     },
     "source": [
      "# # The Limitation of Clustering ... \n",
      "\n",
      "<img src=\"hacking_models_pic10.png\" style=\"width:600px\" />"
     ]
    },
    {
     "cell_type": "markdown",
     "metadata": {
      "slideshow": {
       "slide_type": "slide"
      }
     },
     "source": [
      "# As a Model Hacker ... "
     ]
    },
    {
     "cell_type": "markdown",
     "metadata": {
      "slideshow": {
       "slide_type": "fragment"
      }
     },
     "source": [
      "# We are always think ... How to hack the models ... ? "
     ]
    },
    {
     "cell_type": "markdown",
     "metadata": {
      "slideshow": {
       "slide_type": "fragment"
      }
     },
     "source": [
      "# How to hack the clustering methods ... ? "
     ]
    },
    {
     "cell_type": "markdown",
     "metadata": {
      "slideshow": {
       "slide_type": "slide"
      }
     },
     "source": [
      "# The Distance (or Metric) plays a very important roles ... "
     ]
    },
    {
     "cell_type": "markdown",
     "metadata": {
      "slideshow": {
       "slide_type": "fragment"
      }
     },
     "source": [
      "# In clustering methods ... "
     ]
    },
    {
     "cell_type": "markdown",
     "metadata": {
      "slideshow": {
       "slide_type": "fragment"
      }
     },
     "source": [
      "# In classification methods ... "
     ]
    },
    {
     "cell_type": "markdown",
     "metadata": {
      "slideshow": {
       "slide_type": "fragment"
      }
     },
     "source": [
      "# In everywhere ... "
     ]
    },
    {
     "cell_type": "markdown",
     "metadata": {
      "slideshow": {
       "slide_type": "subslide"
      }
     },
     "source": [
      "# Let me show you some examples ... "
     ]
    },
    {
     "cell_type": "markdown",
     "metadata": {
      "slideshow": {
       "slide_type": "fragment"
      }
     },
     "source": [
      "# We all have learned the equations:\n",
      "\n",
      "# $$ 103 - 100 = 3 = 6 - 3 $$ "
     ]
    },
    {
     "cell_type": "markdown",
     "metadata": {
      "slideshow": {
       "slide_type": "subslide"
      }
     },
     "source": [
      "# However, if we adding back to the UNITs of measurement ... "
     ]
    },
    {
     "cell_type": "markdown",
     "metadata": {
      "slideshow": {
       "slide_type": "subslide"
      }
     },
     "source": [
      "# $$ 103 - 100 = 6 - 3 (\\$) $$ \n",
      "# $$ 103 \\$ - 100 \\$ = 6 \\$ - 3 \\$ $$ "
     ]
    },
    {
     "cell_type": "markdown",
     "metadata": {
      "slideshow": {
       "slide_type": "subslide"
      }
     },
     "source": [
      "# $$ 103 - 100 = 6 - 3 (\\$ stock) $$ \n",
      "# $$ 103 \\$ stock - 100 \\$ stock = 6 \\$ stock - 3 \\$ stock $$ "
     ]
    },
    {
     "cell_type": "markdown",
     "metadata": {
      "slideshow": {
       "slide_type": "fragment"
      }
     },
     "source": [
      "# Some people would think ... "
     ]
    },
    {
     "cell_type": "markdown",
     "metadata": {
      "slideshow": {
       "slide_type": "fragment"
      }
     },
     "source": [
      "# $$ \\frac{103 - 100}{100} = 3 \\% < 100 \\%  = \\frac{6 - 3}{3}$$ "
     ]
    },
    {
     "cell_type": "markdown",
     "metadata": {
      "slideshow": {
       "slide_type": "subslide"
      }
     },
     "source": [
      "# That means we sometimes will intuitively feel ... "
     ]
    },
    {
     "cell_type": "markdown",
     "metadata": {
      "slideshow": {
       "slide_type": "fragment"
      }
     },
     "source": [
      "## $$ 103 - 100 < 6 - 3 $$ "
     ]
    },
    {
     "cell_type": "markdown",
     "metadata": {
      "slideshow": {
       "slide_type": "fragment"
      }
     },
     "source": [
      "# or more actually ... "
     ]
    },
    {
     "cell_type": "markdown",
     "metadata": {
      "slideshow": {
       "slide_type": "fragment"
      }
     },
     "source": [
      "## $$ distance(103, 100) < distance(6, 3) $$ "
     ]
    },
    {
     "cell_type": "markdown",
     "metadata": {
      "slideshow": {
       "slide_type": "subslide"
      }
     },
     "source": [
      "# and maybe you can also find ... "
     ]
    },
    {
     "cell_type": "markdown",
     "metadata": {
      "slideshow": {
       "slide_type": "fragment"
      }
     },
     "source": [
      "# in some case ... ???\n",
      "\n",
      "## $$ distance(103, 100) > distance(6, 3) $$ "
     ]
    },
    {
     "cell_type": "markdown",
     "metadata": {
      "slideshow": {
       "slide_type": "slide"
      }
     },
     "source": [
      "# Another Example ... from text mining ... "
     ]
    },
    {
     "cell_type": "code",
     "collapsed": false,
     "input": [
      "import PlaYnlp.tokenizer as tkr \n",
      "import PlaYnlp.vectorizer as vcr\n",
      "from PlaYnlp import dataio\n",
      "import PlaYnlp.analysis.heuristics.text_clustering.weighted_features_methods as wfms\n",
      "\n",
      "from PlaYnlp.sparse import L0_norm_col_summarizer as L0_col_sum\n",
      "from PlaYnlp.sparse import L1_norm_col_summarizer as L1_col_sum\n",
      "import numpy as np\n",
      "import scipy as sp"
     ],
     "language": "python",
     "metadata": {
      "slideshow": {
       "slide_type": "subslide"
      }
     },
     "outputs": [],
     "prompt_number": 6
    },
    {
     "cell_type": "code",
     "collapsed": false,
     "input": [
      "jieba_without_html_tokenizer = tkr.tokenize_gen(lambda text:tkr.jieba.cut(tkr.nltk.clean_html(text)))\n",
      "unigram_without_html_tokenizer = tkr.tokenize_gen(lambda text:tkr.ngram(tkr.nltk.clean_html(text),n=[1]))\n",
      "bigram_without_html_tokenizer = tkr.tokenize_gen(lambda text:tkr.ngram(tkr.nltk.clean_html(text),n=2))\n",
      "unigram_bigram_without_html_tokenizer = tkr.tokenize_gen(lambda text:tkr.ngram(tkr.nltk.clean_html(text),n=[1,2]))\n",
      "jieba_vec_count_kwargs = {\"tokenizer\":jieba_without_html_tokenizer,\"lowercase\":False}\n",
      "unigram_vec_count_kwargs = {\"tokenizer\":unigram_without_html_tokenizer,\"lowercase\":False}\n",
      "bigram_vec_count_kwargs = {\"tokenizer\":bigram_without_html_tokenizer,\"lowercase\":False}\n",
      "unigram_bigram_vec_count_kwargs = {\"tokenizer\":unigram_bigram_without_html_tokenizer,\"lowercase\":False}"
     ],
     "language": "python",
     "metadata": {
      "slideshow": {
       "slide_type": "subslide"
      }
     },
     "outputs": [],
     "prompt_number": 7
    },
    {
     "cell_type": "code",
     "collapsed": false,
     "input": [
      "import pandas as pd \n",
      "test_text_df = pd.DataFrame([u\"\u4eca\u5929\u5929\u6c23\u5f88\u597d\",u\"\u4eca\u5929\u5929\u6c23\u5f88\u721b\",u\"\u4eca\u5929\u5929\u6c23\u5f88\u8b9a\",u\"\u6211\u6068\u5b83\",u\"\u5b83\u6068\u6211\",u\"\u6211\u611b\u5b83\",u\"\u5b83\u611b\u6211\",u\"\u4eca\u5929\u5f88\u8870\",\"\u65e5\u5b50\u4e00\u5929\u4e00\u5929\u904e\",\"\u5929\u5929\u5237\u7259\u6d17\u81c9\"])\n",
      "test_text_df.columns = [\"text\"]\n",
      "test_text_df = test_text_df.reset_index()\n",
      "test_text_df"
     ],
     "language": "python",
     "metadata": {
      "slideshow": {
       "slide_type": "subslide"
      }
     },
     "outputs": [
      {
       "html": [
        "<div style=\"max-height:1000px;max-width:1500px;overflow:auto;\">\n",
        "<table border=\"1\" class=\"dataframe\">\n",
        "  <thead>\n",
        "    <tr style=\"text-align: right;\">\n",
        "      <th></th>\n",
        "      <th>index</th>\n",
        "      <th>text</th>\n",
        "    </tr>\n",
        "  </thead>\n",
        "  <tbody>\n",
        "    <tr>\n",
        "      <th>0</th>\n",
        "      <td> 0</td>\n",
        "      <td>  \u4eca\u5929\u5929\u6c23\u5f88\u597d</td>\n",
        "    </tr>\n",
        "    <tr>\n",
        "      <th>1</th>\n",
        "      <td> 1</td>\n",
        "      <td>  \u4eca\u5929\u5929\u6c23\u5f88\u721b</td>\n",
        "    </tr>\n",
        "    <tr>\n",
        "      <th>2</th>\n",
        "      <td> 2</td>\n",
        "      <td>  \u4eca\u5929\u5929\u6c23\u5f88\u8b9a</td>\n",
        "    </tr>\n",
        "    <tr>\n",
        "      <th>3</th>\n",
        "      <td> 3</td>\n",
        "      <td>     \u6211\u6068\u5b83</td>\n",
        "    </tr>\n",
        "    <tr>\n",
        "      <th>4</th>\n",
        "      <td> 4</td>\n",
        "      <td>     \u5b83\u6068\u6211</td>\n",
        "    </tr>\n",
        "    <tr>\n",
        "      <th>5</th>\n",
        "      <td> 5</td>\n",
        "      <td>     \u6211\u611b\u5b83</td>\n",
        "    </tr>\n",
        "    <tr>\n",
        "      <th>6</th>\n",
        "      <td> 6</td>\n",
        "      <td>     \u5b83\u611b\u6211</td>\n",
        "    </tr>\n",
        "    <tr>\n",
        "      <th>7</th>\n",
        "      <td> 7</td>\n",
        "      <td>    \u4eca\u5929\u5f88\u8870</td>\n",
        "    </tr>\n",
        "    <tr>\n",
        "      <th>8</th>\n",
        "      <td> 8</td>\n",
        "      <td> \u65e5\u5b50\u4e00\u5929\u4e00\u5929\u904e</td>\n",
        "    </tr>\n",
        "    <tr>\n",
        "      <th>9</th>\n",
        "      <td> 9</td>\n",
        "      <td>  \u5929\u5929\u5237\u7259\u6d17\u81c9</td>\n",
        "    </tr>\n",
        "  </tbody>\n",
        "</table>\n",
        "<p>10 rows \u00d7 2 columns</p>\n",
        "</div>"
       ],
       "metadata": {},
       "output_type": "pyout",
       "prompt_number": 13,
       "text": [
        "   index     text\n",
        "0      0   \u4eca\u5929\u5929\u6c23\u5f88\u597d\n",
        "1      1   \u4eca\u5929\u5929\u6c23\u5f88\u721b\n",
        "2      2   \u4eca\u5929\u5929\u6c23\u5f88\u8b9a\n",
        "3      3      \u6211\u6068\u5b83\n",
        "4      4      \u5b83\u6068\u6211\n",
        "5      5      \u6211\u611b\u5b83\n",
        "6      6      \u5b83\u611b\u6211\n",
        "7      7     \u4eca\u5929\u5f88\u8870\n",
        "8      8  \u65e5\u5b50\u4e00\u5929\u4e00\u5929\u904e\n",
        "9      9   \u5929\u5929\u5237\u7259\u6d17\u81c9\n",
        "\n",
        "[10 rows x 2 columns]"
       ]
      }
     ],
     "prompt_number": 13
    },
    {
     "cell_type": "code",
     "collapsed": false,
     "input": [
      "unigram_sdtm = vcr.vectorize_text(df=test_text_df,\n",
      "                                  text_col=\"text\", \n",
      "                                  idx_col=\"index\", \n",
      "                                  cond_query={},\n",
      "                                  idx_query= [],\n",
      "                                  vect_gen=vcr.CountVectorizer, \n",
      "                                  vect_gen_init_kwargs = unigram_vec_count_kwargs,\n",
      "                                  summarizer=L1_col_sum)\n",
      "unigram_sdtm.to_pandas_df"
     ],
     "language": "python",
     "metadata": {
      "slideshow": {
       "slide_type": "subslide"
      }
     },
     "outputs": [
      {
       "html": [
        "<div style=\"max-height:1000px;max-width:1500px;overflow:auto;\">\n",
        "<table border=\"1\" class=\"dataframe\">\n",
        "  <thead>\n",
        "    <tr style=\"text-align: right;\">\n",
        "      <th></th>\n",
        "      <th>\u4e00</th>\n",
        "      <th>\u4eca</th>\n",
        "      <th>\u5237</th>\n",
        "      <th>\u5929</th>\n",
        "      <th>\u597d</th>\n",
        "      <th>\u5b50</th>\n",
        "      <th>\u5b83</th>\n",
        "      <th>\u5f88</th>\n",
        "      <th>\u6068</th>\n",
        "      <th>\u611b</th>\n",
        "      <th>\u6211</th>\n",
        "      <th>\u65e5</th>\n",
        "      <th>\u6c23</th>\n",
        "      <th>\u6d17</th>\n",
        "      <th>\u721b</th>\n",
        "      <th>\u7259</th>\n",
        "      <th>\u81c9</th>\n",
        "      <th>\u8870</th>\n",
        "      <th>\u8b9a</th>\n",
        "      <th>\u904e</th>\n",
        "    </tr>\n",
        "  </thead>\n",
        "  <tbody>\n",
        "    <tr>\n",
        "      <th>0</th>\n",
        "      <td> 0</td>\n",
        "      <td> 1</td>\n",
        "      <td> 0</td>\n",
        "      <td> 2</td>\n",
        "      <td> 1</td>\n",
        "      <td> 0</td>\n",
        "      <td> 0</td>\n",
        "      <td> 1</td>\n",
        "      <td> 0</td>\n",
        "      <td> 0</td>\n",
        "      <td> 0</td>\n",
        "      <td> 0</td>\n",
        "      <td> 1</td>\n",
        "      <td> 0</td>\n",
        "      <td> 0</td>\n",
        "      <td> 0</td>\n",
        "      <td> 0</td>\n",
        "      <td> 0</td>\n",
        "      <td> 0</td>\n",
        "      <td> 0</td>\n",
        "    </tr>\n",
        "    <tr>\n",
        "      <th>1</th>\n",
        "      <td> 0</td>\n",
        "      <td> 1</td>\n",
        "      <td> 0</td>\n",
        "      <td> 2</td>\n",
        "      <td> 0</td>\n",
        "      <td> 0</td>\n",
        "      <td> 0</td>\n",
        "      <td> 1</td>\n",
        "      <td> 0</td>\n",
        "      <td> 0</td>\n",
        "      <td> 0</td>\n",
        "      <td> 0</td>\n",
        "      <td> 1</td>\n",
        "      <td> 0</td>\n",
        "      <td> 1</td>\n",
        "      <td> 0</td>\n",
        "      <td> 0</td>\n",
        "      <td> 0</td>\n",
        "      <td> 0</td>\n",
        "      <td> 0</td>\n",
        "    </tr>\n",
        "    <tr>\n",
        "      <th>2</th>\n",
        "      <td> 0</td>\n",
        "      <td> 1</td>\n",
        "      <td> 0</td>\n",
        "      <td> 2</td>\n",
        "      <td> 0</td>\n",
        "      <td> 0</td>\n",
        "      <td> 0</td>\n",
        "      <td> 1</td>\n",
        "      <td> 0</td>\n",
        "      <td> 0</td>\n",
        "      <td> 0</td>\n",
        "      <td> 0</td>\n",
        "      <td> 1</td>\n",
        "      <td> 0</td>\n",
        "      <td> 0</td>\n",
        "      <td> 0</td>\n",
        "      <td> 0</td>\n",
        "      <td> 0</td>\n",
        "      <td> 1</td>\n",
        "      <td> 0</td>\n",
        "    </tr>\n",
        "    <tr>\n",
        "      <th>3</th>\n",
        "      <td> 0</td>\n",
        "      <td> 0</td>\n",
        "      <td> 0</td>\n",
        "      <td> 0</td>\n",
        "      <td> 0</td>\n",
        "      <td> 0</td>\n",
        "      <td> 1</td>\n",
        "      <td> 0</td>\n",
        "      <td> 1</td>\n",
        "      <td> 0</td>\n",
        "      <td> 1</td>\n",
        "      <td> 0</td>\n",
        "      <td> 0</td>\n",
        "      <td> 0</td>\n",
        "      <td> 0</td>\n",
        "      <td> 0</td>\n",
        "      <td> 0</td>\n",
        "      <td> 0</td>\n",
        "      <td> 0</td>\n",
        "      <td> 0</td>\n",
        "    </tr>\n",
        "    <tr>\n",
        "      <th>4</th>\n",
        "      <td> 0</td>\n",
        "      <td> 0</td>\n",
        "      <td> 0</td>\n",
        "      <td> 0</td>\n",
        "      <td> 0</td>\n",
        "      <td> 0</td>\n",
        "      <td> 1</td>\n",
        "      <td> 0</td>\n",
        "      <td> 1</td>\n",
        "      <td> 0</td>\n",
        "      <td> 1</td>\n",
        "      <td> 0</td>\n",
        "      <td> 0</td>\n",
        "      <td> 0</td>\n",
        "      <td> 0</td>\n",
        "      <td> 0</td>\n",
        "      <td> 0</td>\n",
        "      <td> 0</td>\n",
        "      <td> 0</td>\n",
        "      <td> 0</td>\n",
        "    </tr>\n",
        "    <tr>\n",
        "      <th>5</th>\n",
        "      <td> 0</td>\n",
        "      <td> 0</td>\n",
        "      <td> 0</td>\n",
        "      <td> 0</td>\n",
        "      <td> 0</td>\n",
        "      <td> 0</td>\n",
        "      <td> 1</td>\n",
        "      <td> 0</td>\n",
        "      <td> 0</td>\n",
        "      <td> 1</td>\n",
        "      <td> 1</td>\n",
        "      <td> 0</td>\n",
        "      <td> 0</td>\n",
        "      <td> 0</td>\n",
        "      <td> 0</td>\n",
        "      <td> 0</td>\n",
        "      <td> 0</td>\n",
        "      <td> 0</td>\n",
        "      <td> 0</td>\n",
        "      <td> 0</td>\n",
        "    </tr>\n",
        "    <tr>\n",
        "      <th>6</th>\n",
        "      <td> 0</td>\n",
        "      <td> 0</td>\n",
        "      <td> 0</td>\n",
        "      <td> 0</td>\n",
        "      <td> 0</td>\n",
        "      <td> 0</td>\n",
        "      <td> 1</td>\n",
        "      <td> 0</td>\n",
        "      <td> 0</td>\n",
        "      <td> 1</td>\n",
        "      <td> 1</td>\n",
        "      <td> 0</td>\n",
        "      <td> 0</td>\n",
        "      <td> 0</td>\n",
        "      <td> 0</td>\n",
        "      <td> 0</td>\n",
        "      <td> 0</td>\n",
        "      <td> 0</td>\n",
        "      <td> 0</td>\n",
        "      <td> 0</td>\n",
        "    </tr>\n",
        "    <tr>\n",
        "      <th>7</th>\n",
        "      <td> 0</td>\n",
        "      <td> 1</td>\n",
        "      <td> 0</td>\n",
        "      <td> 1</td>\n",
        "      <td> 0</td>\n",
        "      <td> 0</td>\n",
        "      <td> 0</td>\n",
        "      <td> 1</td>\n",
        "      <td> 0</td>\n",
        "      <td> 0</td>\n",
        "      <td> 0</td>\n",
        "      <td> 0</td>\n",
        "      <td> 0</td>\n",
        "      <td> 0</td>\n",
        "      <td> 0</td>\n",
        "      <td> 0</td>\n",
        "      <td> 0</td>\n",
        "      <td> 1</td>\n",
        "      <td> 0</td>\n",
        "      <td> 0</td>\n",
        "    </tr>\n",
        "    <tr>\n",
        "      <th>8</th>\n",
        "      <td> 2</td>\n",
        "      <td> 0</td>\n",
        "      <td> 0</td>\n",
        "      <td> 2</td>\n",
        "      <td> 0</td>\n",
        "      <td> 1</td>\n",
        "      <td> 0</td>\n",
        "      <td> 0</td>\n",
        "      <td> 0</td>\n",
        "      <td> 0</td>\n",
        "      <td> 0</td>\n",
        "      <td> 1</td>\n",
        "      <td> 0</td>\n",
        "      <td> 0</td>\n",
        "      <td> 0</td>\n",
        "      <td> 0</td>\n",
        "      <td> 0</td>\n",
        "      <td> 0</td>\n",
        "      <td> 0</td>\n",
        "      <td> 1</td>\n",
        "    </tr>\n",
        "    <tr>\n",
        "      <th>9</th>\n",
        "      <td> 0</td>\n",
        "      <td> 0</td>\n",
        "      <td> 1</td>\n",
        "      <td> 2</td>\n",
        "      <td> 0</td>\n",
        "      <td> 0</td>\n",
        "      <td> 0</td>\n",
        "      <td> 0</td>\n",
        "      <td> 0</td>\n",
        "      <td> 0</td>\n",
        "      <td> 0</td>\n",
        "      <td> 0</td>\n",
        "      <td> 0</td>\n",
        "      <td> 1</td>\n",
        "      <td> 0</td>\n",
        "      <td> 1</td>\n",
        "      <td> 1</td>\n",
        "      <td> 0</td>\n",
        "      <td> 0</td>\n",
        "      <td> 0</td>\n",
        "    </tr>\n",
        "  </tbody>\n",
        "</table>\n",
        "<p>10 rows \u00d7 20 columns</p>\n",
        "</div>"
       ],
       "metadata": {},
       "output_type": "pyout",
       "prompt_number": 14,
       "text": [
        "   \u4e00  \u4eca  \u5237  \u5929  \u597d  \u5b50  \u5b83  \u5f88  \u6068  \u611b  \u6211  \u65e5  \u6c23  \u6d17  \u721b  \u7259  \u81c9  \u8870  \u8b9a  \u904e\n",
        "0  0  1  0  2  1  0  0  1  0  0  0  0  1  0  0  0  0  0  0  0\n",
        "1  0  1  0  2  0  0  0  1  0  0  0  0  1  0  1  0  0  0  0  0\n",
        "2  0  1  0  2  0  0  0  1  0  0  0  0  1  0  0  0  0  0  1  0\n",
        "3  0  0  0  0  0  0  1  0  1  0  1  0  0  0  0  0  0  0  0  0\n",
        "4  0  0  0  0  0  0  1  0  1  0  1  0  0  0  0  0  0  0  0  0\n",
        "5  0  0  0  0  0  0  1  0  0  1  1  0  0  0  0  0  0  0  0  0\n",
        "6  0  0  0  0  0  0  1  0  0  1  1  0  0  0  0  0  0  0  0  0\n",
        "7  0  1  0  1  0  0  0  1  0  0  0  0  0  0  0  0  0  1  0  0\n",
        "8  2  0  0  2  0  1  0  0  0  0  0  1  0  0  0  0  0  0  0  1\n",
        "9  0  0  1  2  0  0  0  0  0  0  0  0  0  1  0  1  1  0  0  0\n",
        "\n",
        "[10 rows x 20 columns]"
       ]
      }
     ],
     "prompt_number": 14
    },
    {
     "cell_type": "markdown",
     "metadata": {
      "slideshow": {
       "slide_type": "subslide"
      }
     },
     "source": [
      "# Feature Generation ... is very important ... \n",
      "\n",
      "## It's just like eyes of the models ... "
     ]
    },
    {
     "cell_type": "code",
     "collapsed": false,
     "input": [
      "bigram_sdtm = vcr.vectorize_text(df=test_text_df,\n",
      "                                  text_col=\"text\", \n",
      "                                  idx_col=\"index\", \n",
      "                                  cond_query={},\n",
      "                                  idx_query= [],\n",
      "                                  vect_gen=vcr.CountVectorizer, \n",
      "                                  vect_gen_init_kwargs = bigram_vec_count_kwargs,\n",
      "                                  summarizer=L1_col_sum)\n",
      "bigram_sdtm.to_pandas_df"
     ],
     "language": "python",
     "metadata": {
      "slideshow": {
       "slide_type": "fragment"
      }
     },
     "outputs": [
      {
       "html": [
        "<div style=\"max-height:1000px;max-width:1500px;overflow:auto;\">\n",
        "<table border=\"1\" class=\"dataframe\">\n",
        "  <thead>\n",
        "    <tr style=\"text-align: right;\">\n",
        "      <th></th>\n",
        "      <th>\u4e00\u5929</th>\n",
        "      <th>\u4eca\u5929</th>\n",
        "      <th>\u5237\u7259</th>\n",
        "      <th>\u5929\u4e00</th>\n",
        "      <th>\u5929\u5237</th>\n",
        "      <th>\u5929\u5929</th>\n",
        "      <th>\u5929\u5f88</th>\n",
        "      <th>\u5929\u6c23</th>\n",
        "      <th>\u5929\u904e</th>\n",
        "      <th>\u5b50\u4e00</th>\n",
        "      <th>\u5b83\u6068</th>\n",
        "      <th>\u5b83\u611b</th>\n",
        "      <th>\u5f88\u597d</th>\n",
        "      <th>\u5f88\u721b</th>\n",
        "      <th>\u5f88\u8870</th>\n",
        "      <th>\u5f88\u8b9a</th>\n",
        "      <th>\u6068\u5b83</th>\n",
        "      <th>\u6068\u6211</th>\n",
        "      <th>\u611b\u5b83</th>\n",
        "      <th>\u611b\u6211</th>\n",
        "      <th></th>\n",
        "    </tr>\n",
        "  </thead>\n",
        "  <tbody>\n",
        "    <tr>\n",
        "      <th>0</th>\n",
        "      <td> 0</td>\n",
        "      <td> 1</td>\n",
        "      <td> 0</td>\n",
        "      <td> 0</td>\n",
        "      <td> 0</td>\n",
        "      <td> 1</td>\n",
        "      <td> 0</td>\n",
        "      <td> 1</td>\n",
        "      <td> 0</td>\n",
        "      <td> 0</td>\n",
        "      <td> 0</td>\n",
        "      <td> 0</td>\n",
        "      <td> 1</td>\n",
        "      <td> 0</td>\n",
        "      <td> 0</td>\n",
        "      <td> 0</td>\n",
        "      <td> 0</td>\n",
        "      <td> 0</td>\n",
        "      <td> 0</td>\n",
        "      <td> 0</td>\n",
        "      <td>...</td>\n",
        "    </tr>\n",
        "    <tr>\n",
        "      <th>1</th>\n",
        "      <td> 0</td>\n",
        "      <td> 1</td>\n",
        "      <td> 0</td>\n",
        "      <td> 0</td>\n",
        "      <td> 0</td>\n",
        "      <td> 1</td>\n",
        "      <td> 0</td>\n",
        "      <td> 1</td>\n",
        "      <td> 0</td>\n",
        "      <td> 0</td>\n",
        "      <td> 0</td>\n",
        "      <td> 0</td>\n",
        "      <td> 0</td>\n",
        "      <td> 1</td>\n",
        "      <td> 0</td>\n",
        "      <td> 0</td>\n",
        "      <td> 0</td>\n",
        "      <td> 0</td>\n",
        "      <td> 0</td>\n",
        "      <td> 0</td>\n",
        "      <td>...</td>\n",
        "    </tr>\n",
        "    <tr>\n",
        "      <th>2</th>\n",
        "      <td> 0</td>\n",
        "      <td> 1</td>\n",
        "      <td> 0</td>\n",
        "      <td> 0</td>\n",
        "      <td> 0</td>\n",
        "      <td> 1</td>\n",
        "      <td> 0</td>\n",
        "      <td> 1</td>\n",
        "      <td> 0</td>\n",
        "      <td> 0</td>\n",
        "      <td> 0</td>\n",
        "      <td> 0</td>\n",
        "      <td> 0</td>\n",
        "      <td> 0</td>\n",
        "      <td> 0</td>\n",
        "      <td> 1</td>\n",
        "      <td> 0</td>\n",
        "      <td> 0</td>\n",
        "      <td> 0</td>\n",
        "      <td> 0</td>\n",
        "      <td>...</td>\n",
        "    </tr>\n",
        "    <tr>\n",
        "      <th>3</th>\n",
        "      <td> 0</td>\n",
        "      <td> 0</td>\n",
        "      <td> 0</td>\n",
        "      <td> 0</td>\n",
        "      <td> 0</td>\n",
        "      <td> 0</td>\n",
        "      <td> 0</td>\n",
        "      <td> 0</td>\n",
        "      <td> 0</td>\n",
        "      <td> 0</td>\n",
        "      <td> 0</td>\n",
        "      <td> 0</td>\n",
        "      <td> 0</td>\n",
        "      <td> 0</td>\n",
        "      <td> 0</td>\n",
        "      <td> 0</td>\n",
        "      <td> 1</td>\n",
        "      <td> 0</td>\n",
        "      <td> 0</td>\n",
        "      <td> 0</td>\n",
        "      <td>...</td>\n",
        "    </tr>\n",
        "    <tr>\n",
        "      <th>4</th>\n",
        "      <td> 0</td>\n",
        "      <td> 0</td>\n",
        "      <td> 0</td>\n",
        "      <td> 0</td>\n",
        "      <td> 0</td>\n",
        "      <td> 0</td>\n",
        "      <td> 0</td>\n",
        "      <td> 0</td>\n",
        "      <td> 0</td>\n",
        "      <td> 0</td>\n",
        "      <td> 1</td>\n",
        "      <td> 0</td>\n",
        "      <td> 0</td>\n",
        "      <td> 0</td>\n",
        "      <td> 0</td>\n",
        "      <td> 0</td>\n",
        "      <td> 0</td>\n",
        "      <td> 1</td>\n",
        "      <td> 0</td>\n",
        "      <td> 0</td>\n",
        "      <td>...</td>\n",
        "    </tr>\n",
        "    <tr>\n",
        "      <th>5</th>\n",
        "      <td> 0</td>\n",
        "      <td> 0</td>\n",
        "      <td> 0</td>\n",
        "      <td> 0</td>\n",
        "      <td> 0</td>\n",
        "      <td> 0</td>\n",
        "      <td> 0</td>\n",
        "      <td> 0</td>\n",
        "      <td> 0</td>\n",
        "      <td> 0</td>\n",
        "      <td> 0</td>\n",
        "      <td> 0</td>\n",
        "      <td> 0</td>\n",
        "      <td> 0</td>\n",
        "      <td> 0</td>\n",
        "      <td> 0</td>\n",
        "      <td> 0</td>\n",
        "      <td> 0</td>\n",
        "      <td> 1</td>\n",
        "      <td> 0</td>\n",
        "      <td>...</td>\n",
        "    </tr>\n",
        "    <tr>\n",
        "      <th>6</th>\n",
        "      <td> 0</td>\n",
        "      <td> 0</td>\n",
        "      <td> 0</td>\n",
        "      <td> 0</td>\n",
        "      <td> 0</td>\n",
        "      <td> 0</td>\n",
        "      <td> 0</td>\n",
        "      <td> 0</td>\n",
        "      <td> 0</td>\n",
        "      <td> 0</td>\n",
        "      <td> 0</td>\n",
        "      <td> 1</td>\n",
        "      <td> 0</td>\n",
        "      <td> 0</td>\n",
        "      <td> 0</td>\n",
        "      <td> 0</td>\n",
        "      <td> 0</td>\n",
        "      <td> 0</td>\n",
        "      <td> 0</td>\n",
        "      <td> 1</td>\n",
        "      <td>...</td>\n",
        "    </tr>\n",
        "    <tr>\n",
        "      <th>7</th>\n",
        "      <td> 0</td>\n",
        "      <td> 1</td>\n",
        "      <td> 0</td>\n",
        "      <td> 0</td>\n",
        "      <td> 0</td>\n",
        "      <td> 0</td>\n",
        "      <td> 1</td>\n",
        "      <td> 0</td>\n",
        "      <td> 0</td>\n",
        "      <td> 0</td>\n",
        "      <td> 0</td>\n",
        "      <td> 0</td>\n",
        "      <td> 0</td>\n",
        "      <td> 0</td>\n",
        "      <td> 1</td>\n",
        "      <td> 0</td>\n",
        "      <td> 0</td>\n",
        "      <td> 0</td>\n",
        "      <td> 0</td>\n",
        "      <td> 0</td>\n",
        "      <td>...</td>\n",
        "    </tr>\n",
        "    <tr>\n",
        "      <th>8</th>\n",
        "      <td> 2</td>\n",
        "      <td> 0</td>\n",
        "      <td> 0</td>\n",
        "      <td> 1</td>\n",
        "      <td> 0</td>\n",
        "      <td> 0</td>\n",
        "      <td> 0</td>\n",
        "      <td> 0</td>\n",
        "      <td> 1</td>\n",
        "      <td> 1</td>\n",
        "      <td> 0</td>\n",
        "      <td> 0</td>\n",
        "      <td> 0</td>\n",
        "      <td> 0</td>\n",
        "      <td> 0</td>\n",
        "      <td> 0</td>\n",
        "      <td> 0</td>\n",
        "      <td> 0</td>\n",
        "      <td> 0</td>\n",
        "      <td> 0</td>\n",
        "      <td>...</td>\n",
        "    </tr>\n",
        "    <tr>\n",
        "      <th>9</th>\n",
        "      <td> 0</td>\n",
        "      <td> 0</td>\n",
        "      <td> 1</td>\n",
        "      <td> 0</td>\n",
        "      <td> 1</td>\n",
        "      <td> 1</td>\n",
        "      <td> 0</td>\n",
        "      <td> 0</td>\n",
        "      <td> 0</td>\n",
        "      <td> 0</td>\n",
        "      <td> 0</td>\n",
        "      <td> 0</td>\n",
        "      <td> 0</td>\n",
        "      <td> 0</td>\n",
        "      <td> 0</td>\n",
        "      <td> 0</td>\n",
        "      <td> 0</td>\n",
        "      <td> 0</td>\n",
        "      <td> 0</td>\n",
        "      <td> 0</td>\n",
        "      <td>...</td>\n",
        "    </tr>\n",
        "  </tbody>\n",
        "</table>\n",
        "<p>10 rows \u00d7 26 columns</p>\n",
        "</div>"
       ],
       "metadata": {},
       "output_type": "pyout",
       "prompt_number": 15,
       "text": [
        "   \u4e00\u5929  \u4eca\u5929  \u5237\u7259  \u5929\u4e00  \u5929\u5237  \u5929\u5929  \u5929\u5f88  \u5929\u6c23  \u5929\u904e  \u5b50\u4e00  \u5b83\u6068  \u5b83\u611b  \u5f88\u597d  \u5f88\u721b  \u5f88\u8870  \u5f88\u8b9a  \u6068\u5b83  \u6068\u6211  \u611b\u5b83  \\\n",
        "0   0   1   0   0   0   1   0   1   0   0   0   0   1   0   0   0   0   0   0   \n",
        "1   0   1   0   0   0   1   0   1   0   0   0   0   0   1   0   0   0   0   0   \n",
        "2   0   1   0   0   0   1   0   1   0   0   0   0   0   0   0   1   0   0   0   \n",
        "3   0   0   0   0   0   0   0   0   0   0   0   0   0   0   0   0   1   0   0   \n",
        "4   0   0   0   0   0   0   0   0   0   0   1   0   0   0   0   0   0   1   0   \n",
        "5   0   0   0   0   0   0   0   0   0   0   0   0   0   0   0   0   0   0   1   \n",
        "6   0   0   0   0   0   0   0   0   0   0   0   1   0   0   0   0   0   0   0   \n",
        "7   0   1   0   0   0   0   1   0   0   0   0   0   0   0   1   0   0   0   0   \n",
        "8   2   0   0   1   0   0   0   0   1   1   0   0   0   0   0   0   0   0   0   \n",
        "9   0   0   1   0   1   1   0   0   0   0   0   0   0   0   0   0   0   0   0   \n",
        "\n",
        "   \u611b\u6211      \n",
        "0   0 ...  \n",
        "1   0 ...  \n",
        "2   0 ...  \n",
        "3   0 ...  \n",
        "4   0 ...  \n",
        "5   0 ...  \n",
        "6   1 ...  \n",
        "7   0 ...  \n",
        "8   0 ...  \n",
        "9   0 ...  \n",
        "\n",
        "[10 rows x 26 columns]"
       ]
      }
     ],
     "prompt_number": 15
    },
    {
     "cell_type": "code",
     "collapsed": false,
     "input": [
      "fig = pylab.figure()\n",
      "ax1 = fig.add_axes([0.0,0.0,1.0,1.0])\n",
      "ax1.spy(unigram_sdtm._smatrix)\n",
      "ax1.set_xticks(range(len(unigram_sdtm._term_idx)))\n",
      "ax1.set_xticklabels(unigram_sdtm._term_idx, fontproperties=cfont)"
     ],
     "language": "python",
     "metadata": {
      "slideshow": {
       "slide_type": "subslide"
      }
     },
     "outputs": [
      {
       "metadata": {},
       "output_type": "pyout",
       "prompt_number": 16,
       "text": [
        "[<matplotlib.text.Text at 0x569b550>,\n",
        " <matplotlib.text.Text at 0x4abc210>,\n",
        " <matplotlib.text.Text at 0x49f0390>,\n",
        " <matplotlib.text.Text at 0x49f0b50>,\n",
        " <matplotlib.text.Text at 0x49f85d0>,\n",
        " <matplotlib.text.Text at 0x49f8410>,\n",
        " <matplotlib.text.Text at 0x4a035d0>,\n",
        " <matplotlib.text.Text at 0x4a03150>,\n",
        " <matplotlib.text.Text at 0x49edc10>,\n",
        " <matplotlib.text.Text at 0x49ca9d0>,\n",
        " <matplotlib.text.Text at 0x5693e10>,\n",
        " <matplotlib.text.Text at 0x57fbc10>,\n",
        " <matplotlib.text.Text at 0x4ac5950>,\n",
        " <matplotlib.text.Text at 0x4ac3710>,\n",
        " <matplotlib.text.Text at 0x4ac3cd0>,\n",
        " <matplotlib.text.Text at 0x4aca690>,\n",
        " <matplotlib.text.Text at 0x57fc150>,\n",
        " <matplotlib.text.Text at 0x57fcf10>,\n",
        " <matplotlib.text.Text at 0x5806690>,\n",
        " <matplotlib.text.Text at 0x5806dd0>]"
       ]
      },
      {
       "metadata": {},
       "output_type": "display_data",
       "png": "[encoded data removed]",
       "text": [
        "<matplotlib.figure.Figure at 0x57e4b50>"
       ]
      }
     ],
     "prompt_number": 16
    },
    {
     "cell_type": "markdown",
     "metadata": {
      "slideshow": {
       "slide_type": "subslide"
      }
     },
     "source": [
      "# Compute the distance between first two sentances ... \n",
      "\n",
      "- ## s1: The weather is good today \n",
      "- ## s2: The weather is bad today \n",
      "- ## s3: The weather is great today \n",
      "- ## d(s1,s2) = + good - bad \n",
      "- ## d(s1,s3) = + good - great"
     ]
    },
    {
     "cell_type": "code",
     "collapsed": false,
     "input": [
      "import numpy\n",
      "n = unigram_sdtm.to_pandas_df.values.shape[1]\n",
      "vec = unigram_sdtm.to_pandas_df.values\n",
      "d12 = vec[0] - vec[1] \n",
      "d13 = vec[0] - vec[2] \n",
      "d12, d13"
     ],
     "language": "python",
     "metadata": {
      "slideshow": {
       "slide_type": "subslide"
      }
     },
     "outputs": [
      {
       "metadata": {},
       "output_type": "pyout",
       "prompt_number": 19,
       "text": [
        "(array([ 0,  0,  0,  0,  1,  0,  0,  0,  0,  0,  0,  0,  0,  0, -1,  0,  0,\n",
        "         0,  0,  0]),\n",
        " array([ 0,  0,  0,  0,  1,  0,  0,  0,  0,  0,  0,  0,  0,  0,  0,  0,  0,\n",
        "         0, -1,  0]))"
       ]
      }
     ],
     "prompt_number": 19
    },
    {
     "cell_type": "code",
     "collapsed": false,
     "input": [
      "unigram_sdtm.select_columns(np.abs(d12) + np.abs(d13) > 0).select_rows(range(3)).to_pandas_df"
     ],
     "language": "python",
     "metadata": {
      "slideshow": {
       "slide_type": "subslide"
      }
     },
     "outputs": [
      {
       "html": [
        "<div style=\"max-height:1000px;max-width:1500px;overflow:auto;\">\n",
        "<table border=\"1\" class=\"dataframe\">\n",
        "  <thead>\n",
        "    <tr style=\"text-align: right;\">\n",
        "      <th></th>\n",
        "      <th>\u597d</th>\n",
        "      <th>\u721b</th>\n",
        "      <th>\u8b9a</th>\n",
        "    </tr>\n",
        "  </thead>\n",
        "  <tbody>\n",
        "    <tr>\n",
        "      <th>0</th>\n",
        "      <td> 1</td>\n",
        "      <td> 0</td>\n",
        "      <td> 0</td>\n",
        "    </tr>\n",
        "    <tr>\n",
        "      <th>1</th>\n",
        "      <td> 0</td>\n",
        "      <td> 1</td>\n",
        "      <td> 0</td>\n",
        "    </tr>\n",
        "    <tr>\n",
        "      <th>2</th>\n",
        "      <td> 0</td>\n",
        "      <td> 0</td>\n",
        "      <td> 1</td>\n",
        "    </tr>\n",
        "  </tbody>\n",
        "</table>\n",
        "<p>3 rows \u00d7 3 columns</p>\n",
        "</div>"
       ],
       "metadata": {},
       "output_type": "pyout",
       "prompt_number": 30,
       "text": [
        "   \u597d  \u721b  \u8b9a\n",
        "0  1  0  0\n",
        "1  0  1  0\n",
        "2  0  0  1\n",
        "\n",
        "[3 rows x 3 columns]"
       ]
      }
     ],
     "prompt_number": 30
    },
    {
     "cell_type": "markdown",
     "metadata": {
      "slideshow": {
       "slide_type": "subslide"
      }
     },
     "source": [
      "# Compute original dist(v1,v2) = ?"
     ]
    },
    {
     "cell_type": "code",
     "collapsed": false,
     "input": [
      "#M0 = np.eye((vec[0] - vec[1]).shape)\n",
      "((d12**2).sum() / float(n))**0.5"
     ],
     "language": "python",
     "metadata": {},
     "outputs": [
      {
       "metadata": {},
       "output_type": "pyout",
       "prompt_number": 31,
       "text": [
        "0.31622776601683794"
       ]
      }
     ],
     "prompt_number": 31
    },
    {
     "cell_type": "markdown",
     "metadata": {
      "slideshow": {
       "slide_type": "subslide"
      }
     },
     "source": [
      "# Compute the Norm in another way ... \n",
      "### $$ < v_1 - v_2 | M | v_1 - v_2 >  =  tr( M | v_1 - v_2 > < v_1 - v_2 |) $$"
     ]
    },
    {
     "cell_type": "code",
     "collapsed": false,
     "input": [
      "M = np.eye(n)\n",
      "print np.dot(np.dot(d12,M),d12)\n",
      "print (np.trace(M*d12.reshape(1,n)*d12.reshape(n,1))/ float(n))**0.5\n",
      "print (np.dot(np.dot(d12,M),d12)/ float(n))**0.5"
     ],
     "language": "python",
     "metadata": {},
     "outputs": [
      {
       "output_type": "stream",
       "stream": "stdout",
       "text": [
        "2.0\n",
        "0.316227766017\n",
        "0.316227766017\n"
       ]
      }
     ],
     "prompt_number": 32
    },
    {
     "cell_type": "markdown",
     "metadata": {
      "slideshow": {
       "slide_type": "subslide"
      }
     },
     "source": [
      "# Change another metric ... "
     ]
    },
    {
     "cell_type": "markdown",
     "metadata": {
      "slideshow": {
       "slide_type": "subslide"
      }
     },
     "source": [
      "# Get smaller distance ... (Pull Data together)"
     ]
    },
    {
     "cell_type": "code",
     "collapsed": false,
     "input": [
      "M = np.abs(d12).reshape(1,n)*np.abs(d12).reshape(n,1)\n",
      "print np.dot(np.dot(d12,M),d12)\n",
      "(np.dot(np.dot(d12,M),d12)/ float(n))**0.5"
     ],
     "language": "python",
     "metadata": {},
     "outputs": [
      {
       "output_type": "stream",
       "stream": "stdout",
       "text": [
        "0\n"
       ]
      },
      {
       "metadata": {},
       "output_type": "pyout",
       "prompt_number": 33,
       "text": [
        "0.0"
       ]
      }
     ],
     "prompt_number": 33
    },
    {
     "cell_type": "markdown",
     "metadata": {
      "slideshow": {
       "slide_type": "subslide"
      }
     },
     "source": [
      "# Get larger distance ... (Push Data each other)"
     ]
    },
    {
     "cell_type": "code",
     "collapsed": false,
     "input": [
      "M = d12.reshape(1,n)*d12.reshape(n,1)\n",
      "print np.dot(np.dot(d12,M),d12)\n",
      "(np.dot(np.dot(d12,M),d12)/ float(n))**0.5"
     ],
     "language": "python",
     "metadata": {},
     "outputs": [
      {
       "output_type": "stream",
       "stream": "stdout",
       "text": [
        "4\n"
       ]
      },
      {
       "metadata": {},
       "output_type": "pyout",
       "prompt_number": 34,
       "text": [
        "0.44721359549995793"
       ]
      }
     ],
     "prompt_number": 34
    },
    {
     "cell_type": "markdown",
     "metadata": {
      "slideshow": {
       "slide_type": "subslide"
      }
     },
     "source": [
      "# Intuitively, we think ... \n",
      "\n",
      "- # dist( good, bad ) ~ larger \n",
      "- # dist( good, great ) ~ smaller"
     ]
    },
    {
     "cell_type": "code",
     "collapsed": false,
     "input": [
      "ML12 = diff.reshape(1,n)*d12.reshape(n,1)\n",
      "MS13 = np.abs(d13).reshape(1,n)*np.abs(d13).reshape(n,1)\n",
      "p12 = 0.5\n",
      "M = p12*ML12 + (1-p12)*MS13"
     ],
     "language": "python",
     "metadata": {},
     "outputs": [],
     "prompt_number": 39
    },
    {
     "cell_type": "code",
     "collapsed": false,
     "input": [
      "print (np.dot(np.dot(d12,M),d12)/ float(n))**0.5\n",
      "print (np.dot(np.dot(d13,M),d13)/ float(n))**0.5"
     ],
     "language": "python",
     "metadata": {},
     "outputs": [
      {
       "output_type": "stream",
       "stream": "stdout",
       "text": [
        "0.353553390593\n",
        "0.158113883008\n"
       ]
      }
     ],
     "prompt_number": 40
    },
    {
     "cell_type": "markdown",
     "metadata": {
      "slideshow": {
       "slide_type": "subslide"
      }
     },
     "source": [
      "# It is just like ...... \n",
      "\n",
      "<img src=\"littlemargin4.png\" style=\"width:600px\" />\n"
     ]
    },
    {
     "cell_type": "markdown",
     "metadata": {
      "slideshow": {
       "slide_type": "subslide"
      }
     },
     "source": [
      "# The Metric is also like the eyes of the model ... "
     ]
    },
    {
     "cell_type": "markdown",
     "metadata": {
      "slideshow": {
       "slide_type": "fragment"
      }
     },
     "source": [
      "# Which can help you to break through the blindness of models\n",
      "\n",
      "<img src=\"COSCUP_R_Pic8.jpg\" style=\"width:600px\" />\n"
     ]
    },
    {
     "cell_type": "markdown",
     "metadata": {
      "slideshow": {
       "slide_type": "slide"
      }
     },
     "source": [
      "# How to breack through the Limitations ?"
     ]
    },
    {
     "cell_type": "markdown",
     "metadata": {
      "slideshow": {
       "slide_type": "fragment"
      }
     },
     "source": [
      "- ## Semi-supervised Learning"
     ]
    },
    {
     "cell_type": "markdown",
     "metadata": {
      "slideshow": {
       "slide_type": "fragment"
      }
     },
     "source": [
      "- ## Learning the Metric from Data "
     ]
    },
    {
     "cell_type": "markdown",
     "metadata": {
      "slideshow": {
       "slide_type": "slide"
      }
     },
     "source": [
      "# Tw Example of Metric Learning (LMNN) ... \n",
      "\n",
      "### Ref: http://nbviewer.ipython.org/gist/iglesias/6576096"
     ]
    },
    {
     "cell_type": "markdown",
     "metadata": {
      "slideshow": {
       "slide_type": "subslide"
      }
     },
     "source": [
      "# Example 1 \n",
      "\n",
      "<img src=\"metric1.png\" style=\"width:480px\" />\n",
      "\n"
     ]
    },
    {
     "cell_type": "markdown",
     "metadata": {},
     "source": [
      "# Change Metric in Example 1 :\n",
      "\n",
      "<img src=\"metric2.png\" style=\"width:480px\" />\n"
     ]
    },
    {
     "cell_type": "markdown",
     "metadata": {},
     "source": [
      "# The Transformation from ... \n",
      "\n",
      "## Decomposition of Semi-positive Definite Matrix $$ M = L^T L $$\n",
      "\n",
      "<img src=\"metric3.png\" style=\"width:480px\" />\n"
     ]
    },
    {
     "cell_type": "markdown",
     "metadata": {},
     "source": [
      "# Example 2 :\n",
      "\n",
      "<img src=\"metric4.png\" style=\"width:480px\" />\n"
     ]
    },
    {
     "cell_type": "markdown",
     "metadata": {},
     "source": [
      "# Example 2 :\n",
      "\n",
      "<img src=\"metric5.png\" style=\"width:960px\" />\n"
     ]
    },
    {
     "cell_type": "markdown",
     "metadata": {
      "slideshow": {
       "slide_type": "subslide"
      }
     },
     "source": [
      "# Fortunately Python has a LMNN solver interface ... \n",
      "\n",
      "<img src=\"shogun.png\" style=\"width:600px\" />\n"
     ]
    },
    {
     "cell_type": "markdown",
     "metadata": {
      "slideshow": {
       "slide_type": "subslide"
      }
     },
     "source": [
      "# As a model Hacker ... "
     ]
    },
    {
     "cell_type": "markdown",
     "metadata": {
      "slideshow": {
       "slide_type": "fragment"
      }
     },
     "source": [
      "# You might always want to build a solver by yourself ... "
     ]
    },
    {
     "cell_type": "markdown",
     "metadata": {
      "slideshow": {
       "slide_type": "subslide"
      }
     },
     "source": [
      "# Using cvxopt package ... you can solve LMNN ... "
     ]
    },
    {
     "cell_type": "code",
     "collapsed": false,
     "input": [
      "import numpy as np\n",
      "from cvxopt import matrix, solvers\n",
      "\n",
      "diff = np.array([[1.,-1.]])\n",
      "n = diff.shape[1]\n",
      "diff"
     ],
     "language": "python",
     "metadata": {},
     "outputs": [
      {
       "metadata": {},
       "output_type": "pyout",
       "prompt_number": 42,
       "text": [
        "array([[ 1., -1.]])"
       ]
      }
     ],
     "prompt_number": 42
    },
    {
     "cell_type": "code",
     "collapsed": false,
     "input": [
      "c = matrix((diff.T*diff).T.reshape(1,n**2)).T\n",
      "G = matrix(np.c_[-(diff.T*diff).T.reshape(1,n**2).T, -np.eye(n**2)]).T\n",
      "h = matrix(np.r_[0,np.zeros(n**2)].T)\n",
      "dims = {'l': 1, 'q': [], 's': [n]}\n",
      "A = matrix(np.array([[0.,1.,-1.,0.]]))\n",
      "b = matrix(0.)\n",
      "sol = solvers.conelp(c,G,h,dims,A,b)"
     ],
     "language": "python",
     "metadata": {},
     "outputs": [
      {
       "output_type": "stream",
       "stream": "stdout",
       "text": [
        "     pcost       dcost       gap    pres   dres   k/t\n",
        " 0:  0.0000e+00 -0.0000e+00  4e+00  2e+00  2e+00  1e+00\n",
        " 1:  2.5363e-02 -0.0000e+00  9e-02  5e-02  5e-02  6e-03\n",
        " 2:  2.3774e-04 -0.0000e+00  8e-04  5e-04  5e-04  7e-05\n",
        " 3:  2.3764e-06 -0.0000e+00  8e-06  5e-06  5e-06  7e-07\n",
        " 4:  2.3764e-08 -0.0000e+00  8e-08  5e-08  5e-08  7e-09\n",
        "Optimal solution found.\n"
       ]
      }
     ],
     "prompt_number": 51
    },
    {
     "cell_type": "markdown",
     "metadata": {
      "slideshow": {
       "slide_type": "subslide"
      }
     },
     "source": [
      "# Checking the results:"
     ]
    },
    {
     "cell_type": "code",
     "collapsed": false,
     "input": [
      "print c.T*sol[\"x\"]"
     ],
     "language": "python",
     "metadata": {
      "slideshow": {
       "slide_type": "-"
      }
     },
     "outputs": [
      {
       "output_type": "stream",
       "stream": "stdout",
       "text": [
        "[ 2.38e-08]\n",
        "\n"
       ]
      }
     ],
     "prompt_number": 53
    },
    {
     "cell_type": "code",
     "collapsed": false,
     "input": [
      "np.array(sol[\"x\"]).reshape(n,n)"
     ],
     "language": "python",
     "metadata": {},
     "outputs": [
      {
       "metadata": {},
       "output_type": "pyout",
       "prompt_number": 55,
       "text": [
        "array([[ 0.27797242,  0.27797241],\n",
        "       [ 0.27797241,  0.27797242]])"
       ]
      }
     ],
     "prompt_number": 55
    },
    {
     "cell_type": "markdown",
     "metadata": {
      "slideshow": {
       "slide_type": "slide"
      }
     },
     "source": [
      "# Finally ... I would like to say again ... "
     ]
    },
    {
     "cell_type": "markdown",
     "metadata": {
      "slideshow": {
       "slide_type": "fragment"
      }
     },
     "source": [
      "# hacking models IS NOT hack the models"
     ]
    },
    {
     "cell_type": "markdown",
     "metadata": {
      "slideshow": {
       "slide_type": "fragment"
      }
     },
     "source": [
      "# It is hacking the view of point "
     ]
    },
    {
     "cell_type": "markdown",
     "metadata": {
      "slideshow": {
       "slide_type": "fragment"
      }
     },
     "source": [
      "# Hacking the Evaluators in our mind ..."
     ]
    },
    {
     "cell_type": "markdown",
     "metadata": {
      "slideshow": {
       "slide_type": "subslide"
      }
     },
     "source": [
      "## Hope everyone can break through the limitation (blind spots) of models ... \n",
      "\n",
      "<img src=\"COSCUP_R_Pic8.jpg\" style=\"width:400px\" />"
     ]
    },
    {
     "cell_type": "markdown",
     "metadata": {
      "slideshow": {
       "slide_type": "subslide"
      }
     },
     "source": [
      "# Thanks for your attention !!"
     ]
    }
   ],
   "metadata": {}
  }
 ]
}