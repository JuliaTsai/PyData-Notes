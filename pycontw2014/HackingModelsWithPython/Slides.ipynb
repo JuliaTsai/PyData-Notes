{
 "metadata": {
  "celltoolbar": "Slideshow",
  "name": "",
  "signature": "sha256:91d478865fdd1a1a4ce386825aac742aeaa58d79bc983a808ed99676a91aab7e"
 },
 "nbformat": 3,
 "nbformat_minor": 0,
 "worksheets": [
  {
   "cells": [
    {
     "cell_type": "markdown",
     "metadata": {
      "slideshow": {
       "slide_type": "slide"
      }
     },
     "source": [
      "# Hacking Models With Python"
     ]
    },
    {
     "cell_type": "markdown",
     "metadata": {},
     "source": [
      "## Chia-Chi Chang"
     ]
    },
    {
     "cell_type": "code",
     "collapsed": false,
     "input": [
      "%%R\n",
      "#sample1_x <- runif(100, -5, 5)\n",
      "#sample1_y <- sample1_x + rnorm(100) + 3\n",
      "#lm_line_data=data.frame(x=sample1_x, y=sample1_y)\n",
      "load(\"lm_line_data.RData\")\n",
      "sample1_x <- lm_line_data$x\n",
      "sample1_y <- lm_line_data$y\n",
      "par(mfrow=c(1,1))\n",
      "plot(lm_line_data)"
     ],
     "language": "python",
     "metadata": {},
     "outputs": [
      {
       "output_type": "stream",
       "stream": "stderr",
       "text": [
        "ERROR: Cell magic `%%R` not found.\n"
       ]
      }
     ],
     "prompt_number": 1
    },
    {
     "cell_type": "code",
     "collapsed": false,
     "input": [],
     "language": "python",
     "metadata": {},
     "outputs": []
    }
   ],
   "metadata": {}
  }
 ]
}