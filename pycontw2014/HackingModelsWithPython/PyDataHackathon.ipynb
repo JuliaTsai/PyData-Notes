{
 "metadata": {
  "celltoolbar": "Slideshow",
  "name": "",
  "signature": "sha256:fcba2026eb37ddf45bf3547ebdcc2434e25e2f0b400b1da2d68100dea302f235"
 },
 "nbformat": 3,
 "nbformat_minor": 0,
 "worksheets": [
  {
   "cells": [
    {
     "cell_type": "markdown",
     "metadata": {
      "slideshow": {
       "slide_type": "slide"
      }
     },
     "source": [
      "# PyData Hackathon\n",
      "\n",
      "## in Taipei"
     ]
    },
    {
     "cell_type": "markdown",
     "metadata": {
      "slideshow": {
       "slide_type": "subslide"
      }
     },
     "source": [
      "# Two Tracks:"
     ]
    },
    {
     "cell_type": "markdown",
     "metadata": {
      "slideshow": {
       "slide_type": "fragment"
      }
     },
     "source": [
      "- ## Data Track: Playing Medium and Large Scale Data"
     ]
    },
    {
     "cell_type": "markdown",
     "metadata": {
      "slideshow": {
       "slide_type": "fragment"
      }
     },
     "source": [
      "- ## Package Track: Building the Tools for Medium and Large Scale Data"
     ]
    },
    {
     "cell_type": "markdown",
     "metadata": {
      "slideshow": {
       "slide_type": "slide"
      }
     },
     "source": [
      "# Data Track:\n",
      "\n",
      "- ## Kaggle: http://www.kaggle.com/competitions\n",
      "- ## News & PTT Data (Text Mining): https://github.com/c3h3/PlaYnlp-Corpus\n",
      "- ## High Frequency Data (Stock/Future/Options) ... "
     ]
    },
    {
     "cell_type": "markdown",
     "metadata": {
      "slideshow": {
       "slide_type": "slide"
      }
     },
     "source": [
      "# Package Track: \n",
      "\n",
      "- ## [dev] SparseDataFrame / SparsePivotTable\n",
      "- ## [dev] Large Scale Distance-Based NLP Package \n",
      "- ## Large Scale Bayesian Network Package \n",
      "- ## [dev] Parallel Metric Learning & Application \n",
      "- ## Anything can help you do a good job on Data Track ... ?"
     ]
    },
    {
     "cell_type": "markdown",
     "metadata": {
      "slideshow": {
       "slide_type": "slide"
      }
     },
     "source": [
      "# Welcome to join us ... "
     ]
    },
    {
     "cell_type": "markdown",
     "metadata": {
      "slideshow": {
       "slide_type": "fragment"
      }
     },
     "source": [
      "- ## But ... it's an advanced hackathon ... "
     ]
    },
    {
     "cell_type": "markdown",
     "metadata": {
      "slideshow": {
       "slide_type": "fragment"
      }
     },
     "source": [
      "- ## There is no tutorial session ... just learning from hacking ...\n"
     ]
    },
    {
     "cell_type": "markdown",
     "metadata": {
      "slideshow": {
       "slide_type": "fragment"
      }
     },
     "source": [
      "- ## We hack both the data / package / math problems ... "
     ]
    },
    {
     "cell_type": "markdown",
     "metadata": {
      "slideshow": {
       "slide_type": "fragment"
      }
     },
     "source": [
      "- ## Please make sure you have some friends in it ... and you can discuss and hacking things with them ... \n"
     ]
    },
    {
     "cell_type": "markdown",
     "metadata": {
      "slideshow": {
       "slide_type": "slide"
      }
     },
     "source": [
      "# Thank for your Attention !!!"
     ]
    }
   ],
   "metadata": {}
  }
 ]
}