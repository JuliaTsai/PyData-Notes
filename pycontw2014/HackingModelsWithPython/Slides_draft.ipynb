{
 "metadata": {
  "celltoolbar": "Slideshow",
  "name": "",
  "signature": "sha256:ec153db04345721be4cf3212cff2edfb0275132caa3977f3e3835d4a958a61bf"
 },
 "nbformat": 3,
 "nbformat_minor": 0,
 "worksheets": [
  {
   "cells": [
    {
     "cell_type": "markdown",
     "metadata": {
      "slideshow": {
       "slide_type": "slide"
      }
     },
     "source": [
      "# Hacking Models With Python"
     ]
    },
    {
     "cell_type": "markdown",
     "metadata": {},
     "source": [
      "## Chia-Chi Chang"
     ]
    },
    {
     "cell_type": "markdown",
     "metadata": {
      "slideshow": {
       "slide_type": "subslide"
      }
     },
     "source": [
      "# Outline:\n",
      "\n",
      "- ## Metaphor of Painting \n",
      "- ## Data, Model, Evaluator \n",
      "- ## Direct Problem: Data + Evaluators => Model\n",
      "- ## Inverse Problem: Data + Models => Evaluator\n",
      "- ## Hacking the Evaluator ... Hacking the Problems\n",
      "- ## The Key Role in Evaluator: Metric \n",
      "- ## Metric Learning \n",
      "- ## The Limitation of Supervised Learning \n",
      "- ## The Limitation of Unsupervised Learning \n",
      "- ## Semi-Supervised With Metric Learning \n",
      "\n",
      "- ## Hacking Models with Metric Learning\n",
      "- ## Examples fo Computing Distances\n",
      "\n",
      "\n"
     ]
    },
    {
     "cell_type": "markdown",
     "metadata": {},
     "source": []
    },
    {
     "cell_type": "markdown",
     "metadata": {},
     "source": [
      "# minuend \u2212 subtrahend =\tdifference\n",
      "\n",
      "# http://en.wikipedia.org/wiki/Subtraction"
     ]
    },
    {
     "cell_type": "markdown",
     "metadata": {},
     "source": []
    },
    {
     "cell_type": "code",
     "collapsed": false,
     "input": [
      "import numpy as np"
     ],
     "language": "python",
     "metadata": {},
     "outputs": [],
     "prompt_number": 1
    },
    {
     "cell_type": "code",
     "collapsed": false,
     "input": [
      "np.array([[1.,-1.]])"
     ],
     "language": "python",
     "metadata": {},
     "outputs": [
      {
       "metadata": {},
       "output_type": "pyout",
       "prompt_number": 3,
       "text": [
        "array([[ 1., -1.]])"
       ]
      }
     ],
     "prompt_number": 3
    },
    {
     "cell_type": "code",
     "collapsed": false,
     "input": [
      "(np.array([[1.,-1.]]).T*np.array([[1.,-1.]])).reshape(1,4)"
     ],
     "language": "python",
     "metadata": {},
     "outputs": [
      {
       "metadata": {},
       "output_type": "pyout",
       "prompt_number": 6,
       "text": [
        "array([[ 1., -1., -1.,  1.]])"
       ]
      }
     ],
     "prompt_number": 6
    },
    {
     "cell_type": "code",
     "collapsed": false,
     "input": [
      "(np.array([[1.,0.]]).T*np.array([[1.,0.]])).reshape(1,4)"
     ],
     "language": "python",
     "metadata": {},
     "outputs": [
      {
       "metadata": {},
       "output_type": "pyout",
       "prompt_number": 7,
       "text": [
        "array([[ 1.,  0.,  0.,  0.]])"
       ]
      }
     ],
     "prompt_number": 7
    },
    {
     "cell_type": "code",
     "collapsed": false,
     "input": [
      "(np.array([[0.,1.]]).T*np.array([[1.,0.]])).reshape(1,4)"
     ],
     "language": "python",
     "metadata": {},
     "outputs": [
      {
       "metadata": {},
       "output_type": "pyout",
       "prompt_number": 8,
       "text": [
        "array([[ 0.,  0.,  1.,  0.]])"
       ]
      }
     ],
     "prompt_number": 8
    },
    {
     "cell_type": "code",
     "collapsed": false,
     "input": [
      "M = np.array([[1.,-1.]]).T*np.array([[1.,-1.]])"
     ],
     "language": "python",
     "metadata": {},
     "outputs": [],
     "prompt_number": 9
    },
    {
     "cell_type": "code",
     "collapsed": false,
     "input": [
      "M[M.nonzero()]"
     ],
     "language": "python",
     "metadata": {},
     "outputs": [
      {
       "metadata": {},
       "output_type": "pyout",
       "prompt_number": 17,
       "text": [
        "array([ 1., -1., -1.,  1.])"
       ]
      }
     ],
     "prompt_number": 17
    },
    {
     "cell_type": "code",
     "collapsed": false,
     "input": [
      "np.eye(4)"
     ],
     "language": "python",
     "metadata": {},
     "outputs": [
      {
       "metadata": {},
       "output_type": "pyout",
       "prompt_number": 18,
       "text": [
        "array([[ 1.,  0.,  0.,  0.],\n",
        "       [ 0.,  1.,  0.,  0.],\n",
        "       [ 0.,  0.,  1.,  0.],\n",
        "       [ 0.,  0.,  0.,  1.]])"
       ]
      }
     ],
     "prompt_number": 18
    },
    {
     "cell_type": "code",
     "collapsed": false,
     "input": [
      "np.array([[1.,2.],[3.,4.]])"
     ],
     "language": "python",
     "metadata": {},
     "outputs": [
      {
       "metadata": {},
       "output_type": "pyout",
       "prompt_number": 22,
       "text": [
        "array([[ 1.,  2.],\n",
        "       [ 3.,  4.]])"
       ]
      }
     ],
     "prompt_number": 22
    },
    {
     "cell_type": "code",
     "collapsed": false,
     "input": [
      "np.array([[1.,2.],[3.,4.]]).T.reshape(4,1)"
     ],
     "language": "python",
     "metadata": {},
     "outputs": [
      {
       "metadata": {},
       "output_type": "pyout",
       "prompt_number": 24,
       "text": [
        "array([[ 1.],\n",
        "       [ 3.],\n",
        "       [ 2.],\n",
        "       [ 4.]])"
       ]
      }
     ],
     "prompt_number": 24
    },
    {
     "cell_type": "code",
     "collapsed": false,
     "input": [
      "from cvxopt import matrix, solvers"
     ],
     "language": "python",
     "metadata": {},
     "outputs": [],
     "prompt_number": 25
    },
    {
     "cell_type": "code",
     "collapsed": false,
     "input": [
      "Target = np.array([[1.,2.],[3.,4.]])\n",
      "Target"
     ],
     "language": "python",
     "metadata": {},
     "outputs": [
      {
       "metadata": {},
       "output_type": "pyout",
       "prompt_number": 71,
       "text": [
        "array([[ 1.,  2.],\n",
        "       [ 3.,  4.]])"
       ]
      }
     ],
     "prompt_number": 71
    },
    {
     "cell_type": "code",
     "collapsed": false,
     "input": [
      "q = matrix(-Target.T.reshape(1,4)).T\n",
      "print q"
     ],
     "language": "python",
     "metadata": {},
     "outputs": [
      {
       "output_type": "stream",
       "stream": "stdout",
       "text": [
        "[-1.00e+00]\n",
        "[-3.00e+00]\n",
        "[-2.00e+00]\n",
        "[-4.00e+00]\n",
        "\n"
       ]
      }
     ],
     "prompt_number": 72
    },
    {
     "cell_type": "code",
     "collapsed": false,
     "input": [
      "N=2"
     ],
     "language": "python",
     "metadata": {},
     "outputs": [],
     "prompt_number": 73
    },
    {
     "cell_type": "code",
     "collapsed": false,
     "input": [
      "P = matrix(np.eye(N**2))\n",
      "print P"
     ],
     "language": "python",
     "metadata": {},
     "outputs": [
      {
       "output_type": "stream",
       "stream": "stdout",
       "text": [
        "[ 1.00e+00  0.00e+00  0.00e+00  0.00e+00]\n",
        "[ 0.00e+00  1.00e+00  0.00e+00  0.00e+00]\n",
        "[ 0.00e+00  0.00e+00  1.00e+00  0.00e+00]\n",
        "[ 0.00e+00  0.00e+00  0.00e+00  1.00e+00]\n",
        "\n"
       ]
      }
     ],
     "prompt_number": 74
    },
    {
     "cell_type": "code",
     "collapsed": false,
     "input": [
      "G = matrix(-np.eye(N**2))\n",
      "print G"
     ],
     "language": "python",
     "metadata": {},
     "outputs": [
      {
       "output_type": "stream",
       "stream": "stdout",
       "text": [
        "[-1.00e+00 -0.00e+00 -0.00e+00 -0.00e+00]\n",
        "[-0.00e+00 -1.00e+00 -0.00e+00 -0.00e+00]\n",
        "[-0.00e+00 -0.00e+00 -1.00e+00 -0.00e+00]\n",
        "[-0.00e+00 -0.00e+00 -0.00e+00 -1.00e+00]\n",
        "\n"
       ]
      }
     ],
     "prompt_number": 75
    },
    {
     "cell_type": "code",
     "collapsed": false,
     "input": [
      "h = matrix(np.zeros(N**2))\n",
      "print h"
     ],
     "language": "python",
     "metadata": {},
     "outputs": [
      {
       "output_type": "stream",
       "stream": "stdout",
       "text": [
        "[ 0.00e+00]\n",
        "[ 0.00e+00]\n",
        "[ 0.00e+00]\n",
        "[ 0.00e+00]\n",
        "\n"
       ]
      }
     ],
     "prompt_number": 76
    },
    {
     "cell_type": "code",
     "collapsed": false,
     "input": [
      "dims = {'l': 0, 'q': [], 's': [N]}\n",
      "dims"
     ],
     "language": "python",
     "metadata": {},
     "outputs": [
      {
       "metadata": {},
       "output_type": "pyout",
       "prompt_number": 77,
       "text": [
        "{'l': 0, 'q': [], 's': [2]}"
       ]
      }
     ],
     "prompt_number": 77
    },
    {
     "cell_type": "code",
     "collapsed": false,
     "input": [
      "sol = solvers.coneqp(P,q,G,h,dims)\n",
      "print sol[\"x\"]"
     ],
     "language": "python",
     "metadata": {},
     "outputs": [
      {
       "output_type": "stream",
       "stream": "stdout",
       "text": [
        "     pcost       dcost       gap    pres   dres\n",
        " 0: -1.0875e+01 -1.3375e+01  7e+00  1e+00  9e-01\n",
        " 1: -1.4323e+01 -1.4912e+01  6e-01  1e-02  9e-03\n",
        " 2: -1.4692e+01 -1.4744e+01  5e-02  9e-16  2e-16\n",
        " 3: -1.4737e+01 -1.4739e+01  1e-03  3e-15  7e-17\n",
        " 4: -1.4738e+01 -1.4738e+01  1e-04  9e-16  4e-17\n",
        " 5: -1.4738e+01 -1.4738e+01  2e-06  3e-15  4e-17\n",
        "Optimal solution found.\n",
        "[ 1.46e+00]\n",
        "[ 2.46e+00]\n",
        "[ 2.00e+00]\n",
        "[ 4.16e+00]\n",
        "\n"
       ]
      }
     ],
     "prompt_number": 79
    },
    {
     "cell_type": "code",
     "collapsed": false,
     "input": [
      "np.array(sol[\"x\"]).reshape(N,N).T"
     ],
     "language": "python",
     "metadata": {},
     "outputs": [
      {
       "metadata": {},
       "output_type": "pyout",
       "prompt_number": 81,
       "text": [
        "array([[ 1.45550495,  2.        ],\n",
        "       [ 2.46058048,  4.15969856]])"
       ]
      }
     ],
     "prompt_number": 81
    },
    {
     "cell_type": "code",
     "collapsed": false,
     "input": [],
     "language": "python",
     "metadata": {},
     "outputs": []
    },
    {
     "cell_type": "code",
     "collapsed": false,
     "input": [
      "diff = np.array([[1.,-1.]])\n",
      "n = diff.shape[1]\n",
      "print diff,n\n",
      "\n",
      "reg = matrix(-np.eye(n).T.reshape(n**2))\n",
      "reg"
     ],
     "language": "python",
     "metadata": {},
     "outputs": [
      {
       "output_type": "stream",
       "stream": "stdout",
       "text": [
        "[[ 1. -1.]] 2\n"
       ]
      },
      {
       "metadata": {},
       "output_type": "pyout",
       "prompt_number": 158,
       "text": [
        "<4x1 matrix, tc='d'>"
       ]
      }
     ],
     "prompt_number": 158
    },
    {
     "cell_type": "code",
     "collapsed": false,
     "input": [
      "c = matrix((diff.T*diff).T.reshape(1,n**2)).T\n",
      "print c"
     ],
     "language": "python",
     "metadata": {},
     "outputs": [
      {
       "output_type": "stream",
       "stream": "stdout",
       "text": [
        "[ 1.00e+00]\n",
        "[-1.00e+00]\n",
        "[-1.00e+00]\n",
        "[ 1.00e+00]\n",
        "\n"
       ]
      }
     ],
     "prompt_number": 165
    },
    {
     "cell_type": "code",
     "collapsed": false,
     "input": [
      "G = matrix(np.c_[-np.zeros(n*2),-(diff.T*diff).T.reshape(1,n**2).T, -np.eye(n**2)]).T\n",
      "print G"
     ],
     "language": "python",
     "metadata": {},
     "outputs": [
      {
       "output_type": "stream",
       "stream": "stdout",
       "text": [
        "[ 0.00e+00  0.00e+00  0.00e+00  0.00e+00]\n",
        "[-1.00e+00  1.00e+00  1.00e+00 -1.00e+00]\n",
        "[-1.00e+00 -0.00e+00 -0.00e+00 -0.00e+00]\n",
        "[-0.00e+00 -1.00e+00 -0.00e+00 -0.00e+00]\n",
        "[-0.00e+00 -0.00e+00 -1.00e+00 -0.00e+00]\n",
        "[-0.00e+00 -0.00e+00 -0.00e+00 -1.00e+00]\n",
        "\n"
       ]
      }
     ],
     "prompt_number": 239
    },
    {
     "cell_type": "code",
     "collapsed": false,
     "input": [],
     "language": "python",
     "metadata": {},
     "outputs": [],
     "prompt_number": 248
    },
    {
     "cell_type": "code",
     "collapsed": false,
     "input": [
      "h = matrix(np.r_[0,0,np.zeros(n**2)].T)\n",
      "print h"
     ],
     "language": "python",
     "metadata": {},
     "outputs": [
      {
       "output_type": "stream",
       "stream": "stdout",
       "text": [
        "[ 0.00e+00]\n",
        "[ 0.00e+00]\n",
        "[ 0.00e+00]\n",
        "[ 0.00e+00]\n",
        "[ 0.00e+00]\n",
        "[ 0.00e+00]\n",
        "\n"
       ]
      }
     ],
     "prompt_number": 259
    },
    {
     "cell_type": "code",
     "collapsed": false,
     "input": [
      "dims = {'l': 0, 'q': [1+1], 's': [n]}\n",
      "dims"
     ],
     "language": "python",
     "metadata": {},
     "outputs": [
      {
       "metadata": {},
       "output_type": "pyout",
       "prompt_number": 260,
       "text": [
        "{'l': 0, 'q': [2], 's': [2]}"
       ]
      }
     ],
     "prompt_number": 260
    },
    {
     "cell_type": "code",
     "collapsed": false,
     "input": [
      "A = matrix(np.array([[0.,1.,-1.,0.]]))\n",
      "print A\n",
      "b = matrix(0.)\n",
      "print b"
     ],
     "language": "python",
     "metadata": {},
     "outputs": [
      {
       "output_type": "stream",
       "stream": "stdout",
       "text": [
        "[ 0.00e+00  1.00e+00 -1.00e+00  0.00e+00]\n",
        "\n",
        "[ 0.00e+00]\n",
        "\n"
       ]
      }
     ],
     "prompt_number": 261
    },
    {
     "cell_type": "code",
     "collapsed": false,
     "input": [
      "sol = solvers.conelp(-c,G,h,dims,A,b)\n",
      "print sol[\"x\"]"
     ],
     "language": "python",
     "metadata": {},
     "outputs": [
      {
       "output_type": "stream",
       "stream": "stdout",
       "text": [
        "     pcost       dcost       gap    pres   dres   k/t\n",
        " 0:  0.0000e+00 -0.0000e+00  5e+00  2e+00  1e+00  1e+00\n",
        " 1: -1.2190e-02 -0.0000e+00  2e-01  4e-02  3e-02  4e-02\n",
        " 2: -1.2187e-04 -0.0000e+00  2e-03  4e-04  3e-04  4e-04\n",
        " 3: -1.2187e-06 -0.0000e+00  2e-05  4e-06  3e-06  4e-06\n",
        " 4: -1.2187e-08 -0.0000e+00  2e-07  4e-08  3e-08  4e-08\n",
        " 5: -1.2187e-10 -0.0000e+00  2e-09  4e-10  3e-10  4e-10\n",
        "Optimal solution found.\n",
        "[ 6.32e-01]\n",
        "[ 6.32e-01]\n",
        "[ 6.32e-01]\n",
        "[ 6.32e-01]\n",
        "\n"
       ]
      }
     ],
     "prompt_number": 271
    },
    {
     "cell_type": "code",
     "collapsed": false,
     "input": [
      "np.array(sol[\"x\"]).reshape(n,n).T"
     ],
     "language": "python",
     "metadata": {},
     "outputs": [
      {
       "metadata": {},
       "output_type": "pyout",
       "prompt_number": 272,
       "text": [
        "array([[ 0.632059,  0.632059],\n",
        "       [ 0.632059,  0.632059]])"
       ]
      }
     ],
     "prompt_number": 272
    },
    {
     "cell_type": "code",
     "collapsed": false,
     "input": [
      "print c"
     ],
     "language": "python",
     "metadata": {},
     "outputs": [
      {
       "output_type": "stream",
       "stream": "stdout",
       "text": [
        "[ 1.00e+00]\n",
        "[-1.00e+00]\n",
        "[-1.00e+00]\n",
        "[ 1.00e+00]\n",
        "\n"
       ]
      }
     ],
     "prompt_number": 273
    },
    {
     "cell_type": "code",
     "collapsed": false,
     "input": [
      "print c.T*sol[\"x\"]"
     ],
     "language": "python",
     "metadata": {},
     "outputs": [
      {
       "output_type": "stream",
       "stream": "stdout",
       "text": [
        "[ 1.22e-10]\n",
        "\n"
       ]
      }
     ],
     "prompt_number": 275
    },
    {
     "cell_type": "code",
     "collapsed": false,
     "input": [],
     "language": "python",
     "metadata": {},
     "outputs": [],
     "prompt_number": 274
    },
    {
     "cell_type": "code",
     "collapsed": false,
     "input": [],
     "language": "python",
     "metadata": {},
     "outputs": []
    },
    {
     "cell_type": "code",
     "collapsed": false,
     "input": [],
     "language": "python",
     "metadata": {},
     "outputs": []
    },
    {
     "cell_type": "markdown",
     "metadata": {},
     "source": []
    },
    {
     "cell_type": "markdown",
     "metadata": {},
     "source": []
    },
    {
     "cell_type": "markdown",
     "metadata": {},
     "source": []
    },
    {
     "cell_type": "markdown",
     "metadata": {},
     "source": []
    },
    {
     "cell_type": "markdown",
     "metadata": {},
     "source": []
    },
    {
     "cell_type": "markdown",
     "metadata": {},
     "source": []
    },
    {
     "cell_type": "markdown",
     "metadata": {},
     "source": []
    },
    {
     "cell_type": "code",
     "collapsed": false,
     "input": [
      "import nltk"
     ],
     "language": "python",
     "metadata": {},
     "outputs": [],
     "prompt_number": 1
    },
    {
     "cell_type": "code",
     "collapsed": false,
     "input": [
      "print nltk.word_tokenize(\"The weather is good today!\")\n",
      "print nltk.word_tokenize(\"The weather is great today!\")"
     ],
     "language": "python",
     "metadata": {},
     "outputs": [
      {
       "output_type": "stream",
       "stream": "stdout",
       "text": [
        "['The', 'weather', 'is', 'good', 'today', '!']\n",
        "['The', 'weather', 'is', 'great', 'today', '!']\n"
       ]
      }
     ],
     "prompt_number": 4
    },
    {
     "cell_type": "markdown",
     "metadata": {},
     "source": [
      "### http://www.nltk.org/book/ch03.html\n",
      "### http://stackoverflow.com/questions/17531684/n-grams-in-python-four-five-six-grams"
     ]
    },
    {
     "cell_type": "code",
     "collapsed": false,
     "input": [
      "from nltk.util import ngrams\n",
      "sentence = 'this is a foo bar sentences and i want to ngramize it'\n",
      "n = 6\n",
      "sixgrams = ngrams(sentence.split(), n)"
     ],
     "language": "python",
     "metadata": {},
     "outputs": [],
     "prompt_number": 5
    },
    {
     "cell_type": "code",
     "collapsed": false,
     "input": [],
     "language": "python",
     "metadata": {},
     "outputs": []
    },
    {
     "cell_type": "code",
     "collapsed": false,
     "input": [
      "sixgrams"
     ],
     "language": "python",
     "metadata": {},
     "outputs": [
      {
       "metadata": {},
       "output_type": "pyout",
       "prompt_number": 6,
       "text": [
        "[('this', 'is', 'a', 'foo', 'bar', 'sentences'),\n",
        " ('is', 'a', 'foo', 'bar', 'sentences', 'and'),\n",
        " ('a', 'foo', 'bar', 'sentences', 'and', 'i'),\n",
        " ('foo', 'bar', 'sentences', 'and', 'i', 'want'),\n",
        " ('bar', 'sentences', 'and', 'i', 'want', 'to'),\n",
        " ('sentences', 'and', 'i', 'want', 'to', 'ngramize'),\n",
        " ('and', 'i', 'want', 'to', 'ngramize', 'it')]"
       ]
      }
     ],
     "prompt_number": 6
    },
    {
     "cell_type": "code",
     "collapsed": false,
     "input": [],
     "language": "python",
     "metadata": {},
     "outputs": []
    },
    {
     "cell_type": "code",
     "collapsed": false,
     "input": [],
     "language": "python",
     "metadata": {},
     "outputs": []
    },
    {
     "cell_type": "markdown",
     "metadata": {},
     "source": [
      "\n",
      "# The Limitation of Machine Learning \n",
      "\n",
      "- ## \n"
     ]
    },
    {
     "cell_type": "markdown",
     "metadata": {},
     "source": [
      "break through\n"
     ]
    },
    {
     "cell_type": "markdown",
     "metadata": {},
     "source": []
    },
    {
     "cell_type": "markdown",
     "metadata": {},
     "source": []
    },
    {
     "cell_type": "markdown",
     "metadata": {},
     "source": []
    },
    {
     "cell_type": "markdown",
     "metadata": {},
     "source": []
    },
    {
     "cell_type": "markdown",
     "metadata": {},
     "source": []
    },
    {
     "cell_type": "markdown",
     "metadata": {},
     "source": []
    },
    {
     "cell_type": "markdown",
     "metadata": {},
     "source": []
    },
    {
     "cell_type": "markdown",
     "metadata": {},
     "source": []
    },
    {
     "cell_type": "markdown",
     "metadata": {},
     "source": []
    },
    {
     "cell_type": "markdown",
     "metadata": {},
     "source": []
    }
   ],
   "metadata": {}
  }
 ]
}